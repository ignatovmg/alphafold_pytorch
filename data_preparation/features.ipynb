{
 "cells": [
  {
   "cell_type": "code",
   "execution_count": 1,
   "metadata": {},
   "outputs": [
    {
     "name": "stderr",
     "output_type": "stream",
     "text": [
      "RDKit WARNING: [22:30:11] Enabling RDKit 2019.09.3 jupyter extensions\n"
     ]
    }
   ],
   "source": [
    "import pandas as pd\n",
    "import numpy as np\n",
    "from glob import glob\n",
    "from path import Path\n",
    "import json\n",
    "import seaborn as sns\n",
    "import prody\n",
    "from multiprocessing import Pool\n",
    "from tqdm import tqdm\n",
    "import itertools\n",
    "import json\n",
    "from rdkit import Chem\n",
    "from rdkit.Chem import AllChem\n",
    "from io import StringIO\n",
    "from collections import OrderedDict, Counter\n",
    "import traceback\n",
    "import urllib\n",
    "import pybel\n",
    "from copy import deepcopy\n",
    "from multiprocessing import Pool\n",
    "from pymol import cmd\n",
    "\n",
    "pd.set_option('display.max_columns', None)\n",
    "\n",
    "from pocketdock.ligand.ligand_expo import LigandExpo\n",
    "from pocketdock import utils\n",
    "from pocketdock import pdb_tools"
   ]
  },
  {
   "cell_type": "code",
   "execution_count": 2,
   "metadata": {},
   "outputs": [
    {
     "data": {
      "text/plain": [
       "20562"
      ]
     },
     "execution_count": 2,
     "metadata": {},
     "output_type": "execute_result"
    }
   ],
   "source": [
    "case_jsons = sorted(Path('data/cases').glob('*/case.json'))\n",
    "len(case_jsons)"
   ]
  },
  {
   "cell_type": "code",
   "execution_count": 3,
   "metadata": {},
   "outputs": [
    {
     "data": {
      "text/plain": [
       "Path('data/cases/10GS_A/case.json')"
      ]
     },
     "execution_count": 3,
     "metadata": {},
     "output_type": "execute_result"
    }
   ],
   "source": [
    "case_jsons[0]"
   ]
  },
  {
   "cell_type": "code",
   "execution_count": 4,
   "metadata": {},
   "outputs": [
    {
     "name": "stdout",
     "output_type": "stream",
     "text": [
      "10gs_VWW_1_A_210__C____ah.mol  10gs_VWW_1_A_210__C___.mol  domains_AF.pdb\r\n",
      "10gs_VWW_1_A_210__C____ah.pdb  domains_AF_aln.pdb          domains_crys.pdb\r\n"
     ]
    }
   ],
   "source": [
    "ls data/cases/10GS_A/VWW/"
   ]
  },
  {
   "cell_type": "code",
   "execution_count": 200,
   "metadata": {},
   "outputs": [
    {
     "name": "stderr",
     "output_type": "stream",
     "text": [
      "100%|██████████| 20562/20562 [00:03<00:00, 5956.20it/s]\n"
     ]
    }
   ],
   "source": [
    "cases = OrderedDict((x.dirname().basename(), utils.read_json(x)) for x in tqdm(sorted(Path('data/cases').glob('*/case.json'))))\n"
   ]
  },
  {
   "cell_type": "code",
   "execution_count": 297,
   "metadata": {},
   "outputs": [
    {
     "data": {
      "text/plain": [
       "array([44, 45, 46, 47, 48, 49, 50, 51])"
      ]
     },
     "execution_count": 297,
     "metadata": {},
     "output_type": "execute_result"
    }
   ],
   "source": [
    "ag = prody.parsePDB('data/cases/1AEB_A/rec_orig.pdb')\n",
    "res = list(ag.getHierView().iterResidues())[5]\n",
    "res.getIndices()"
   ]
  },
  {
   "cell_type": "code",
   "execution_count": null,
   "metadata": {},
   "outputs": [],
   "source": []
  }
 ],
 "metadata": {
  "kernelspec": {
   "display_name": "pocket_dock",
   "language": "python",
   "name": "pocket_dock"
  },
  "language_info": {
   "codemirror_mode": {
    "name": "ipython",
    "version": 3
   },
   "file_extension": ".py",
   "mimetype": "text/x-python",
   "name": "python",
   "nbconvert_exporter": "python",
   "pygments_lexer": "ipython3",
   "version": "3.7.9"
  }
 },
 "nbformat": 4,
 "nbformat_minor": 4
}
