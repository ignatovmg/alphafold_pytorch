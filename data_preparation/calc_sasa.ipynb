{
 "cells": [
  {
   "cell_type": "code",
   "execution_count": null,
   "metadata": {},
   "outputs": [],
   "source": [
    "import mol_grid\n",
    "from tqdm.notebook import tqdm\n",
    "from mol_grid import calc_sasa\n",
    "from pocketdock import utils\n",
    "from path import Path\n",
    "import prody\n",
    "import numpy as np"
   ]
  },
  {
   "cell_type": "code",
   "execution_count": null,
   "metadata": {},
   "outputs": [],
   "source": [
    "sorted(Path('data/cases').glob('*/case.json'))[0]"
   ]
  },
  {
   "cell_type": "code",
   "execution_count": null,
   "metadata": {},
   "outputs": [],
   "source": [
    "tmp = sorted(Path('data/cases').glob('*/case.json'))\n",
    "tmp = [x for x in tmp if not (x.dirname() / 'sasa.txt').exists()]\n",
    "len(tmp)"
   ]
  },
  {
   "cell_type": "code",
   "execution_count": null,
   "metadata": {},
   "outputs": [],
   "source": [
    "tmp[0]"
   ]
  },
  {
   "cell_type": "code",
   "execution_count": null,
   "metadata": {
    "scrolled": true
   },
   "outputs": [],
   "source": [
    "for x in tqdm(sorted(Path('data/cases').glob('*/case.json'))):\n",
    "    data = utils.read_json(x)\n",
    "    case_dir = x.dirname()\n",
    "    if (case_dir / 'sasa.txt').exists():\n",
    "        continue\n",
    "    print(case_dir)\n",
    "    #if case_dir in ['data/1epb_9CR_1_A_165__C___']:\n",
    "    #    continue # errors out\n",
    "    rec_ag = prody.parsePDB(case_dir / 'AF_aln.pdb')\n",
    "    sasa = calc_sasa(rec_ag, normalize=False)\n",
    "    np.savetxt(case_dir / 'AF_sasa.txt', sasa)"
   ]
  },
  {
   "cell_type": "code",
   "execution_count": null,
   "metadata": {},
   "outputs": [],
   "source": []
  }
 ],
 "metadata": {
  "kernelspec": {
   "display_name": "pocket_dock",
   "language": "python",
   "name": "pocket_dock"
  },
  "language_info": {
   "codemirror_mode": {
    "name": "ipython",
    "version": 3
   },
   "file_extension": ".py",
   "mimetype": "text/x-python",
   "name": "python",
   "nbconvert_exporter": "python",
   "pygments_lexer": "ipython3",
   "version": "3.7.9"
  }
 },
 "nbformat": 4,
 "nbformat_minor": 4
}
