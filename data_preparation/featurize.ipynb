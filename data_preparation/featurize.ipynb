{
 "cells": [
  {
   "cell_type": "code",
   "execution_count": 1,
   "metadata": {},
   "outputs": [
    {
     "name": "stderr",
     "output_type": "stream",
     "text": [
      "/home/ignatovmg/projects/alphadock/venv/lib/python3.7/site-packages/Bio/SubsMat/__init__.py:131: BiopythonDeprecationWarning: Bio.SubsMat has been deprecated, and we intend to remove it in a future release of Biopython. As an alternative, please consider using Bio.Align.substitution_matrices as a replacement, and contact the Biopython developers if you still need the Bio.SubsMat module.\n",
      "  BiopythonDeprecationWarning,\n"
     ]
    }
   ],
   "source": [
    "import pandas as pd\n",
    "import numpy as np\n",
    "from glob import glob\n",
    "from path import Path\n",
    "import json\n",
    "import seaborn as sns\n",
    "import prody\n",
    "from multiprocessing import Pool\n",
    "from tqdm import tqdm\n",
    "import itertools\n",
    "import json\n",
    "from rdkit import Chem\n",
    "from rdkit.Chem import AllChem\n",
    "from io import StringIO\n",
    "from collections import OrderedDict, Counter, defaultdict\n",
    "import traceback\n",
    "import urllib\n",
    "import pybel\n",
    "from copy import deepcopy\n",
    "from multiprocessing import Pool\n",
    "from pymol import cmd\n",
    "\n",
    "pd.set_option('display.max_columns', None)\n",
    "\n",
    "from alphadock import utils\n",
    "from alphadock import features"
   ]
  },
  {
   "cell_type": "code",
   "execution_count": 2,
   "metadata": {},
   "outputs": [],
   "source": [
    "case_dict = utils.read_json('data/cases/4RX7_A/case.json')"
   ]
  },
  {
   "cell_type": "code",
   "execution_count": 3,
   "metadata": {
    "scrolled": true
   },
   "outputs": [],
   "source": [
    "group_dict = case_dict['ligand_groups'][0]"
   ]
  },
  {
   "cell_type": "code",
   "execution_count": 4,
   "metadata": {
    "scrolled": true
   },
   "outputs": [
    {
     "data": {
      "text/plain": [
       "{'name': '3YV_GOL',\n",
       " 'ligands': [{'sdf_id': '4rx7_3YV_1_A_703__D___',\n",
       "   'chemid': '3YV',\n",
       "   'smiles': 'c1cc(cc(c1)n2nccn2)Nc3c(nnc(n3)N[C@@H]4CCCC[C@@H]4N)C(=O)N',\n",
       "   'pdb_id': '4RX7',\n",
       "   'pdb_chain': 'A',\n",
       "   'num_heavy_atoms': 29,\n",
       "   'frac_resolved': 1.0,\n",
       "   'affinity': {'comp_id': '3YV',\n",
       "    'type': 'IC50',\n",
       "    'value': 5.0,\n",
       "    'unit': 'nM',\n",
       "    'provenance_code': 'Binding MOAD',\n",
       "    'link': 'http://www.bindingmoad.org/pdbrecords/index/4rx7'}},\n",
       "  {'sdf_id': '4rx7_GOL_1_A_702__C___',\n",
       "   'chemid': 'GOL',\n",
       "   'smiles': 'C(C(CO)O)O',\n",
       "   'pdb_id': '4RX7',\n",
       "   'pdb_chain': 'A',\n",
       "   'num_heavy_atoms': 6,\n",
       "   'frac_resolved': 1.0,\n",
       "   'affinity': None}],\n",
       " 'domain_aligment': {'interacting_domains': [0, 1],\n",
       "  'pdb_resi_ranges': [[363, 450], [451, 635]],\n",
       "  'af_resi_ranges': [[363, 450], [451, 635]],\n",
       "  'af_aln': 'VYLDRKLLTLEDKELGSGNFGTVKKGYYQMKKVVKTVAVKILKNEANDPALKDELLAEANVMQQLDNPYIVRMIGICEAESWMLVMEMAELGPLNKYLQQNRHVKDKNIIELVHQVSMGMKYLEESNFVHRDLAARNVLLVTQHYAKISDFGLSKALRADENYYKAQTHGKWPVKWYAPECINYYKFSSKSDVWSFGVLMWEAFSYGQKPYRGMKGSEVTAMLEKGERMGCPAGCPREMYDLMNLCWTYDVENRPGFAAVELRLRNYYYDVVN',\n",
       "  'pdb_aln': 'VYLDRKLLTLEDKELGSGNFGTVKKGYYQMKKVVKTVAVKILKNEPALKDELLAE---ANVMQQLDNPYIVRMIGICEAESWMLVMEMAELGPLNKYLQQNRHVTDKNIIELVHQVSMGMKYLEESNFVHRDLAARNVLLVTQHYAKISDFGLSKALRADENYYKAQTHGKWPVKWYAPECINYYKFSSKSDVWSFGVLMWEAFSYGQKPYRGMKGSEVTAMLEKGERMGCPAGCPREMYDLMNLCWTYDVENRPGFAAVELRLRNYYYDVVN',\n",
       "  'pdb_af_identity': 0.9592592592592593,\n",
       "  'rmsd_aln': 0.7653332948684692},\n",
       " 'bsite_analysis': {'nresidues': 28,\n",
       "  'rmsd_ca': 1.8780456071428575,\n",
       "  'identity': 0.9642857142857143,\n",
       "  'resnums_pdb': [377,\n",
       "   378,\n",
       "   379,\n",
       "   380,\n",
       "   381,\n",
       "   382,\n",
       "   385,\n",
       "   400,\n",
       "   402,\n",
       "   420,\n",
       "   433,\n",
       "   448,\n",
       "   449,\n",
       "   450,\n",
       "   451,\n",
       "   452,\n",
       "   453,\n",
       "   454,\n",
       "   455,\n",
       "   458,\n",
       "   494,\n",
       "   496,\n",
       "   498,\n",
       "   499,\n",
       "   500,\n",
       "   501,\n",
       "   511,\n",
       "   512],\n",
       "  'resnums_af': [377,\n",
       "   378,\n",
       "   379,\n",
       "   380,\n",
       "   381,\n",
       "   382,\n",
       "   385,\n",
       "   400,\n",
       "   402,\n",
       "   417,\n",
       "   433,\n",
       "   448,\n",
       "   449,\n",
       "   450,\n",
       "   451,\n",
       "   452,\n",
       "   453,\n",
       "   454,\n",
       "   455,\n",
       "   458,\n",
       "   494,\n",
       "   496,\n",
       "   498,\n",
       "   499,\n",
       "   500,\n",
       "   501,\n",
       "   511,\n",
       "   512],\n",
       "  'seq_pdb': 'LGSGNFVAKEVMEMAELGPKDARNVLSD',\n",
       "  'seq_af': 'LGSGNFVAKLVMEMAELGPKDARNVLSD'}}"
      ]
     },
     "execution_count": 4,
     "metadata": {},
     "output_type": "execute_result"
    }
   ],
   "source": [
    "group_dict"
   ]
  },
  {
   "cell_type": "code",
   "execution_count": 5,
   "metadata": {},
   "outputs": [],
   "source": [
    "chemid_to_matches = utils.read_json('data/chemid_to_matches.json')"
   ]
  },
  {
   "cell_type": "code",
   "execution_count": 6,
   "metadata": {
    "scrolled": true
   },
   "outputs": [
    {
     "data": {
      "text/plain": [
       "1317"
      ]
     },
     "execution_count": 6,
     "metadata": {},
     "output_type": "execute_result"
    }
   ],
   "source": [
    "len(chemid_to_matches['GOL'])"
   ]
  },
  {
   "cell_type": "code",
   "execution_count": 7,
   "metadata": {},
   "outputs": [
    {
     "name": "stderr",
     "output_type": "stream",
     "text": [
      "100%|██████████| 20562/20562 [01:59<00:00, 172.50it/s]\n"
     ]
    }
   ],
   "source": [
    "cases_unfilt = OrderedDict((x.dirname().basename(), utils.read_json(x)) for x in tqdm(sorted(Path('data/cases').glob('*/case.json'))))"
   ]
  },
  {
   "cell_type": "code",
   "execution_count": 8,
   "metadata": {},
   "outputs": [
    {
     "name": "stdout",
     "output_type": "stream",
     "text": [
      "BEN ['[H]/N=C(\\\\c1ccccc1)/N']\n",
      "BEN ['[H]/N=C(\\\\c1ccccc1)/N']\n",
      "0IV ['[H]/N=C(\\\\N)/N1CCC[C@@H](C1)C[C@@H](C=O)NC(=O)CN2CCC[C@@H](C2=O)NS(=O)(=O)Cc3ccccc3']\n",
      "DX9 ['[H]/N=C(\\\\C)/N1CC[C@@H](C1)Oc2ccc(cc2)[C@H](Cc3ccc4ccc(cc4c3)/C(=N/[H])/N)C(=O)O']\n",
      "Z34 ['[H]/N=C(\\\\c1ccc(c(c1)Oc2c(c(c(c(n2)Oc3cccc(c3)C4=NCCN4C)F)N(C)CC(=O)O)F)O)/N']\n",
      "R11 ['[H]/N=C(/c1ccc(cc1)NCc2nc3cc(ccc3n2C)Cn4c(nc5c4cccc5)C)\\\\N']\n",
      "BEN ['[H]/N=C(\\\\c1ccccc1)/N']\n",
      "FAD_GZZ ['Cc1cc2c(cc1C)N(C3=NC(=O)NC(=O)C3=N2)C[C@@H]([C@@H]([C@@H](CO[P@@](=O)(O)O[P@](=O)(O)OC[C@@H]4[C@H]([C@H]([C@@H](O4)n5cnc6c5ncnc6N)O)O)O)O)O', '[H]/N=C(/N)\\\\NCCCCCCCCNCCCCCCCCN/C(=N/[H])/N']\n",
      "NRG ['[H]/N=C(\\\\NCCC[C@@H](C(=O)O)N)/N[N+](=O)[O-]']\n",
      "BEN ['[H]/N=C(\\\\c1ccccc1)/N']\n",
      "BEN ['[H]/N=C(\\\\c1ccccc1)/N']\n",
      "CMI ['[H]/N=C(\\\\c1cccc(c1)Cn2c3cccc(c3cc2C(=O)NCc4cc(cc(c4)C)C)C)/N']\n",
      "BEN ['[H]/N=C(\\\\c1ccccc1)/N']\n",
      "426 ['[H]/N=C(/c1ccc2cc(ccc2c1)C(=O)Nc3cccc(c3)OC4CCCC4)\\\\N']\n",
      "14W ['[H]/N=C(/C)\\\\NCc1cccc(c1)CN']\n",
      "14W ['[H]/N=C(/C)\\\\NCc1cccc(c1)CN']\n",
      "LKS_ZN ['[H]/N=C(/Cc1ccccc1)\\\\N[C@@H]2[C@H]([C@H]([C@@H]([C@H](S2)CO)O)O)O', '[Zn+2]']\n",
      "I58 ['[H]/N=C(/C)\\\\NCC[C@H](C[C@@H](C(=O)O)N)F']\n",
      "BEN ['[H]/N=C(\\\\c1ccccc1)/N']\n",
      "745 ['[H]/N=C(/c1ccc2cc(ccc2c1)[C@@H]3C[C@H]3c4ccccc4)\\\\N']\n",
      "CMU ['[H]/N=C\\\\1/CCCN1CC2=C(C(=O)NC(=O)N2)Cl']\n",
      "NMG_SAH ['[H]/N=C(/N)\\\\NCC(=O)O', 'c1nc(c2c(n1)n(cn2)[C@H]3[C@@H]([C@@H]([C@H](O3)CSCC[C@@H](C(=O)O)N)O)O)N']\n",
      "GAH ['[H]/N=C(\\\\N)/NCCCC[C@@H](C(=O)N)NC(=O)[C@@H](Cc1ccc(cc1)O)NC(=O)[C@@H]2CCN2C(=O)[C@@H](CC3CCCCC3)NC(=O)C4CCC(CC4)CN/C(=N/[H])/N']\n",
      "BEN ['[H]/N=C(\\\\c1ccccc1)/N']\n",
      "4DI ['[H]/N=C(\\\\N)/SCCCCN(C)C']\n",
      "TP5 ['[H]/N=C(\\\\c1ccsc1)/N']\n",
      "FAD_MH6 ['Cc1cc2c(cc1C)N(C3=NC(=O)NC(=O)C3=N2)C[C@@H]([C@@H]([C@@H](CO[P@@](=O)(O)O[P@](=O)(O)OC[C@@H]4[C@H]([C@H]([C@@H](O4)n5cnc6c5ncnc6N)O)O)O)O)O', '[H]/N=C(\\\\CO)/C(=O)O']\n",
      "FAD_IM3 ['Cc1cc2c(cc1C)N(C3=NC(=O)NC(=O)C3=N2)C[C@@H]([C@@H]([C@@H](CO[P@@](=O)(O)O[P@](=O)(O)OC[C@@H]4[C@H]([C@H]([C@@H](O4)n5cnc6c5ncnc6N)O)O)O)O)O', '[H]/N=C(\\\\Cc1ccc(c(c1)O)O)/C(=O)O']\n",
      "CXR ['[H]/N=C/1\\\\c2c3n(cn2)C4C(C(C(O4)COP(=O)(OP(=O)(OCC5C(C(C(N1C=N3)O5)O)O)O)O)O)O']\n",
      "CXR ['[H]/N=C/1\\\\c2c3n(cn2)C4C(C(C(O4)COP(=O)(OP(=O)(OCC5C(C(C(N1C=N3)O5)O)O)O)O)O)O']\n",
      "CXR ['[H]/N=C/1\\\\c2c3n(cn2)C4C(C(C(O4)COP(=O)(OP(=O)(OCC5C(C(C(N1C=N3)O5)O)O)O)O)O)O']\n",
      "PL0_SO4 ['[H]/N=C(/N)\\\\Nc1ccccc1', '[O-]S(=O)(=O)[O-]']\n",
      "BEN ['[H]/N=C(\\\\c1ccccc1)/N']\n",
      "251 ['[H]/N=C(\\\\N)/NC(=O)Cn1c(ccc1c2ccccc2)c3ccccc3']\n",
      "462 ['[H]/N=C(\\\\N)/NC(=O)Cc1c(csc1c2ccccc2Cl)c3ccc(cc3)OCCC']\n",
      "I50 ['[H]/N=C(/N)\\\\NOCCNC(=O)Cc1c(ccc(c1F)NCC(c2ccccc2)(F)F)Cl']\n",
      "BEN ['[H]/N=C(\\\\c1ccccc1)/N']\n",
      "C96 ['[H]/N=C/1\\\\NC(=O)/C(=C(\\\\C)/c2ccc(o2)c3ccc(cc3)S(=O)(=O)N)/S1']\n",
      "C53 ['[H]/N=C\\\\1/NC(=O)/C(=C\\\\c2ccccn2)/S1']\n",
      "ISZ ['[H]/N=N/C(=O)c1ccncc1']\n",
      "ZAT ['[H]/N=C(\\\\N)/N/N=C(\\\\C)/c1ccc(cc1)NC(=O)Nc2ccc(cc2)/C(=N/N/C(=N/[H])/N)/C']\n",
      "D1A ['[H]/N=C(\\\\N)/N/N=C(\\\\C)/c1ccc(cc1)NC(=O)c2cc3cccc(c3[nH]2)[N+](=O)[O-]']\n",
      "424 ['[H]/N=C/C1(CC1)NC(=O)[C@@H]2C[C@H](CN2C(=O)C3(CC3)c4ccc(cc4)Cl)S(=O)(=O)c5ccccc5Cl']\n",
      "MG_YCF ['[Mg+2]', '[H]/N=C(\\\\N/N=C(\\\\C)/c1ccc(cc1)NC(=O)Nc2ccc(cc2)/C(=N/N/C(=N/O)/N)/C)/NO']\n",
      "YIR ['[H]/N=C(\\\\N)/N/N=C/1\\\\CCCc2c1ccc(c2)NC(=O)c3cc4cccc(c4[nH]3)[N+](=O)[O-]']\n",
      "310 ['[H]/N=C(\\\\N)/NC(=O)Cn1c(ccc1c2ccccc2Cl)c3ccc(cc3)Oc4ccc(cc4)C(=O)C']\n",
      "411 ['[H]/N=C(\\\\N)/NC(=O)Cn1c(ccc1c2ccc(cc2)NC(=O)c3cccc(c3)Br)c4ccccc4']\n",
      "YFF ['[H]/N=C(/CF)\\\\NCCC[C@@H](C(=O)N)NC(=O)c1ccccc1C(=O)O']\n",
      "DKK ['[H]/N=C(\\\\N)/NOCCNC(=O)Cc1c(ccc(c1F)NCC(c2ccccn2)(F)F)C#N']\n",
      "QIX_ZN ['[H]/N=C(/N)\\\\NCCC[C@@H](C(=O)NCC(=O)NCC(=O)N)NC(=O)[C@H](Cc1ccc2ccccc2c1)CC(=O)NO', '[Zn+2]']\n",
      "LN5 ['[H]/N=C(/CC)\\\\NCCC[C@@H](C(=O)O)N']\n",
      "JM2 ['[H]/N=C(\\\\CSC)/NCCC[C@@H](C(=O)O)N']\n",
      "JM8 ['[H]/N=C(\\\\CCSCC)/NCCC[C@@H](C(=O)O)N']\n",
      "JM7 ['[H]/N=C(\\\\CSCC)/NCCC[C@@H](C(=O)O)N']\n",
      "JM6 ['[H]/N=C(/CCCSC)\\\\NCCC[C@@H](C(=O)O)N']\n",
      "JM5 ['[H]/N=C(/CSCCC)\\\\NCCC[C@@H](C(=O)O)N']\n",
      "JM4 ['[H]/N=C(/CCSC(C)C)\\\\NCCC[C@@H](C(=O)O)N']\n",
      "JM7 ['[H]/N=C(\\\\CSCC)/NCCC[C@@H](C(=O)O)N']\n",
      "JM6 ['[H]/N=C(/CCCSC)\\\\NCCC[C@@H](C(=O)O)N']\n",
      "G00 ['[H]/N=C(/N)\\\\SCc1ccc(c(c1)Cl)OCCCC']\n",
      "BDJ ['[H]/N=C\\\\1/NC(C(=O)N1Cc2cccc(c2)Cl)(C)C']\n",
      "BDO ['[H]/N=C\\\\1/N[C@](C(=O)N1Cc2cccc(c2)Cl)(C)CC(C)C']\n",
      "BDQ ['[H]/N=C\\\\1/N[C@](C(=O)N1Cc2ccc(cc2)CNC(=O)Nc3ccc(cc3)C#N)(C)CC(C)C']\n",
      "BDV ['[H]/N=C\\\\1/N[C@](C(=O)N1Cc2ccc(cc2)CNC(=O)NCCCC)(C)CC(C)C']\n",
      "BDW ['[H]/N=C\\\\1/N[C@](C(=O)N1Cc2ccc(cc2)CN3C[C@@H](NC3=O)CCC)(CCC4CCCCC4)CC5CCCCC5']\n",
      "BDX ['[H]/N=C/1\\\\N[C@](C(=O)N1C)(CCC2CCCCC2)CC3CCCCC3']\n",
      "BEN ['[H]/N=C(\\\\c1ccccc1)/N']\n",
      "LN6 ['[H]/N=C(\\\\CCCC)/NCCC[C@@H](C(=O)O)N']\n",
      "JM8 ['[H]/N=C(\\\\CCSCC)/NCCC[C@@H](C(=O)O)N']\n",
      "JM7 ['[H]/N=C(\\\\CSCC)/NCCC[C@@H](C(=O)O)N']\n",
      "613 ['[H]/N=C(\\\\N)/N1CCN(CC1)c2ccc(cc2)Cl']\n",
      "CVR ['[H]/N=C/1\\\\c2c3n(cn2)[C@H]4[C@@H]([C@@H]([C@H](O4)CO[P@@](=O)(O[P@](=O)(OC[C@H]5C[C@@H](N1C=N3)[C@@H]([C@@H]5O)O)O)O)O)O']\n",
      "0HL ['[H]/N=C(\\\\c1cc(cs1)CN2CC[C@H](C2=O)N(Cc3ccsc3)S(=O)(=O)c4ccc5ccc(cc5c4)OC)/N']\n",
      "9MQ ['[H]/N=C(\\\\N)/N1CCC[C@H](C1)CNC(=O)C[C@@H](C(=O)N(Cc2ccccc2)CC(=O)O)NS(=O)(=O)c3ccc4ccccc4c3']\n",
      "9MU ['[H]/N=C(\\\\N)/N1CCC[C@H](C1)CNC(=O)[C@@H](Cc2ccccc2)NS(=O)(=O)c3ccc4ccccc4c3']\n",
      "M67 ['[H]/N=C(/c1ccc(cc1)CNC(=O)[C@@H]2CCN2C(=O)[C@@H](C3CCCCC3)NCC(=O)NCCC)\\\\N']\n",
      "MM9 ['[H]/N=C(/c1ccc(cc1)CNC(=O)[C@@H]2CCN2C(=O)[C@@H](C3CCCCC3)NCC(=O)N(C)C)\\\\N']\n",
      "M6S ['[H]/N=C(/c1ccc(cc1)CNC(=O)[C@@H]2CCN2C(=O)[C@@H](C3CCCCC3)NCC(=O)NC)\\\\N']\n",
      "MVF ['[H]/N=C(/c1ccc(cc1)CNC(=O)[C@@H]2CCN2C(=O)[C@@H](C3CCCCC3)NCC(=O)N)\\\\N']\n",
      "M4Z ['[H]/N=C(/c1ccc(cc1)CNC(=O)[C@@H]2CCN2C(=O)[C@@H](C3CCCCC3)NCC(=O)NCC)\\\\N']\n",
      "0KK ['[H]/N=C/1\\\\NC(C(=O)N1C)(c2ccccc2)c3ccccc3']\n",
      "0KM ['[H]/N=C/1\\\\N[C@](C(=O)N1C)(c2ccccc2)c3cccc(c3)c4cccc(c4)OC']\n",
      "0KP ['[H]/N=C/1\\\\N[C@](C(=O)N1C)(c2ccccc2)c3cccc(c3)c4cccnc4']\n",
      "0KQ ['[H]/N=C/1\\\\N[C@@](C(=O)N1C)(c2cccc(c2)c3cc(cnc3)Cl)C4CC4']\n",
      "0KR ['[H]/N=C/1\\\\N[C@@](C(=O)N1C)(c2cccc(c2)c3cc(cnc3)C#CC)C4CC4']\n",
      "0V6 ['[H]/N=C\\\\1/NC(CC(=O)N1C)(C)c2c(cc(s2)c3cc(cnc3)C#CC)Cl']\n",
      "1KJ ['[H]/N=C(\\\\NCCC[C@@H](C(=O)O)N)/NOC']\n",
      "2KJ ['[H]/N=C(\\\\NCCC[C@@H](C(=O)O)N)/NOCC']\n",
      "3KJ ['[H]/N=C(/NCCC[C@@H](C(=O)O)N)\\\\N(C)O']\n",
      "4KJ ['[H]/N=C(/N=C/CC[C@@H](C(=O)O)N)\\\\N(C)OC']\n",
      "5KJ ['[H]/N=C(\\\\NO)/N(C)CCC[C@@H](C(=O)O)N']\n",
      "6KJ ['[H]/N=C(\\\\NOC(C)(C)C)/N=C/CC[C@@H](C(=O)O)N']\n",
      "10J ['[H]/N=C/1\\\\N[C@]2(CN(C[C@H]2C(=O)N1C)C(=O)c3ccccc3)c4cc(cs4)c5cccc(c5)C#N']\n",
      "10O ['[H]/N=C/1\\\\N[C@]2(CN(C[C@H]2C(=O)N1C)c3cccc(n3)OC)c4cc(cs4)c5cccc(c5)C#N']\n",
      "10Q ['[H]/N=C/1\\\\N[C@]2(CN(C[C@H]2C(=O)N1C)c3c(cccn3)C#N)c4cc(cs4)c5cccc(c5)C#N']\n",
      "10V ['[H]/N=C/1\\\\N[C@]2(CN(C[C@H]2C(=O)N1C)c3c(cccn3)OC)c4cc(cs4)c5cccc(c5)C#N']\n",
      "10W ['[H]/N=C/1\\\\N[C@]2(CN(C[C@H]2C(=O)N1C)c3ccccc3)c4ccc(s4)c5ccc(c(c5)C#N)F']\n",
      "13W ['[H]/N=C/1\\\\N[C@](CC(=O)N1C)(C)c2cc(cs2)c3cccc(c3)C#N']\n",
      "15U ['[H]/N=C(\\\\N)/NCCC[C@@H](C(=O)N1CC[C@H](C[C@@H]1C(=O)O)C)NS(=O)(=O)c2cccc3c2NC[C@H](C3)C']\n",
      "VSI ['[H]/N=C(\\\\NCc1cc(c(c(c1)Cl)NC(=O)C)Cl)/NC(=O)Cn2ccc3c2cc(cc3)C#N']\n",
      "VTI ['[H]/N=C(\\\\NCc1cc(c(c(c1)Cl)NC(=O)C)Cl)/NC(=O)Cn2ccc3c2cccc3']\n",
      "1Q2 ['[H]/N=C(/C[C@H](CC(=O)C)O)\\\\c1ccc(c(c1)F)O']\n",
      "H36 ['[H]/N=C(\\\\Nc1cc(ccc1)OCCOc2cc(ccc2)N/C(=N/[H])/c3sccc3)/c4sccc4']\n",
      "H44 ['[H]/N=C(/c1cccs1)\\\\Nc2ccc(cc2)CCNCc3cccc(c3)N/C(=N/[H])/c4cccs4']\n",
      "1QF ['[H]/N=C(\\\\c1cccs1)/Nc2ccc(cc2)CCN(CC)Cc3cccc(c3)N/C(=N/[H])/c4cccs4']\n",
      "2EW ['[H]/N=C/CNC(=O)[C@@H]1CN(C[C@H]1C(=O)N2CCOCC2)S(=O)(=O)c3ccccc3']\n",
      "2X1 ['[H]/N=C(/c1ccc(cc1)NC(=O)Nc2cccc(c2)CN)\\\\N']\n",
      "GGB ['[H]/N=C(\\\\N)/NOCC[C@@H](C(=O)O)N']\n",
      "3KO ['[H]/N=C/1\\\\N[C@](C(=O)N1C)(CCC2CCCCC2)C[C@H]3CCN(C3)C(=O)CC4CCCC4']\n",
      "3KT ['[H]/N=C/1\\\\N[C@](C(=O)N1C)(CCC2CCCCC2)C[C@H]3CCC[C@H](C3)NC4CCCC4']\n",
      "3KU ['[H]/N=C/1\\\\N[C@](C(=O)N1C)(CCC2CCCCC2)C[C@H]3CCC[C@H](C3)NC(=O)c4ccncc4']\n",
      "779 ['[H]/N=C/1\\\\N[C@](C(=O)N1C)(CCC2CCCCC2)C[C@H]3CCC[C@H](C3)NC(=O)Nc4ccccc4']\n",
      "3KW ['[H]/N=C/1\\\\N[C@](C(=O)N1C)(CCC2CCCCC2)C[C@H]3CCC[C@H](C3)Nc4ccc5ccccc5n4']\n",
      "15U ['[H]/N=C(\\\\N)/NCCC[C@@H](C(=O)N1CC[C@H](C[C@@H]1C(=O)O)C)NS(=O)(=O)c2cccc3c2NC[C@H](C3)C']\n",
      "PQW ['[H]/N=C(/c1cccs1)\\\\Nc2cccc(c2)O[C@@H]3C[C@H](NC3)COc4ccc(cc4)N=C(c5cccs5)N']\n",
      "BEN ['[H]/N=C(\\\\c1ccccc1)/N']\n",
      "70X ['[H]/N=C\\\\1/N[C@](CC(=O)N1Cc2cccc(c2)C(=O)NCc3ccccc3)(C)C(C)C']\n",
      "70Y ['[H]/N=C\\\\1/N[C@](CC(=O)N1Cc2cccc(c2)N3C[C@H](CC3=O)c4ccccc4)(C)C(C)C']\n",
      "RGE ['[H]/N=C(\\\\CS(=O)C)/NCCC[C@@H](C(=O)O)N']\n",
      "4JK ['[H]/N=C(\\\\CO)/NCCC[C@@H](C(=O)O)N']\n",
      "VUR ['[H]/N=C(\\\\CS)/NCCC[C@@H](C(=O)O)N']\n",
      "VUR ['[H]/N=C(\\\\CS)/NCCC[C@@H](C(=O)O)N']\n",
      "50K ['[H]/N=C(/c1ccc2c(c1)cc([nH]2)c3cccc(n3)C4(CCCCC4)O)\\\\N']\n",
      "AKG_NMM_ZN ['C(CC(=O)O)C(=O)C(=O)O', '[H]/N=C(/NC)\\\\NCCC[C@@H](C(=O)O)N', '[Zn+2]']\n",
      "MF8 ['[H]/N=C(/N)\\\\N/C(=N\\\\[H])/N(C)C']\n",
      "60Y ['[H]/N=C/1\\\\N[C@]2(CN(C[C@H]2C(=O)N1C)c3ncc(cn3)F)c4cc(cs4)c5cccc(c5)C#N']\n",
      "60W ['[H]/N=C/1\\\\N[C@]2(CN(C[C@H]2C(=O)N1C)c3ncc(c(n3)OC)F)c4cc(cs4)c5cccc(c5)C#N']\n",
      "60V ['[H]/N=C/1\\\\N[C@]2(CN(C[C@H]2C(=O)N1C)c3nc(c(c(n3)OC)F)C)c4ccc(s4)C#N']\n",
      "60U ['[H]/N=C/1\\\\N[C@]2(CN(C[C@H]2C(=O)N1C)c3nc(c(c(n3)OCC)F)C)c4ccc(s4)C#N']\n",
      "954 ['[H]/N=C/1\\\\N[C@]2(CN(C[C@H]2C(=O)N1C)c3nc(c(c(n3)SC)F)C)c4ccc(s4)C#N']\n",
      "60T ['[H]/N=C/1\\\\N[C@]2(CN(C[C@H]2C(=O)N1C)c3nc(c(c(n3)OC)F)C)c4c(cccc4F)F']\n",
      "60S ['[H]/N=C/1\\\\N[C@]2(CN(C[C@H]2C(=O)N1C)c3nc(c(c(n3)NC)F)C)c4ccc(s4)C#N']\n",
      "60X ['[H]/N=C/1\\\\N[C@]2(CN(C[C@H]2C(=O)N1C)c3nc(c(c(n3)OC)F)C)c4ccc(cc4F)F']\n",
      "66J ['[H]/N=C/1\\\\N[C@](CS(=O)(=O)N1C)(C)c2c(cc(s2)c3cc(cnc3)C#CC)Cl']\n",
      "66H ['[H]/N=C/1\\\\N[C@](C(=O)N1C)(c2ccccc2)c3cccc(c3)NC(=O)c4ccco4']\n",
      "6H5_FE_TRS ['[H]/N=C(/NCc1c(cccc1Oc2cccc(c2)OC)N3CCCCC3)\\\\NC(=O)c4ccc(cc4)C[C@@H](C(=O)O)N', '[Fe+3]', 'C(C(CO)(CO)[NH3+])O']\n",
      "6PX_ZN ['[H]/N=C(/N)\\\\NCCC[C@@H](C(=O)Nc1cc(ccc1N)C(=O)N[C@@H](Cc2ccc(cc2)O)C(=O)OC)N', '[Zn+2]']\n",
      "7DU ['[H]/N=C(/N)\\\\NCCC[C@@H](C(=O)N[C@@H](C)C(=O)NCc1ccc(cc1)/N=N/c2ccc(cc2)CO)NC(=O)[C@H](C)NC(=O)[C@H](CO)N']\n",
      "7W7 ['[H]/N=C(/N)\\\\N1CCC[C@@H](C1)Cc2cccc3c2OCO3']\n",
      "8CV ['[H]/N=C(/N)\\\\N/C(=N/[H])/NCCc1ccccc1']\n",
      "BFR ['[H]/N=C(\\\\NCCCC)/N=C(N)N']\n"
     ]
    },
    {
     "name": "stdout",
     "output_type": "stream",
     "text": [
      "NMM_ZN ['[H]/N=C(/NC)\\\\NCCC[C@@H](C(=O)O)N', '[Zn+2]']\n",
      "7R2 ['[H]/N=C(\\\\c1cccs1)/Nc2ccc3c(c2)CCCN3CCN(C)CC']\n",
      "F2J ['[H]/N=C(\\\\c1cccs1)/Nc2ccc3c(c2)ccn3C4CCNCC4']\n",
      "CL_F2J ['[Cl-]', '[H]/N=C(\\\\c1cccs1)/Nc2ccc3c(c2)ccn3C4CCNCC4']\n",
      "GBG ['[H]/N=C(\\\\CCl)/NCCCC[C@@H](C(=O)O)N']\n",
      "HLJ ['[H]/N=C/1\\\\N(C=CN1Cc2cc(cc(c2)C(=O)NCc3ccc(c(c3)Cl)Cl)c4ccc(nc4C)F)C']\n",
      "31A ['[H]/N=C(\\\\Cc1cccc(c1)OC)/NC(=O)c2ccccc2OC3CCNCC3']\n",
      "FSZ ['[H]/N=C(/N)\\\\Nc1cc(cc(c1)C(F)(F)F)C2CCNCC2']\n",
      "J08 ['[H]/N=C(/c1ccc(cc1OCc2cccnc2)NCc3[nH]c(cn3)c4ccccc4)\\\\N']\n",
      "J2Q ['[H]/N=C(/c1ccc(cc1)NC(=O)c2cccc(c2O)OCC)\\\\N']\n",
      "135 ['[H]/N=C(\\\\c1ccc(cc1)NC(=O)c2ccccc2O)/N']\n"
     ]
    }
   ],
   "source": [
    "cases_filt = OrderedDict()\n",
    "\n",
    "# filter out cases where rdkit can't remove hydrogens\n",
    "for case_name, case_dict in cases_unfilt.items():\n",
    "    for group_dict in case_dict['ligand_groups']:\n",
    "        ligs = [Chem.MolFromSmiles(x['smiles']) for x in group_dict['ligands']]\n",
    "        if all([x.GetNumHeavyAtoms() == x.GetNumAtoms() for x in ligs]):\n",
    "            cases_filt[(case_name, group_dict['name'])] = case_dict\n",
    "        else:\n",
    "            print(group_dict['name'], [x['smiles'] for x in group_dict['ligands']])"
   ]
  },
  {
   "cell_type": "code",
   "execution_count": 9,
   "metadata": {},
   "outputs": [
    {
     "data": {
      "text/plain": [
       "23697"
      ]
     },
     "execution_count": 9,
     "metadata": {},
     "output_type": "execute_result"
    }
   ],
   "source": [
    "len(cases_filt)"
   ]
  },
  {
   "cell_type": "code",
   "execution_count": 10,
   "metadata": {},
   "outputs": [
    {
     "data": {
      "text/plain": [
       "<AxesSubplot:ylabel='Count'>"
      ]
     },
     "execution_count": 10,
     "metadata": {},
     "output_type": "execute_result"
    },
    {
     "data": {
      "image/png": "[encoded data removed]",
      "text/plain": [
       "<Figure size 432x288 with 1 Axes>"
      ]
     },
     "metadata": {
      "needs_background": "light"
     },
     "output_type": "display_data"
    }
   ],
   "source": [
    "# chain length distribution\n",
    "sns.histplot([len(case_dict['entity_info']['pdbx_seq_one_letter_code']) for key, case_dict in cases_filt.items()])"
   ]
  },
  {
   "cell_type": "code",
   "execution_count": 31,
   "metadata": {},
   "outputs": [
    {
     "data": {
      "text/plain": [
       "<AxesSubplot:ylabel='Count'>"
      ]
     },
     "execution_count": 31,
     "metadata": {},
     "output_type": "execute_result"
    },
    {
     "data": {
      "image/png": "[encoded data removed]",
      "text/plain": [
       "<Figure size 432x288 with 1 Axes>"
      ]
     },
     "metadata": {
      "needs_background": "light"
     },
     "output_type": "display_data"
    }
   ],
   "source": [
    "# total size of iteracting domains for each ligand group\n",
    "data = [sum([y[1]-y[0] for y in {x['name']: x for x in case_dict['ligand_groups']}[key[1]]['domain_aligment']['af_resi_ranges']]) for key, case_dict in cases_filt.items()]\n",
    "sns.histplot([len(case_dict['entity_info']['pdbx_seq_one_letter_code']) for key, case_dict in cases_filt.items()])\n",
    "sns.histplot(data, color='red')"
   ]
  },
  {
   "cell_type": "code",
   "execution_count": 38,
   "metadata": {},
   "outputs": [
    {
     "data": {
      "text/plain": [
       "(0.0, 1000.0)"
      ]
     },
     "execution_count": 38,
     "metadata": {},
     "output_type": "execute_result"
    },
    {
     "data": {
      "image/png": "[encoded data removed]",
      "text/plain": [
       "<Figure size 432x288 with 1 Axes>"
      ]
     },
     "metadata": {},
     "output_type": "display_data"
    }
   ],
   "source": [
    "sns.set_theme()\n",
    "sns.ecdfplot([len(case_dict['entity_info']['pdbx_seq_one_letter_code']) for key, case_dict in cases_filt.items()])\n",
    "ax = sns.ecdfplot(data, color='red')\n",
    "ax.set_xlim(0, 1000)"
   ]
  },
  {
   "cell_type": "code",
   "execution_count": 11,
   "metadata": {},
   "outputs": [
    {
     "data": {
      "text/plain": [
       "<AxesSubplot:ylabel='Count'>"
      ]
     },
     "execution_count": 11,
     "metadata": {},
     "output_type": "execute_result"
    },
    {
     "data": {
      "image/png": "[encoded data removed]",
      "text/plain": [
       "<Figure size 432x288 with 1 Axes>"
      ]
     },
     "metadata": {
      "needs_background": "light"
     },
     "output_type": "display_data"
    }
   ],
   "source": [
    "# ligand group size distribution\n",
    "sns.histplot([\n",
    "    sum([y['num_heavy_atoms'] for y in {x['name']: x for x in case_dict['ligand_groups']}[key[1]]['ligands']]) for key, case_dict in cases_filt.items()\n",
    "])"
   ]
  },
  {
   "cell_type": "code",
   "execution_count": 23,
   "metadata": {},
   "outputs": [
    {
     "data": {
      "text/plain": [
       "<AxesSubplot:ylabel='Count'>"
      ]
     },
     "execution_count": 23,
     "metadata": {},
     "output_type": "execute_result"
    },
    {
     "data": {
      "image/png": "[encoded data removed]",
      "text/plain": [
       "<Figure size 432x288 with 1 Axes>"
      ]
     },
     "metadata": {
      "needs_background": "light"
     },
     "output_type": "display_data"
    }
   ],
   "source": [
    "# ligand group size distribution >= 10\n",
    "data = [sum([y['num_heavy_atoms'] for y in {x['name']: x for x in case_dict['ligand_groups']}[key[1]]['ligands']]) for key, case_dict in cases_filt.items()]\n",
    "sns.histplot([x for x in data if x >= 10])"
   ]
  },
  {
   "cell_type": "code",
   "execution_count": 12,
   "metadata": {},
   "outputs": [
    {
     "data": {
      "text/plain": [
       "{'A',\n",
       " 'C',\n",
       " 'D',\n",
       " 'E',\n",
       " 'F',\n",
       " 'G',\n",
       " 'H',\n",
       " 'I',\n",
       " 'K',\n",
       " 'L',\n",
       " 'M',\n",
       " 'N',\n",
       " 'P',\n",
       " 'Q',\n",
       " 'R',\n",
       " 'S',\n",
       " 'T',\n",
       " 'V',\n",
       " 'W',\n",
       " 'Y',\n",
       " 'Z'}"
      ]
     },
     "execution_count": 12,
     "metadata": {},
     "output_type": "execute_result"
    }
   ],
   "source": [
    "alphabet = set()\n",
    "for key, case_dict in cases_filt.items():\n",
    "    alphabet |= set(list(case_dict['entity_info']['pdbx_seq_one_letter_code']))\n",
    "alphabet"
   ]
  },
  {
   "cell_type": "code",
   "execution_count": 13,
   "metadata": {},
   "outputs": [
    {
     "name": "stdout",
     "output_type": "stream",
     "text": [
      "{'case_name': '6CRN_A', 'pdb_id': '6CRN', 'pdb_chain': 'A', 'instance_id': 'A', 'entity_id': '1', 'experiment': 'X-RAY DIFFRACTION', 'resolution': 2.5, 'deposition_date': '2018-03-19T00:00:00+0000', 'seqclus100': 31355, 'seqclus90': 8230, 'seqclus40': 4645, 'seqclus30': 4498, 'missing_residue': '111111111100000000000000000000000000000000000000000000000000000000000000000000000000000000000000000000000000000000000000000000000000000000000000000000000000000000000000000000000000000000000000000000000000000000000000000000111100000000000000000000000000000000000000000000000000000000000000000000000000000000000000000000000000000000000000000000000000000000000111', 'missing_ca': '111111111100000000000000000000000000000000000000000000000000000000000000000000000000000000000000000000000000000000000000000000000000000000000000000000000000000000000000000000000000000000000000000000000000000000000000000000111100000000000000000000000000000000000000000000000000000000000000000000000000000000000000000000000000000000000000000000000000000000000111', 'missing_atoms': '111111111101000000000000000000000000000000000000000000000000000000000000000000000000000000000000000000000000000000000000000000000000000000000000000000000000000000000000000000000000000100000000000000000000000000000000001010111100000000000000000000000000000000000000000000000000000000000000000000000000000000000000000000000000000000000000000000000000000000100111', 'entity_info': {'nstd_linkage': 'no', 'nstd_monomer': 'no', 'pdbx_seq_one_letter_code': 'SGAAADYSEPGRNNEQPGLCGLSNLGNTCFMNSAIQCLSNTPPLTEYFLNDKYQEELNFDNPLGMRGEIAKSYAELIKQMWSGKFSYVTPRAFKTQVGRFAPQFSGYQQQDCQELLAFLLDGLHEDLNRIRKKPYIQLKDADGRPDKVVAEEAWENHLKRNDSIIVDIFHGLFKSTLVCPECAKISVTFDPFCYLTLPLPMPKKPFVKLKDCIELFTTKEKLGAEDPWYCPNCKEHQQATKKLDLWSLPPVLVVHLKRFSYSRYMRDKLDTLVDFPINDLDMSEFLINPNAGPCRYNLIAVSNHYGGMGGGHYTAFAKNKDDGKWYYFDDSSVSTASEDQIVSKAAYVLFYQRQDSSGZN', 'pdbx_seq_one_letter_code_can': 'SGAAADYSEPGRNNEQPGLCGLSNLGNTCFMNSAIQCLSNTPPLTEYFLNDKYQEELNFDNPLGMRGEIAKSYAELIKQMWSGKFSYVTPRAFKTQVGRFAPQFSGYQQQDCQELLAFLLDGLHEDLNRIRKKPYIQLKDADGRPDKVVAEEAWENHLKRNDSIIVDIFHGLFKSTLVCPECAKISVTFDPFCYLTLPLPMPKKPFVKLKDCIELFTTKEKLGAEDPWYCPNCKEHQQATKKLDLWSLPPVLVVHLKRFSYSRYMRDKLDTLVDFPINDLDMSEFLINPNAGPCRYNLIAVSNHYGGMGGGHYTAFAKNKDDGKWYYFDDSSVSTASEDQIVSKAAYVLFYQRQDSSGZN', 'pdbx_strand_id': 'A,B,C,D', 'rcsb_artifact_monomer_count': 2, 'rcsb_conflict_count': 0, 'rcsb_deletion_count': 0, 'rcsb_entity_polymer_type': 'Protein', 'rcsb_insertion_count': 0, 'rcsb_mutation_count': 0, 'rcsb_non_std_monomer_count': 0, 'rcsb_sample_sequence_length': 360, 'type': 'polypeptide(L)', 'entity_aln': 'SGAAADYSEPGRNNEQPGLCGLSNLGNTCFMNSAIQCLSNTPPLTEYFLNDKYQEELNFDNPLGMRGEIAKSYAELIKQMWSGKFSYVTPRAFKTQVGRFAPQFSGYQQQDCQELLAFLLDGLHEDLNRIRKKPYIQLKDADGRPDKVVAEEAWENHLKRNDSIIVDIFHGLFKSTLVCPECAKISVTFDPFCYLTLPLPMPKKPFVKLKDCIELFTTKEKLGAEDPWYCPNCKEHQQATKKLDLWSLPPVLVVHLKRFSYSRYMRDKLDTLVDFPINDLDMSEFLINPNAGPCRYNLIAVSNHYGGMGGGHYTAFAKNKDDGKWYYFDDSSVSTASEDQIVSKAAYVLFYQRQDSSGZN', 'pdb_aln': '----------GRNNEQPGLCGLSNLGNTCFMNSAIQCLSNTPPLTEYFLNDKYQEELNFDNPLGMRGEIAKSYAELIKQMWSGKFSYVTPRAFKTQVGRFAPQFSGYQQQDCQELLAFLLDGLHEDLNRIRKKPYIQLKDADGRPDKVVAEEAWENHLKRNDSIIVDIFHGLFKSTLVCPECAKISVTFDPFCYLTLPLPMPKKPFVKLKDCIELFTTKEKL----PWYCPNCKEHQQATKKLDLWSLPPVLVVHLKRFSYSRYMRDKLDTLVDFPINDLDMSEFLINPNAGPCRYNLIAVSNHYGGMGGGHYTAFAKNKDDGKWYYFDDSSVSTASEDQIVSKAAYVLFYQRQDSS---'}, 'uniprot': {'uniprot_id': 'Q9Y4E8', 'uniprot_seq': 'MAEGGAADLDTQRSDIATLLKTSLRKGDTWYLVDSRWFKQWKKYVGFDSWDKYQMGDQNVYPGPIDNSGLLKDGDAQSLKEHLIDELDYILLPTEGWNKLVSWYTLMEGQEPIARKVVEQGMFVKHCKVEVYLTELKLCENGNMNNVVTRRFSKADTIDTIEKEIRKIFSIPDEKETRLWNKYMSNTFEPLNKPDSTIQDAGLYQGQVLVIEQKNEDGTWPRGPSTPKSPGASNFSTLPKISPSSLSNNYNNMNNRNVKNSNYCLPSYTAYKNYDYSEPGRNNEQPGLCGLSNLGNTCFMNSAIQCLSNTPPLTEYFLNDKYQEELNFDNPLGMRGEIAKSYAELIKQMWSGKFSYVTPRAFKTQVGRFAPQFSGYQQQDCQELLAFLLDGLHEDLNRIRKKPYIQLKDADGRPDKVVAEEAWENHLKRNDSIIVDIFHGLFKSTLVCPECAKISVTFDPFCYLTLPLPMKKERTLEVYLVRMDPLTKPMQYKVVVPKIGNILDLCTALSALSGIPADKMIVTDIYNHRFHRIFAMDENLSSIMERDDIYVFEININRTEDTEHVIIPVCLREKFRHSSYTHHTGSSLFGQPFLMAVPRNNTEDKLYNLLLLRMCRYVKISTETEETEGSLHCCKDQNINGNGPNGIHEEGSPSEMETDEPDDESSQDQELPSENENSQSEDSVGGDNDSENGLCTEDTCKGQLTGHKKRLFTFQFNNLGNTDINYIKDDTRHIRFDDRQLRLDERSFLALDWDPDLKKRYFDENAAEDFEKHESVEYKPPKKPFVKLKDCIELFTTKEKLGAEDPWYCPNCKEHQQATKKLDLWSLPPVLVVHLKRFSYSRYMRDKLDTLVDFPINDLDMSEFLINPNAGPCRYNLIAVSNHYGGMGGGHYTAFAKNKDDGKWYYFDDSSVSTASEDQIVSKAAYVLFYQRQDTFSGTGFFPLDRETKGASAATGIPLESDEDSNDNDNDIENENCMHTN', 'uniprot_name': 'Ubiquitin carboxyl-terminal hydrolase 15'}, 'domains': [{'domain_id': 0, 'manually_filled': False, 'domain_chunks': [{'chunk_ent_orig': [10, 356], 'chunk_ent_map': [10, 356], 'chunk_pdb_resid': [280, 626]}]}], 'alphafold': {'seq': 'MAEGGAADLDTQRSDIATLLKTSLRKGDTWYLVDSRWFKQWKKYVGFDSWDKYQMGDQNVYPGPIDNSGLLKDGDAQSLKEHLIDELDYILLPTEGWNKLVSWYTLMEGQEPIARKVVEQGMFVKHCKVEVYLTELKLCENGNMNNVVTRRFSKADTIDTIEKEIRKIFSIPDEKETRLWNKYMSNTFEPLNKPDSTIQDAGLYQGQVLVIEQKNEDGTWPRGPSTPKSPGASNFSTLPKISPSSLSNNYNNMNNRNVKNSNYCLPSYTAYKNYDYSEPGRNNEQPGLCGLSNLGNTCFMNSAIQCLSNTPPLTEYFLNDKYQEELNFDNPLGMRGEIAKSYAELIKQMWSGKFSYVTPRAFKTQVGRFAPQFSGYQQQDCQELLAFLLDGLHEDLNRIRKKPYIQLKDADGRPDKVVAEEAWENHLKRNDSIIVDIFHGLFKSTLVCPECAKISVTFDPFCYLTLPLPMKKERTLEVYLVRMDPLTKPMQYKVVVPKIGNILDLCTALSALSGIPADKMIVTDIYNHRFHRIFAMDENLSSIMERDDIYVFEININRTEDTEHVIIPVCLREKFRHSSYTHHTGSSLFGQPFLMAVPRNNTEDKLYNLLLLRMCRYVKISTETEETEGSLHCCKDQNINGNGPNGIHEEGSPSEMETDEPDDESSQDQELPSENENSQSEDSVGGDNDSENGLCTEDTCKGQLTGHKKRLFTFQFNNLGNTDINYIKDDTRHIRFDDRQLRLDERSFLALDWDPDLKKRYFDENAAEDFEKHESVEYKPPKKPFVKLKDCIELFTTKEKLGAEDPWYCPNCKEHQQATKKLDLWSLPPVLVVHLKRFSYSRYMRDKLDTLVDFPINDLDMSEFLINPNAGPCRYNLIAVSNHYGGMGGGHYTAFAKNKDDGKWYYFDDSSVSTASEDQIVSKAAYVLFYQRQDTFSGTGFFPLDRETKGASAATGIPLESDEDSNDNDNDIENENCMHTN', 'PDB_CA_RMSD': 0.4309612512588501, 'AF_seq_aln': 'MAEGGAADLDTQRSDIATLLKTSLRKGDTWYLVDSRWFKQWKKYVGFDSWDKYQMGDQNVYPGPIDNSGLLKDGDAQSLKEHLIDELDYILLPTEGWNKLVSWYTLMEGQEPIARKVVEQGMFVKHCKVEVYLTELKLCENGNMNNVVTRRFSKADTIDTIEKEIRKIFSIPDEKETRLWNKYMSNTFEPLNKPDSTIQDAGLYQGQVLVIEQKNEDGTWPRGPSTPKSPGASNFSTLPKISPSSLSNNYNNMNNRNVKNSNYCLPSYTAYKNYDYSEPGRNNEQPGLCGLSNLGNTCFMNSAIQCLSNTPPLTEYFLNDKYQEELNFDNPLGMRGEIAKSYAELIKQMWSGKFSYVTPRAFKTQVGRFAPQFSGYQQQDCQELLAFLLDGLHEDLNRIRKKPYIQLKDADGRPDKVVAEEAWENHLKRNDSIIVDIFHGLFKSTLVCPECAKISVTFDPFCYLTLPLPMKKERTLEVYLVRMDPLTKPMQYKVVVPKIGNILDLCTALSALSGIPADKMIVTDIYNHRFHRIFAMDENLSSIMERDDIYVFEININRTEDTEHVIIPVCLREKFRHSSYTHHTGSSLFGQPFLMAVPRNNTEDKLYNLLLLRMCRYVKISTETEETEGSLHCCKDQNINGNGPNGIHEEGSPSEMETDEPDDESSQDQELPSENENSQSEDSVGGDNDSENGLCTEDTCKGQLTGHKKRLFTFQFNNLGNTDINYIKDDTRHIRFDDRQLRLDERSFLALDWDPDLKKRYFDENAAEDFEKHESVEYKPPKKPFVKLKDCIELFTTKEKLGAEDPWYCPNCKEHQQATKKLDLWSLPPVLVVHLKRFSYSRYMRDKLDTLVDFPINDLDMSEFLINPNAGPCRYNLIAVSNHYGGMGGGHYTAFAKNKDDGKWYYFDDSSVSTASEDQIVSKAAYVLFYQRQDTFSGTGFFPLDRETKGASAATGIPLESDEDSNDNDNDIENENCMHTN', 'PDB_seq_aln': 'GRNN---------------------------------------------------------------------------------------------------------------------------------------------------------------------------------------------------------------------------------------------------------------------------------------EQPGLCGLSNLGNTCFMNSAIQCLSNTPPLTEYFLNDKYQEELNFDNPLGMRGEIAKSYAELIKQMWSGKFSYVTPRAFKTQVGRFAPQFSGYQQQDCQELLAFLLDGLHEDLNRIRKKPYIQLKDADGRPDKVVAEEAWENHLKRNDSIIVDIFHGLFKSTLVCPECAKISVTFDPFCYLTLPLPMPKKPF----------------------------------------------------------------------------------------------------------------------------------------------------------------------------------------------------------------------------------------------------------------------------------------------------------------------VKLKDCIELFTTKEKLP----WYCPNCKEHQQATKKLDLWSLPPVLVVHLKRFSYSRYMRDKLDTLVDFPINDLDMSEFLINPNAGPCRYNLIAVSNHYGGMGGGHYTAFAKNKDDGKWYYFDDSSVSTASEDQIVSKAAYVLFYQRQDSS---------------------------------------------', 'PDB_AF_identity': 0.967930029154519, 'AF_confidence': [33.81, 31.31, 30.82, 36.04, 46.84, 62.1, 75.02, 85.78, 88.5, 85.48, 88.92, 91.01, 89.58, 90.02, 92.45, 93.29, 89.43, 90.46, 91.52, 88.01, 86.91, 89.82, 86.81, 88.06, 88.02, 86.07, 86.99, 91.83, 93.35, 95.17, 95.68, 94.24, 94.5, 94.18, 91.97, 91.76, 94.69, 93.32, 90.63, 90.73, 93.47, 91.19, 88.2, 91.58, 90.02, 85.32, 85.33, 82.14, 70.95, 72.57, 71.14, 71.31, 70.82, 68.0, 82.11, 80.14, 81.78, 83.98, 81.1, 82.89, 89.81, 89.37, 90.82, 93.06, 93.49, 92.36, 92.62, 89.22, 87.16, 89.57, 89.36, 84.07, 74.75, 69.77, 70.4, 65.76, 70.4, 80.1, 85.69, 84.93, 80.78, 79.4, 79.62, 77.25, 79.56, 81.69, 80.51, 84.54, 92.5, 92.61, 93.16, 93.51, 95.04, 94.69, 93.39, 93.6, 94.76, 94.53, 93.76, 93.02, 93.0, 92.62, 92.79, 92.75, 91.68, 91.43, 88.42, 83.16, 81.6, 85.74, 87.06, 90.88, 92.2, 92.89, 91.99, 92.47, 91.01, 86.19, 83.1, 67.68, 55.43, 50.53, 42.98, 51.33, 67.6, 76.71, 84.26, 85.44, 88.31, 88.65, 88.08, 85.57, 86.21, 82.82, 87.29, 89.9, 90.91, 93.06, 90.95, 90.26, 84.34, 78.24, 81.23, 79.57, 79.34, 87.16, 86.15, 89.76, 90.67, 90.78, 90.66, 91.1, 89.59, 84.35, 86.46, 91.36, 92.54, 92.17, 92.22, 92.55, 92.34, 92.2, 92.52, 92.35, 92.44, 92.39, 91.6, 89.74, 90.9, 89.98, 87.81, 87.31, 81.78, 83.55, 84.29, 86.55, 89.76, 89.48, 90.57, 86.63, 84.64, 79.92, 64.45, 54.95, 57.22, 58.72, 61.08, 76.06, 76.63, 83.9, 84.63, 82.02, 84.13, 85.6, 86.87, 86.41, 87.05, 83.39, 76.87, 80.4, 80.68, 75.81, 78.82, 75.24, 78.09, 80.68, 82.29, 88.29, 90.57, 89.26, 91.68, 89.71, 89.08, 86.52, 81.06, 77.12, 78.1, 75.53, 77.42, 78.97, 73.99, 66.76, 55.93, 40.07, 29.66, 30.69, 35.73, 32.34, 31.12, 35.31, 34.13, 34.72, 34.24, 33.7, 32.84, 29.0, 34.74, 31.01, 34.45, 30.31, 35.13, 30.26, 34.56, 35.29, 35.55, 34.44, 33.95, 33.35, 34.24, 33.57, 36.09, 34.18, 36.76, 36.61, 36.61, 37.44, 37.48, 39.33, 38.83, 36.98, 39.4, 38.27, 39.82, 34.04, 32.14, 40.18, 34.81, 36.42, 31.21, 34.53, 35.15, 32.78, 32.21, 32.95, 27.81, 34.73, 30.06, 27.48, 36.73, 32.6, 38.92, 47.95, 64.43, 79.25, 89.48, 95.8, 94.83, 96.22, 96.42, 94.59, 95.1, 91.66, 86.58, 84.22, 73.88, 81.41, 89.67, 92.25, 93.32, 95.13, 96.95, 97.35, 97.62, 98.31, 98.39, 98.48, 98.3, 98.32, 97.72, 97.57, 95.44, 94.27, 96.63, 97.0, 95.05, 95.91, 97.27, 96.22, 95.73, 95.91, 94.66, 96.78, 96.16, 94.36, 95.74, 97.08, 95.7, 96.04, 94.07, 92.88, 90.61, 90.14, 89.75, 94.38, 93.23, 94.1, 96.34, 97.05, 97.89, 97.6, 97.4, 98.29, 98.05, 97.78, 97.95, 98.21, 98.02, 97.1, 97.73, 97.71, 95.84, 92.95, 92.75, 92.33, 88.59, 92.0, 94.91, 96.06, 93.64, 91.2, 92.67, 94.99, 92.19, 90.85, 91.53, 92.16, 87.5, 85.5, 86.81, 85.95, 83.49, 80.56, 84.57, 74.07, 67.92, 64.72, 65.85, 67.94, 82.16, 87.56, 91.81, 93.05, 92.3, 94.16, 95.77, 94.88, 95.26, 96.78, 97.03, 95.87, 95.95, 97.84, 97.97, 97.79, 97.97, 97.67, 97.57, 97.2, 95.71, 92.92, 92.54, 92.97, 93.31, 90.68, 87.94, 85.28, 79.78, 80.53, 85.43, 87.16, 86.62, 86.87, 94.14, 94.15, 94.2, 93.85, 94.41, 94.79, 94.31, 94.28, 94.71, 94.97, 94.84, 95.22, 94.69, 95.27, 95.56, 94.64, 95.61, 96.24, 96.77, 96.96, 96.52, 97.59, 96.63, 95.24, 96.04, 97.51, 97.06, 95.46, 95.79, 94.86, 96.12, 95.78, 95.85, 94.96, 96.06, 95.59, 94.35, 95.0, 95.45, 94.39, 93.44, 94.18, 94.0, 95.5, 94.36, 95.28, 93.79, 95.93, 96.96, 96.16, 97.44, 96.95, 96.72, 95.81, 92.18, 88.95, 79.58, 68.99, 66.22, 67.27, 79.12, 79.96, 86.91, 90.1, 92.86, 95.01, 95.87, 95.78, 93.63, 91.18, 84.51, 87.35, 84.6, 87.09, 90.28, 91.66, 93.24, 94.67, 95.92, 95.77, 93.06, 92.03, 90.03, 89.14, 84.58, 74.84, 77.79, 84.11, 91.45, 92.71, 93.27, 92.68, 94.65, 95.42, 94.78, 93.97, 95.76, 95.76, 94.23, 93.45, 93.26, 92.46, 91.68, 91.89, 90.85, 87.6, 89.32, 92.57, 92.1, 94.33, 94.02, 93.03, 90.02, 85.91, 84.83, 86.41, 86.26, 87.99, 85.4, 88.55, 89.52, 89.95, 88.4, 88.25, 88.04, 88.15, 85.7, 87.5, 80.47, 83.42, 86.85, 82.63, 74.95, 81.69, 87.55, 90.03, 94.97, 94.96, 95.55, 93.7, 93.24, 87.13, 75.48, 69.53, 63.0, 60.34, 58.73, 60.18, 64.02, 68.05, 75.23, 79.55, 78.84, 82.74, 83.9, 88.41, 89.83, 89.58, 90.61, 88.27, 86.84, 77.28, 69.61, 56.69, 43.24, 41.26, 34.59, 40.14, 38.53, 33.35, 39.68, 41.79, 50.25, 66.96, 81.07, 85.8, 88.97, 84.82, 85.45, 90.32, 90.64, 89.07, 85.85, 85.23, 84.26, 84.36, 79.95, 80.66, 76.33, 83.45, 81.28, 84.2, 86.83, 88.29, 89.94, 89.43, 89.86, 90.63, 90.02, 88.94, 88.56, 90.72, 90.63, 88.45, 89.93, 88.84, 80.51, 71.1, 55.06, 41.8, 36.31, 31.79, 32.95, 33.33, 30.83, 33.37, 31.23, 33.76, 27.21, 32.48, 25.33, 26.82, 31.45, 31.64, 34.91, 29.48, 37.11, 31.94, 34.65, 34.43, 30.78, 39.33, 30.44, 34.45, 34.18, 31.74, 35.29, 32.36, 31.74, 33.83, 33.88, 33.67, 33.54, 28.57, 32.16, 28.56, 33.28, 31.34, 36.36, 31.71, 31.59, 32.23, 28.35, 31.11, 26.74, 31.43, 30.32, 26.97, 28.4, 30.26, 27.13, 29.11, 28.7, 30.56, 29.1, 27.79, 31.91, 32.18, 33.09, 33.56, 31.78, 35.65, 31.34, 30.46, 33.06, 30.17, 35.03, 32.68, 35.47, 28.56, 33.23, 28.66, 29.25, 32.86, 28.65, 31.89, 27.53, 28.56, 26.83, 25.51, 28.89, 24.94, 29.89, 27.6, 37.22, 56.38, 67.97, 83.35, 87.94, 89.23, 86.44, 85.83, 78.91, 74.31, 63.61, 54.44, 49.25, 41.84, 41.24, 42.09, 49.16, 50.68, 46.14, 49.75, 45.05, 43.4, 49.22, 47.16, 51.2, 62.33, 64.92, 68.75, 68.54, 68.75, 62.27, 52.7, 52.5, 51.13, 53.9, 55.34, 60.91, 62.34, 63.7, 65.33, 72.16, 80.13, 86.77, 86.77, 91.24, 88.95, 90.74, 85.07, 85.49, 85.43, 88.08, 88.57, 87.4, 87.84, 90.61, 89.92, 89.91, 85.55, 86.46, 88.26, 85.52, 83.9, 90.23, 90.89, 93.26, 92.46, 93.41, 90.92, 89.32, 85.66, 81.08, 70.89, 61.56, 58.53, 53.82, 52.54, 57.15, 65.96, 82.23, 90.35, 93.37, 95.57, 94.02, 92.3, 94.48, 94.41, 93.23, 91.89, 93.45, 93.28, 92.52, 91.21, 90.78, 88.8, 87.62, 82.74, 83.81, 81.95, 85.87, 91.13, 92.78, 94.32, 94.24, 91.88, 93.15, 94.15, 93.47, 92.9, 95.51, 91.97, 91.69, 92.42, 94.28, 93.52, 95.27, 96.05, 96.67, 96.55, 96.06, 94.42, 95.11, 95.04, 94.47, 96.94, 97.59, 98.41, 98.32, 98.05, 96.68, 92.72, 90.38, 83.71, 69.94, 61.43, 55.35, 49.74, 48.41, 45.75, 61.29, 67.26, 78.32, 82.07, 83.67, 86.1, 92.04, 94.62, 95.41, 97.13, 96.97, 97.28, 96.08, 95.14, 96.35, 95.58, 94.94, 92.47, 91.31, 93.2, 93.85, 93.92, 91.28, 81.63, 82.73, 81.14, 80.94, 86.88, 90.11, 95.31, 96.88, 97.2, 98.23, 98.03, 98.56, 98.54, 98.21, 95.19, 92.6, 83.04, 73.01, 62.33, 55.03, 50.94, 60.54, 76.49, 86.23, 93.59, 94.0, 98.4, 98.5, 98.47, 97.64, 96.76, 94.4, 93.66, 94.66, 94.01, 96.94, 97.89, 97.71, 96.75, 96.36, 91.41, 92.63, 89.69, 85.55, 93.99, 88.38, 93.61, 93.21, 91.15, 92.98, 90.79, 89.34, 94.69, 95.47, 92.76, 92.24, 93.16, 96.65, 96.87, 98.31, 98.59, 98.6, 98.24, 96.47, 94.17, 91.52, 85.09, 83.14, 72.61, 56.15, 50.18, 39.63, 38.88, 45.52, 52.11, 42.62, 44.93, 41.27, 41.44, 44.59, 41.83, 37.24, 34.32, 36.24, 36.2, 35.77, 34.52, 33.29, 33.4, 32.04, 35.66, 34.75, 37.73, 38.45, 36.42, 39.97, 38.52, 40.06, 35.56, 40.48, 38.17, 39.06, 38.18, 37.0, 39.85, 36.37, 38.01, 38.39, 38.08, 37.63, 37.99, 37.92, 38.0, 42.84]}, 'ligand_groups': [{'name': 'ZN', 'ligands': [{'sdf_id': '6crn_ZN_1_A_700__I___', 'chemid': 'ZN', 'smiles': '[Zn+2]', 'pdb_id': '6CRN', 'pdb_chain': 'A', 'num_heavy_atoms': 1, 'frac_resolved': 1.0, 'affinity': None}], 'domain_aligment': {'interacting_domains': [0], 'pdb_resi_ranges': [[280, 626]], 'af_resi_ranges': [[280, 937]], 'af_aln': 'GRNNEQPGLCGLSNLGNTCFMNSAIQCLSNTPPLTEYFLNDKYQEELNFDNPLGMRGEIAKSYAELIKQMWSGKFSYVTPRAFKTQVGRFAPQFSGYQQQDCQELLAFLLDGLHEDLNRIRKKPYIQLKDADGRPDKVVAEEAWENHLKRNDSIIVDIFHGLFKSTLVCPECAKISVTFDPFCYLTLPLPMKKERTLEVYLVRMDPLTKPMQYKVVVPKIGNILDLCTALSALSGIPADKMIVTDIYNHRFHRIFAMDENLSSIMERDDIYVFEININRTEDTEHVIIPVCLREKFRHSSYTHHTGSSLFGQPFLMAVPRNNTEDKLYNLLLLRMCRYVKISTETEETEGSLHCCKDQNINGNGPNGIHEEGSPSEMETDEPDDESSQDQELPSENENSQSEDSVGGDNDSENGLCTEDTCKGQLTGHKKRLFTFQFNNLGNTDINYIKDDTRHIRFDDRQLRLDERSFLALDWDPDLKKRYFDENAAEDFEKHESVEYKPPKKPFVKLKDCIELFTTKEKLGAEDPWYCPNCKEHQQATKKLDLWSLPPVLVVHLKRFSYSRYMRDKLDTLVDFPINDLDMSEFLINPNAGPCRYNLIAVSNHYGGMGGGHYTAFAKNKDDGKWYYFDDSSVSTASEDQIVSKAAYVLFYQRQDTFS', 'pdb_aln': 'GRNNEQPGLCGLSNLGNTCFMNSAIQCLSNTPPLTEYFLNDKYQEELNFDNPLGMRGEIAKSYAELIKQMWSGKFSYVTPRAFKTQVGRFAPQFSGYQQQDCQELLAFLLDGLHEDLNRIRKKPYIQLKDADGRPDKVVAEEAWENHLKRNDSIIVDIFHGLFKSTLVCPECAKISVTFDPFCYLTLPLPMPKKPF----------------------------------------------------------------------------------------------------------------------------------------------------------------------------------------------------------------------------------------------------------------------------------------------------------------------VKLKDCIELFTTKEKLP----WYCPNCKEHQQATKKLDLWSLPPVLVVHLKRFSYSRYMRDKLDTLVDFPINDLDMSEFLINPNAGPCRYNLIAVSNHYGGMGGGHYTAFAKNKDDGKWYYFDDSSVSTASEDQIVSKAAYVLFYQRQDSS-', 'pdb_af_identity': 0.9795918367346939, 'rmsd_aln': 0.4309612512588501}, 'bsite_analysis': {'nresidues': 14, 'rmsd_ca': 0.8169606428571414, 'identity': 1.0, 'resnums_pdb': [448, 449, 450, 451, 452, 453, 497, 499, 500, 501, 502, 503, 504, 506], 'resnums_af': [448, 449, 450, 451, 452, 453, 807, 809, 810, 811, 812, 813, 814, 816], 'seq_pdb': 'CPECAKWCPNCKEQ', 'seq_af': 'CPECAKWCPNCKEQ'}}]}\n"
     ]
    }
   ],
   "source": [
    "# we found one case with Z amino acid\n",
    "for key, case_dict in cases_filt.items():\n",
    "    if 'Z' in case_dict['entity_info']['pdbx_seq_one_letter_code']:\n",
    "        print(case_dict)\n",
    "        break"
   ]
  },
  {
   "cell_type": "code",
   "execution_count": null,
   "metadata": {},
   "outputs": [],
   "source": []
  },
  {
   "cell_type": "code",
   "execution_count": 14,
   "metadata": {
    "scrolled": true
   },
   "outputs": [
    {
     "name": "stderr",
     "output_type": "stream",
     "text": [
      "  2%|▏         | 553/23697 [00:04<02:47, 138.53it/s]Traceback (most recent call last):\n",
      "  File \"<ipython-input-14-6528b01ed359>\", line 11, in <module>\n",
      "    lig_feats = features.ligand_featurize(mol, mol_3d)\n",
      "  File \"/home/ignatovmg/projects/alphadock/alphadock/features.py\", line 506, in ligand_featurize\n",
      "    assert len(matches) > 0\n",
      "AssertionError\n",
      "  2%|▏         | 583/23697 [00:04<02:53, 133.38it/s]"
     ]
    },
    {
     "name": "stdout",
     "output_type": "stream",
     "text": [
      "(Path('1FFT_A'), 'CU_HEO')\n"
     ]
    },
    {
     "name": "stderr",
     "output_type": "stream",
     "text": [
      "  3%|▎         | 625/23697 [00:04<02:57, 130.26it/s]Traceback (most recent call last):\n",
      "  File \"<ipython-input-14-6528b01ed359>\", line 11, in <module>\n",
      "    lig_feats = features.ligand_featurize(mol, mol_3d)\n",
      "  File \"/home/ignatovmg/projects/alphadock/alphadock/features.py\", line 506, in ligand_featurize\n",
      "    assert len(matches) > 0\n",
      "AssertionError\n",
      "Traceback (most recent call last):\n",
      "  File \"<ipython-input-14-6528b01ed359>\", line 11, in <module>\n",
      "    lig_feats = features.ligand_featurize(mol, mol_3d)\n",
      "  File \"/home/ignatovmg/projects/alphadock/alphadock/features.py\", line 506, in ligand_featurize\n",
      "    assert len(matches) > 0\n",
      "AssertionError\n",
      "  3%|▎         | 651/23697 [00:05<03:33, 108.11it/s]"
     ]
    },
    {
     "name": "stdout",
     "output_type": "stream",
     "text": [
      "(Path('1FUO_A'), 'MLT')\n",
      "(Path('1FUP_A'), 'MLT')\n"
     ]
    },
    {
     "name": "stderr",
     "output_type": "stream",
     "text": [
      "  5%|▍         | 1118/23697 [00:09<02:54, 129.17it/s]Traceback (most recent call last):\n",
      "  File \"<ipython-input-14-6528b01ed359>\", line 11, in <module>\n",
      "    lig_feats = features.ligand_featurize(mol, mol_3d)\n",
      "  File \"/home/ignatovmg/projects/alphadock/alphadock/features.py\", line 506, in ligand_featurize\n",
      "    assert len(matches) > 0\n",
      "AssertionError\n",
      "  5%|▍         | 1134/23697 [00:09<02:47, 134.61it/s]"
     ]
    },
    {
     "name": "stdout",
     "output_type": "stream",
     "text": [
      "(Path('1JOL_A'), 'FFO')\n"
     ]
    },
    {
     "name": "stderr",
     "output_type": "stream",
     "text": [
      "  6%|▌         | 1451/23697 [00:11<02:48, 131.97it/s]Traceback (most recent call last):\n",
      "  File \"<ipython-input-14-6528b01ed359>\", line 11, in <module>\n",
      "    lig_feats = features.ligand_featurize(mol, mol_3d)\n",
      "  File \"/home/ignatovmg/projects/alphadock/alphadock/features.py\", line 506, in ligand_featurize\n",
      "    assert len(matches) > 0\n",
      "AssertionError\n",
      "  6%|▌         | 1478/23697 [00:11<03:01, 122.21it/s]"
     ]
    },
    {
     "name": "stdout",
     "output_type": "stream",
     "text": [
      "(Path('1MMG_A'), 'AGS_MG')\n"
     ]
    },
    {
     "name": "stderr",
     "output_type": "stream",
     "text": [
      "  6%|▋         | 1491/23697 [00:11<02:58, 124.10it/s]Traceback (most recent call last):\n",
      "  File \"<ipython-input-14-6528b01ed359>\", line 11, in <module>\n",
      "    lig_feats = features.ligand_featurize(mol, mol_3d)\n",
      "  File \"/home/ignatovmg/projects/alphadock/alphadock/features.py\", line 506, in ligand_featurize\n",
      "    assert len(matches) > 0\n",
      "AssertionError\n",
      "  6%|▋         | 1521/23697 [00:12<02:50, 130.10it/s]"
     ]
    },
    {
     "name": "stdout",
     "output_type": "stream",
     "text": [
      "(Path('1MU9_A'), 'GOL_VO4')\n"
     ]
    },
    {
     "name": "stderr",
     "output_type": "stream",
     "text": [
      " 12%|█▏        | 2765/23697 [00:21<02:53, 120.96it/s]Traceback (most recent call last):\n",
      "  File \"<ipython-input-14-6528b01ed359>\", line 11, in <module>\n",
      "    lig_feats = features.ligand_featurize(mol, mol_3d)\n",
      "  File \"/home/ignatovmg/projects/alphadock/alphadock/features.py\", line 506, in ligand_featurize\n",
      "    assert len(matches) > 0\n",
      "AssertionError\n",
      " 12%|█▏        | 2778/23697 [00:21<03:07, 111.67it/s]"
     ]
    },
    {
     "name": "stdout",
     "output_type": "stream",
     "text": [
      "(Path('1XDY_A'), 'MTE_W')\n"
     ]
    },
    {
     "name": "stderr",
     "output_type": "stream",
     "text": [
      " 27%|██▋       | 6425/23697 [00:53<02:58, 96.52it/s] Traceback (most recent call last):\n",
      "  File \"<ipython-input-14-6528b01ed359>\", line 11, in <module>\n",
      "    lig_feats = features.ligand_featurize(mol, mol_3d)\n",
      "  File \"/home/ignatovmg/projects/alphadock/alphadock/features.py\", line 506, in ligand_featurize\n",
      "    assert len(matches) > 0\n",
      "AssertionError\n",
      " 27%|██▋       | 6452/23697 [00:53<02:42, 106.10it/s]"
     ]
    },
    {
     "name": "stdout",
     "output_type": "stream",
     "text": [
      "(Path('3B9X_A'), 'CA_NOS')\n"
     ]
    },
    {
     "name": "stderr",
     "output_type": "stream",
     "text": [
      " 30%|██▉       | 7019/23697 [00:58<02:06, 132.02it/s]Traceback (most recent call last):\n",
      "  File \"<ipython-input-14-6528b01ed359>\", line 11, in <module>\n",
      "    lig_feats = features.ligand_featurize(mol, mol_3d)\n",
      "  File \"/home/ignatovmg/projects/alphadock/alphadock/features.py\", line 506, in ligand_featurize\n",
      "    assert len(matches) > 0\n",
      "AssertionError\n",
      " 30%|██▉       | 7046/23697 [00:58<02:17, 121.37it/s]"
     ]
    },
    {
     "name": "stdout",
     "output_type": "stream",
     "text": [
      "(Path('3ECR_A'), 'DPM')\n"
     ]
    },
    {
     "name": "stderr",
     "output_type": "stream",
     "text": [
      "Traceback (most recent call last):\n",
      "  File \"<ipython-input-14-6528b01ed359>\", line 11, in <module>\n",
      "    lig_feats = features.ligand_featurize(mol, mol_3d)\n",
      "  File \"/home/ignatovmg/projects/alphadock/alphadock/features.py\", line 506, in ligand_featurize\n",
      "    assert len(matches) > 0\n",
      "AssertionError\n",
      " 30%|██▉       | 7075/23697 [00:58<02:29, 111.20it/s]"
     ]
    },
    {
     "name": "stdout",
     "output_type": "stream",
     "text": [
      "(Path('3EGW_A'), '6MO_MD1_MGD')\n"
     ]
    },
    {
     "name": "stderr",
     "output_type": "stream",
     "text": [
      " 30%|███       | 7115/23697 [00:58<02:32, 109.04it/s]Traceback (most recent call last):\n",
      "  File \"<ipython-input-14-6528b01ed359>\", line 11, in <module>\n",
      "    lig_feats = features.ligand_featurize(mol, mol_3d)\n",
      "  File \"/home/ignatovmg/projects/alphadock/alphadock/features.py\", line 506, in ligand_featurize\n",
      "    assert len(matches) > 0\n",
      "AssertionError\n",
      "Traceback (most recent call last):\n",
      "  File \"<ipython-input-14-6528b01ed359>\", line 11, in <module>\n",
      "    lig_feats = features.ligand_featurize(mol, mol_3d)\n",
      "  File \"/home/ignatovmg/projects/alphadock/alphadock/features.py\", line 506, in ligand_featurize\n",
      "    assert len(matches) > 0\n",
      "AssertionError\n",
      " 30%|███       | 7127/23697 [00:59<02:35, 106.55it/s]Traceback (most recent call last):\n",
      "  File \"<ipython-input-14-6528b01ed359>\", line 11, in <module>\n",
      "    lig_feats = features.ligand_featurize(mol, mol_3d)\n",
      "  File \"/home/ignatovmg/projects/alphadock/alphadock/features.py\", line 506, in ligand_featurize\n",
      "    assert len(matches) > 0\n",
      "AssertionError\n"
     ]
    },
    {
     "name": "stdout",
     "output_type": "stream",
     "text": [
      "(Path('3EQ1_A'), 'DPM')\n",
      "(Path('3EQC_A'), '3BM_AGS_MG')\n",
      "(Path('3EQD_A'), 'AGS_MG')\n"
     ]
    },
    {
     "name": "stderr",
     "output_type": "stream",
     "text": [
      " 31%|███▏      | 7420/23697 [01:01<02:05, 129.81it/s]Traceback (most recent call last):\n",
      "  File \"<ipython-input-14-6528b01ed359>\", line 11, in <module>\n",
      "    lig_feats = features.ligand_featurize(mol, mol_3d)\n",
      "  File \"/home/ignatovmg/projects/alphadock/alphadock/features.py\", line 506, in ligand_featurize\n",
      "    assert len(matches) > 0\n",
      "AssertionError\n",
      " 31%|███▏      | 7447/23697 [01:01<02:16, 118.99it/s]"
     ]
    },
    {
     "name": "stdout",
     "output_type": "stream",
     "text": [
      "(Path('3FZP_A'), 'AGS')\n"
     ]
    },
    {
     "name": "stderr",
     "output_type": "stream",
     "text": [
      " 32%|███▏      | 7539/23697 [01:02<02:11, 122.96it/s]Traceback (most recent call last):\n",
      "  File \"<ipython-input-14-6528b01ed359>\", line 11, in <module>\n",
      "    lig_feats = features.ligand_featurize(mol, mol_3d)\n",
      "  File \"/home/ignatovmg/projects/alphadock/alphadock/features.py\", line 506, in ligand_featurize\n",
      "    assert len(matches) > 0\n",
      "AssertionError\n",
      " 32%|███▏      | 7575/23697 [01:02<01:52, 142.69it/s]"
     ]
    },
    {
     "name": "stdout",
     "output_type": "stream",
     "text": [
      "(Path('3GLC_A'), 'R5P')\n"
     ]
    },
    {
     "name": "stderr",
     "output_type": "stream",
     "text": [
      " 57%|█████▋    | 13403/23697 [01:51<01:17, 132.60it/s]Traceback (most recent call last):\n",
      "  File \"<ipython-input-14-6528b01ed359>\", line 11, in <module>\n",
      "    lig_feats = features.ligand_featurize(mol, mol_3d)\n",
      "  File \"/home/ignatovmg/projects/alphadock/alphadock/features.py\", line 506, in ligand_featurize\n",
      "    assert len(matches) > 0\n",
      "AssertionError\n",
      " 57%|█████▋    | 13435/23697 [01:52<01:18, 131.50it/s]"
     ]
    },
    {
     "name": "stdout",
     "output_type": "stream",
     "text": [
      "(Path('4KN7_C'), '1RM')\n"
     ]
    },
    {
     "name": "stderr",
     "output_type": "stream",
     "text": [
      " 68%|██████▊   | 16088/23697 [02:12<00:56, 133.94it/s]Traceback (most recent call last):\n",
      "  File \"<ipython-input-14-6528b01ed359>\", line 11, in <module>\n",
      "    lig_feats = features.ligand_featurize(mol, mol_3d)\n",
      "  File \"/home/ignatovmg/projects/alphadock/alphadock/features.py\", line 506, in ligand_featurize\n",
      "    assert len(matches) > 0\n",
      "AssertionError\n",
      " 68%|██████▊   | 16115/23697 [02:12<01:03, 118.91it/s]"
     ]
    },
    {
     "name": "stdout",
     "output_type": "stream",
     "text": [
      "(Path('4YZS_B'), 'W')\n"
     ]
    },
    {
     "name": "stderr",
     "output_type": "stream",
     "text": [
      " 68%|██████▊   | 16154/23697 [02:13<01:08, 110.78it/s]Traceback (most recent call last):\n",
      "  File \"<ipython-input-14-6528b01ed359>\", line 11, in <module>\n",
      "    lig_feats = features.ligand_featurize(mol, mol_3d)\n",
      "  File \"/home/ignatovmg/projects/alphadock/alphadock/features.py\", line 506, in ligand_featurize\n",
      "    assert len(matches) > 0\n",
      "AssertionError\n",
      "Traceback (most recent call last):\n",
      "  File \"<ipython-input-14-6528b01ed359>\", line 11, in <module>\n",
      "    lig_feats = features.ligand_featurize(mol, mol_3d)\n",
      "  File \"/home/ignatovmg/projects/alphadock/alphadock/features.py\", line 506, in ligand_featurize\n",
      "    assert len(matches) > 0\n",
      "AssertionError\n",
      " 68%|██████▊   | 16168/23697 [02:13<01:16, 99.00it/s] Traceback (most recent call last):\n",
      "  File \"<ipython-input-14-6528b01ed359>\", line 11, in <module>\n",
      "    lig_feats = features.ligand_featurize(mol, mol_3d)\n",
      "  File \"/home/ignatovmg/projects/alphadock/alphadock/features.py\", line 506, in ligand_featurize\n",
      "    assert len(matches) > 0\n",
      "AssertionError\n",
      " 68%|██████▊   | 16183/23697 [02:13<01:09, 108.41it/s]"
     ]
    },
    {
     "name": "stdout",
     "output_type": "stream",
     "text": [
      "(Path('4ZFX_A'), 'EB4_TH')\n",
      "(Path('4ZFX_B'), 'TH')\n",
      "(Path('4ZHC_A'), 'TC2_TH')\n"
     ]
    },
    {
     "name": "stderr",
     "output_type": "stream",
     "text": [
      " 74%|███████▍  | 17612/23697 [02:26<00:57, 105.56it/s]Traceback (most recent call last):\n",
      "  File \"<ipython-input-14-6528b01ed359>\", line 11, in <module>\n",
      "    lig_feats = features.ligand_featurize(mol, mol_3d)\n",
      "  File \"/home/ignatovmg/projects/alphadock/alphadock/features.py\", line 506, in ligand_featurize\n",
      "    assert len(matches) > 0\n",
      "AssertionError\n",
      " 74%|███████▍  | 17636/23697 [02:27<00:56, 106.91it/s]"
     ]
    },
    {
     "name": "stdout",
     "output_type": "stream",
     "text": [
      "(Path('5FKJ_B'), 'G0W')\n"
     ]
    },
    {
     "name": "stderr",
     "output_type": "stream",
     "text": [
      " 78%|███████▊  | 18571/23697 [02:35<01:32, 55.57it/s] Traceback (most recent call last):\n",
      "  File \"<ipython-input-14-6528b01ed359>\", line 11, in <module>\n",
      "    lig_feats = features.ligand_featurize(mol, mol_3d)\n",
      "  File \"/home/ignatovmg/projects/alphadock/alphadock/features.py\", line 506, in ligand_featurize\n",
      "    assert len(matches) > 0\n",
      "AssertionError\n",
      " 78%|███████▊  | 18586/23697 [02:35<01:17, 65.92it/s]"
     ]
    },
    {
     "name": "stdout",
     "output_type": "stream",
     "text": [
      "(Path('5KCF_A'), 'OB5')\n"
     ]
    },
    {
     "name": "stderr",
     "output_type": "stream",
     "text": [
      " 79%|███████▊  | 18608/23697 [02:36<01:12, 70.55it/s]Traceback (most recent call last):\n",
      "  File \"<ipython-input-14-6528b01ed359>\", line 11, in <module>\n",
      "    lig_feats = features.ligand_featurize(mol, mol_3d)\n",
      "  File \"/home/ignatovmg/projects/alphadock/alphadock/features.py\", line 506, in ligand_featurize\n",
      "    assert len(matches) > 0\n",
      "AssertionError\n",
      "Traceback (most recent call last):\n",
      "  File \"<ipython-input-14-6528b01ed359>\", line 11, in <module>\n",
      "    lig_feats = features.ligand_featurize(mol, mol_3d)\n",
      "  File \"/home/ignatovmg/projects/alphadock/alphadock/features.py\", line 506, in ligand_featurize\n",
      "    assert len(matches) > 0\n",
      "AssertionError\n",
      " 79%|███████▊  | 18622/23697 [02:36<01:01, 81.87it/s]"
     ]
    },
    {
     "name": "stdout",
     "output_type": "stream",
     "text": [
      "(Path('5KHP_A'), '7K9_ZR')\n",
      "(Path('5KID_A'), '7K9_TH')\n"
     ]
    },
    {
     "name": "stderr",
     "output_type": "stream",
     "text": [
      " 87%|████████▋ | 20532/23697 [02:50<00:28, 110.71it/s]Traceback (most recent call last):\n",
      "  File \"<ipython-input-14-6528b01ed359>\", line 11, in <module>\n",
      "    lig_feats = features.ligand_featurize(mol, mol_3d)\n",
      "  File \"/home/ignatovmg/projects/alphadock/alphadock/features.py\", line 506, in ligand_featurize\n",
      "    assert len(matches) > 0\n",
      "AssertionError\n",
      " 87%|████████▋ | 20564/23697 [02:50<00:25, 123.55it/s]"
     ]
    },
    {
     "name": "stdout",
     "output_type": "stream",
     "text": [
      "(Path('5URG_B'), 'NAP')\n"
     ]
    },
    {
     "name": "stderr",
     "output_type": "stream",
     "text": [
      "100%|█████████▉| 23613/23697 [03:15<00:00, 139.85it/s]Traceback (most recent call last):\n",
      "  File \"<ipython-input-14-6528b01ed359>\", line 11, in <module>\n",
      "    lig_feats = features.ligand_featurize(mol, mol_3d)\n",
      "  File \"/home/ignatovmg/projects/alphadock/alphadock/features.py\", line 506, in ligand_featurize\n",
      "    assert len(matches) > 0\n",
      "AssertionError\n",
      "100%|█████████▉| 23642/23697 [03:16<00:00, 134.14it/s]"
     ]
    },
    {
     "name": "stdout",
     "output_type": "stream",
     "text": [
      "(Path('6QDX_D'), 'HY8')\n"
     ]
    },
    {
     "name": "stderr",
     "output_type": "stream",
     "text": [
      "100%|██████████| 23697/23697 [03:16<00:00, 120.53it/s]\n"
     ]
    }
   ],
   "source": [
    "# filter out ligands that can't be featurized\n",
    "\n",
    "_cases_filt = OrderedDict()\n",
    "\n",
    "for k, case_dict in tqdm(list(cases_filt.items())[:]):\n",
    "    group_dict = {x['name']: x for x in case_dict['ligand_groups']}[k[1]]\n",
    "    try:\n",
    "        for lig_dict in group_dict['ligands']:\n",
    "            mol = Chem.MolFromSmiles(lig_dict['smiles'])\n",
    "            mol_3d = Chem.MolFromMolFile(Path('data/cases') / case_dict['case_name'] / group_dict['name'] / lig_dict['sdf_id'] + '.mol', removeHs=True)\n",
    "            lig_feats = features.ligand_featurize(mol, mol_3d)\n",
    "            np.save(f\"data/featurized/{lig_dict['sdf_id']}.ligand_feats.npy\", lig_feats)\n",
    "        _cases_filt[k] = case_dict\n",
    "    except:\n",
    "        print(k)\n",
    "        traceback.print_exc()"
   ]
  },
  {
   "cell_type": "code",
   "execution_count": 15,
   "metadata": {},
   "outputs": [],
   "source": [
    "cases_filt = _cases_filt"
   ]
  },
  {
   "cell_type": "code",
   "execution_count": 16,
   "metadata": {},
   "outputs": [],
   "source": [
    "utils.write_json(list(cases_filt.keys()), 'data/cases_filt_keys.json')"
   ]
  },
  {
   "cell_type": "code",
   "execution_count": 17,
   "metadata": {},
   "outputs": [],
   "source": [
    "cases_filt = OrderedDict([((k[0], k[1]), cases_unfilt[k[0]]) for k in utils.read_json('data/cases_filt_keys.json')])"
   ]
  },
  {
   "cell_type": "code",
   "execution_count": null,
   "metadata": {},
   "outputs": [],
   "source": []
  },
  {
   "cell_type": "code",
   "execution_count": 18,
   "metadata": {},
   "outputs": [],
   "source": [
    "element_counts = []\n",
    "for key in cases_filt.keys():\n",
    "    group_dict = {x['name']: x for x in cases_filt[key]['ligand_groups']}[key[1]]\n",
    "    for lig_dict in group_dict['ligands']:\n",
    "        element_counts += sorted(set([x.GetSymbol().upper() for x in Chem.MolFromSmiles(lig_dict['smiles']).GetAtoms()]))\n",
    "element_counts = Counter(element_counts)"
   ]
  },
  {
   "cell_type": "code",
   "execution_count": 19,
   "metadata": {},
   "outputs": [
    {
     "data": {
      "text/plain": [
       "[('O', 18063),\n",
       " ('C', 17385),\n",
       " ('N', 11872),\n",
       " ('S', 4438),\n",
       " ('P', 4417),\n",
       " ('ZN', 2764),\n",
       " ('CL', 2400),\n",
       " ('MG', 1789),\n",
       " ('F', 1726),\n",
       " ('NA', 836),\n",
       " ('CA', 684),\n",
       " ('FE', 557),\n",
       " ('MN', 437),\n",
       " ('K', 303),\n",
       " ('BR', 257),\n",
       " ('NI', 135),\n",
       " ('I', 117),\n",
       " ('CU', 77),\n",
       " ('AL', 75),\n",
       " ('CO', 55),\n",
       " ('V', 24),\n",
       " ('B', 17),\n",
       " ('AS', 14),\n",
       " ('BE', 13),\n",
       " ('MO', 10),\n",
       " ('W', 10),\n",
       " ('HG', 9),\n",
       " ('SR', 8),\n",
       " ('SE', 8),\n",
       " ('XE', 6),\n",
       " ('CD', 5),\n",
       " ('SI', 5),\n",
       " ('AU', 5),\n",
       " ('GD', 5),\n",
       " ('CS', 5),\n",
       " ('RU', 5),\n",
       " ('BA', 5),\n",
       " ('AG', 4),\n",
       " ('PB', 3),\n",
       " ('SM', 3),\n",
       " ('LI', 3),\n",
       " ('SN', 3),\n",
       " ('YB', 2),\n",
       " ('Y', 2),\n",
       " ('PT', 2),\n",
       " ('EU', 2),\n",
       " ('PR', 2),\n",
       " ('RE', 2),\n",
       " ('LA', 2),\n",
       " ('OS', 1),\n",
       " ('ER', 1),\n",
       " ('RH', 1),\n",
       " ('CR', 1),\n",
       " ('PU', 1),\n",
       " ('AM', 1),\n",
       " ('CF', 1),\n",
       " ('AR', 1)]"
      ]
     },
     "execution_count": 19,
     "metadata": {},
     "output_type": "execute_result"
    }
   ],
   "source": [
    "sorted(element_counts.items(), key=lambda x: -x[1])"
   ]
  },
  {
   "cell_type": "code",
   "execution_count": null,
   "metadata": {},
   "outputs": [],
   "source": []
  },
  {
   "cell_type": "code",
   "execution_count": 49,
   "metadata": {},
   "outputs": [],
   "source": [
    "rtype_to_sasa = defaultdict(list)\n",
    "\n",
    "for case_dict in list(cases_filt.values())[:1000]:\n",
    "    sasa = np.loadtxt('data/cases/' + case_dict['case_name'] + '/AF_sasa.txt')\n",
    "    ag = prody.parsePDB('data/cases/' + case_dict['case_name'] + '/AF_orig.pdb')\n",
    "    assert len(sasa) == len(ag)\n",
    "    res_list = list(ag.getHierView().iterResidues())\n",
    "    sasa_residues = [sasa[r.getIndices()].sum() for r in res_list]\n",
    "    for i in range(len(res_list)):\n",
    "        rtype_to_sasa[res_list[i].getResname()].append(sasa_residues[i])"
   ]
  },
  {
   "cell_type": "code",
   "execution_count": 108,
   "metadata": {},
   "outputs": [
    {
     "data": {
      "text/plain": [
       "<AxesSubplot:ylabel='Count'>"
      ]
     },
     "execution_count": 108,
     "metadata": {},
     "output_type": "execute_result"
    },
    {
     "data": {
      "image/png": "[encoded data removed]",
      "text/plain": [
       "<Figure size 432x288 with 1 Axes>"
      ]
     },
     "metadata": {},
     "output_type": "display_data"
    }
   ],
   "source": [
    "sns.histplot(rtype_to_sasa['GLY'])"
   ]
  },
  {
   "cell_type": "code",
   "execution_count": null,
   "metadata": {},
   "outputs": [],
   "source": []
  },
  {
   "cell_type": "code",
   "execution_count": 62,
   "metadata": {},
   "outputs": [
    {
     "name": "stderr",
     "output_type": "stream",
     "text": [
      "100%|██████████| 23671/23671 [14:43<00:00, 26.80it/s]\n"
     ]
    }
   ],
   "source": [
    "case_to_conf = {}\n",
    "for case_dict in tqdm(list(cases_filt.values())):\n",
    "    ag = prody.parsePDB('data/cases/' + case_dict['case_name'] + '/AF_orig.pdb')\n",
    "    case_to_conf[case_dict['case_name']] = ag.calpha.getBetas()"
   ]
  },
  {
   "cell_type": "code",
   "execution_count": 79,
   "metadata": {},
   "outputs": [
    {
     "name": "stderr",
     "output_type": "stream",
     "text": [
      "100%|██████████| 20440/20440 [26:38<00:00, 12.79it/s]  \n"
     ]
    }
   ],
   "source": [
    "case_to_conf_entity = {}\n",
    "for case_name, conf in tqdm(list(case_to_conf.items())[:]):\n",
    "    case_dict = cases_unfilt[case_name]\n",
    "    af_seq = case_dict['alphafold']['seq']\n",
    "    entity_seq = case_dict['entity_info']['pdbx_seq_one_letter_code_can']\n",
    "    af_aln, ent_aln = utils.global_align(af_seq, entity_seq)[0][:2]\n",
    "    assert len(conf) == len(af_seq.replace('-', ''))\n",
    "    #print(af_aln)\n",
    "    #print(ent_aln)\n",
    "    af_ids = []\n",
    "    af_counter = 0\n",
    "    for a, b in zip(af_aln, ent_aln):\n",
    "        if a != '-':\n",
    "            if b != '-':\n",
    "                af_ids.append(af_counter)\n",
    "            af_counter += 1\n",
    "    case_to_conf_entity[case_name] = conf[af_ids]"
   ]
  },
  {
   "cell_type": "code",
   "execution_count": 80,
   "metadata": {
    "scrolled": true
   },
   "outputs": [
    {
     "data": {
      "text/plain": [
       "(0.0, 1000.0)"
      ]
     },
     "execution_count": 80,
     "metadata": {},
     "output_type": "execute_result"
    },
    {
     "data": {
      "image/png": "[encoded data removed]",
      "text/plain": [
       "<Figure size 432x288 with 1 Axes>"
      ]
     },
     "metadata": {},
     "output_type": "display_data"
    }
   ],
   "source": [
    "data = []\n",
    "for cutoff in [0] + list(range(50, 100, 10)):\n",
    "    data += [[cutoff, (case_to_conf_entity[x[0]] > cutoff).sum()] for x in cases_filt.keys()]\n",
    "ax = sns.ecdfplot(data=pd.DataFrame(data, columns=['confidence', 'num_res']), x='num_res', hue='confidence')\n",
    "ax.set_xlim(0, 1000)"
   ]
  },
  {
   "cell_type": "code",
   "execution_count": null,
   "metadata": {},
   "outputs": [],
   "source": []
  },
  {
   "cell_type": "code",
   "execution_count": 82,
   "metadata": {},
   "outputs": [
    {
     "name": "stdout",
     "output_type": "stream",
     "text": [
      "('1FE0_A', 'SO4')\n",
      "('1FE4_A', 'SO4')\n",
      "('1GAQ_B', 'FES')\n",
      "('1GV5_A', 'NA')\n",
      "('1GXT_A', 'TRS')\n",
      "('1IS7_K', 'K')\n",
      "('1IS8_K', 'K')\n",
      "('1JG5_A', 'K')\n",
      "('1L9A_A', 'MMC')\n",
      "('1MR1_C', 'ZN')\n",
      "('1NW9_A', 'ZN')\n",
      "('1OQJ_A', 'ZN')\n",
      "('1PK3_B', 'BME')\n",
      "('1RH7_A', 'PT')\n",
      "('1VA7_C', 'GOL')\n",
      "('1WPL_K', 'NA')\n",
      "('1WRK_A', 'CA')\n",
      "('1WRL_A', 'CA')\n",
      "('2A6R_A', 'MG')\n",
      "('2AYD_A', 'ZN')\n",
      "('2B4J_C', 'GOL')\n",
      "('2BZ8_A', 'NA')\n",
      "('2C7N_I', 'ZN')\n",
      "('2CK2_A', 'ACE')\n",
      "('2DS5_A', 'ZN')\n",
      "('2DS6_A', 'ZN')\n",
      "('2DS8_A', 'ZN')\n",
      "('2EFV_A', 'PO4')\n",
      "('2F44_A', 'CL_ZN')\n",
      "('2FK2_A', 'CU1')\n",
      "('2FMM_B', 'SO4')\n",
      "('2G4S_A', 'CL')\n",
      "('2IDH_A', 'SO4')\n",
      "('2J9U_B', 'ZN')\n",
      "('2O6V_D', 'MES')\n",
      "('2OMH_C', 'URE')\n",
      "('2P2T_A', 'ACT')\n",
      "('2POI_A', 'ZN')\n",
      "('2POP_B', 'ZN')\n",
      "('2Q3G_B', 'CL')\n",
      "('2QAR_A', 'NH4')\n",
      "('2QD0_A', 'FES')\n",
      "('2QH7_A', 'FES')\n",
      "('2R13_A', 'FES')\n",
      "('2RKZ_A', 'SIN')\n",
      "('2UVL_A', 'ZN')\n",
      "('2UVL_B', 'GOL')\n",
      "('2V1W_B', '1PE')\n",
      "('2VSL_A', 'ZN')\n",
      "('2W4P_A', 'GOL')\n",
      "('2WC8_A', 'NA')\n",
      "('2WCB_A', 'NA')\n",
      "('2WCF_E', 'NA')\n",
      "('2WND_A', 'CA')\n",
      "('2WWZ_C', 'ZN')\n",
      "('2WX0_C', 'ZN')\n",
      "('2WX1_C', 'ZN')\n",
      "('2X6L_C', 'GOL')\n",
      "('3A9J_C', 'ZN')\n",
      "('3A9K_C', 'ZN')\n",
      "('3B08_B', 'ZN')\n",
      "('3B0A_B', 'ZN')\n",
      "('3B2F_A', 'FES')\n",
      "('3BSU_C', 'MG')\n",
      "('3CH5_B', 'ZN')\n",
      "('3CNK_A', 'SO4')\n",
      "('3D9T_A', 'ZN')\n",
      "('3D9U_A', 'ZN')\n",
      "('3DFV_C', 'ZN')\n",
      "('3DPR_E', 'CA')\n",
      "('3DX8_B', 'GOL')\n",
      "('3EW0_A', 'FES')\n",
      "('3FNV_A', 'FES')\n",
      "('3FQR_B', 'MG')\n",
      "('3FQX_B', 'MG')\n",
      "('3G9Y_A', 'ZN')\n",
      "('3GA8_A', 'ZN')\n",
      "('3GJ3_B', 'ZN')\n",
      "('3GJ4_B', 'ZN')\n",
      "('3GJ5_B', 'ZN')\n",
      "('3GJ6_B', 'ZN')\n",
      "('3GJ7_B', 'ZN')\n",
      "('3GJ8_B', 'ZN')\n",
      "('3H8D_E', 'SCN')\n",
      "('3H8D_H', 'CL')\n",
      "('3HCM_A', 'ACT_S45')\n",
      "('3HI2_A', 'ZN')\n",
      "('3HIL_A', 'CL')\n",
      "('3HIL_A', 'NO3')\n",
      "('3HL5_A', 'ZN')\n",
      "('3I3C_A', 'NA')\n",
      "('3IHP_D', 'CL')\n",
      "('3KQI_A', 'CL')\n",
      "('3KUS_A', 'GOL')\n",
      "('3LBL_A', 'MI6')\n",
      "('3LPE_B', 'ZN')\n",
      "('3LPQ_A', 'FES')\n",
      "('3M0A_D', 'ZN')\n",
      "('3M0D_D', 'ZN')\n",
      "('3M1D_B', 'ZN')\n",
      "('3NA0_C', 'FES')\n",
      "('3NIS_A', 'ACT')\n",
      "('3O5Z_A', 'CL')\n",
      "('3O5Z_B', 'MPD')\n",
      "('3OJ3_I', 'ZN')\n",
      "('3OJ4_C', 'ZN')\n",
      "('3P4M_B', 'ACE')\n",
      "('3P4N_B', 'ACE')\n",
      "('3P9L_B', 'CA')\n",
      "('3QJ6_A', 'SO4')\n",
      "('3RDV_C', 'BME')\n",
      "('3REE_A', 'FES')\n",
      "('3S2Q_B', 'FES')\n",
      "('3S2R_A', 'FES')\n",
      "('3TBV_F', 'SO4')\n",
      "('3THK_B', 'SO4')\n",
      "('3TJ2_A', 'TJ2')\n",
      "('3U23_A', 'EDO')\n",
      "('3UCY_A', 'MG')\n",
      "('3VHS_A', 'ZN')\n",
      "('3VUY_D', 'K')\n",
      "('3VUY_D', 'ZN')\n",
      "('3W5U_B', 'FES')\n",
      "('3ZRZ_A', 'GOL')\n",
      "('4AYA_A', 'K')\n",
      "('4CC3_E', 'CL')\n",
      "('4CC7_M', 'MG')\n",
      "('4D07_A', 'SO4')\n",
      "('4EIK_A', 'NA')\n",
      "('4ERF_A', '0R3')\n",
      "('4F1E_A', 'FES')\n",
      "('4F28_A', 'FES')\n",
      "('4F2C_B', 'FES')\n",
      "('4FJO_A', 'GOL')\n",
      "('4GWT_A', 'LMR')\n",
      "('4GWV_A', 'FLC')\n",
      "('4HW5_B', 'SO4')\n",
      "('4HWC_E', 'CL')\n",
      "('4HWF_A', 'SO4')\n",
      "('4J3Y_A', 'ZN')\n",
      "('4J44_A', 'ZN')\n",
      "('4J45_A', 'ZN')\n",
      "('4J46_A', 'ZN')\n",
      "('4J47_A', 'ZN')\n",
      "('4J48_A', 'ZN')\n",
      "('4JVR_A', '1MT')\n",
      "('4JWR_A', '1MY')\n",
      "('4K7S_B', 'ACT')\n",
      "('4KJU_A', 'ZN')\n",
      "('4KJV_A', 'ZN')\n",
      "('4KMP_A', 'ZN')\n",
      "('4L8B_B', 'NA')\n",
      "('4LMM_A', 'CL')\n",
      "('4MPA_A', 'CL')\n",
      "('4NE9_D', 'CA')\n",
      "('4O62_A', 'ZN')\n",
      "('4OAS_A', '2SW')\n",
      "('4OBA_A', '2TW')\n",
      "('4OCC_A', '2TZ')\n",
      "('4OGV_A', '2U7')\n",
      "('4OO7_A', 'FES')\n",
      "('4OOA_B', 'FES')\n",
      "('4PL6_A', 'M3L')\n",
      "('4PLI_A', 'M3L')\n",
      "('4PV9_D', 'ACT')\n",
      "('4R2Z_A', 'PG0')\n",
      "('4RHW_D', 'CL')\n",
      "('4TMA_I', 'ZN')\n",
      "('4WIP_B', '1PE')\n",
      "('4WVS_A', 'ZN')\n",
      "('4WVT_A', 'ZN')\n",
      "('4WVU_A', 'ZN')\n",
      "('4WXA_A', 'ACT')\n",
      "('4X33_A', 'FE')\n",
      "('4X9D_B', 'EDO')\n",
      "('4Z0O_A', 'ZN')\n",
      "('4Z0R_A', 'ZN')\n",
      "('4Z9V_F', 'NA')\n",
      "('4ZN1_B', 'ZN')\n",
      "('5AF6_F', 'ZN')\n",
      "('5DNF_E', 'SO4')\n",
      "('5E8P_B', 'SO4')\n",
      "('5FER_A', 'ZN')\n",
      "('5FKP_B', 'TAR')\n",
      "('5FO5_A', 'MG')\n",
      "('5FWC_A', 'NH4')\n",
      "('5H57_A', 'FES')\n",
      "('5H5J_B', 'FES')\n",
      "('5H8Y_E', 'FES')\n",
      "('5H92_C', 'FES')\n",
      "('5IBW_A', 'NA')\n",
      "('5JVU_A', 'EDO')\n",
      "('5JZE_B', 'FLC')\n",
      "('5KL4_A', 'CA')\n",
      "('5L0R_B', 'CA')\n",
      "('5L0S_B', 'CA')\n",
      "('5L2U_A', 'CL')\n",
      "('5LUP_B', 'K')\n",
      "('5NV1_A', 'MG')\n",
      "('5OCN_A', 'K')\n",
      "('5OHV_A', 'SO4')\n",
      "('5OVC_A', 'CL')\n",
      "('5SVH_A', 'GOL')\n",
      "('5TDW_A', 'NA')\n",
      "('5U16_D', 'NA')\n",
      "('5U17_H', 'NA')\n",
      "('5UB5_B', 'CA')\n",
      "('5UK7_F', 'ZN')\n",
      "('5VPA_B', 'NA')\n",
      "('5W1F_A', 'NA')\n",
      "('5WLG_G', 'NA')\n",
      "('5X6V_C', 'NA')\n",
      "('5YT6_F', 'ZN')\n",
      "('6C98_D', 'GOL')\n",
      "('6CEV_A', '5CM_5CM')\n",
      "('6DE9_A', 'FES')\n",
      "('6DS7_A', 'CL')\n",
      "('6FBR_A', 'ZN')\n",
      "('6FQQ_A', 'CL')\n",
      "('6GB7_F', 'SO4')\n",
      "('6GMN_K', 'F4E')\n",
      "('6GMX_K', 'F7B')\n",
      "('6J07_B', 'ZN')\n",
      "('6MS4_B', 'ZN')\n",
      "('6N3F_A', 'PEG')\n",
      "('6OG4_A', 'SO4')\n",
      "('6OWX_B', 'IOD')\n",
      "('6OWY_A', 'IOD')\n",
      "('6OWZ_A', 'IOD')\n",
      "('6OWZ_B', 'IOD_IOD')\n"
     ]
    }
   ],
   "source": [
    "for key, case_dict in cases_filt.items():\n",
    "    if len(case_dict['entity_info']['pdbx_seq_one_letter_code_can']) < 100:\n",
    "        print(key)"
   ]
  },
  {
   "cell_type": "code",
   "execution_count": 168,
   "metadata": {},
   "outputs": [],
   "source": [
    "# affinity distribution"
   ]
  },
  {
   "cell_type": "code",
   "execution_count": 87,
   "metadata": {},
   "outputs": [
    {
     "data": {
      "text/plain": [
       "Counter({('Ki', 'nM'): 1219,\n",
       "         ('Kd', 'nM'): 981,\n",
       "         ('IC50', 'nM'): 2824,\n",
       "         ('EC50', 'nM'): 202,\n",
       "         ('&Delta;G', 'kJ/mol'): 5,\n",
       "         ('-T&Delta;S', 'kJ/mol'): 7,\n",
       "         ('Ka', 'M^-1'): 7,\n",
       "         ('&Delta;H', 'kJ/mol'): 2})"
      ]
     },
     "execution_count": 87,
     "metadata": {},
     "output_type": "execute_result"
    }
   ],
   "source": [
    "aff_values = []\n",
    "for key, case_dict in cases_filt.items():\n",
    "    group_dict = {x['name']: x for x in case_dict['ligand_groups']}[key[1]]\n",
    "    for lig_dict in group_dict['ligands']:\n",
    "        if lig_dict['affinity'] is not None:\n",
    "            aff_values.append((lig_dict['affinity']['type'], lig_dict['affinity']['unit'], lig_dict['affinity']['value']))\n",
    "Counter([(x[0], x[1]) for x in aff_values])"
   ]
  },
  {
   "cell_type": "code",
   "execution_count": 103,
   "metadata": {
    "scrolled": true
   },
   "outputs": [
    {
     "name": "stderr",
     "output_type": "stream",
     "text": [
      "/home/ignatovmg/projects/alphadock/venv/lib/python3.7/site-packages/pandas/core/series.py:726: RuntimeWarning: divide by zero encountered in log10\n",
      "  result = getattr(ufunc, method)(*inputs, **kwargs)\n"
     ]
    },
    {
     "data": {
      "text/plain": [
       "<AxesSubplot:xlabel='value', ylabel='Count'>"
      ]
     },
     "execution_count": 103,
     "metadata": {},
     "output_type": "execute_result"
    },
    {
     "data": {
      "image/png": "[encoded data removed]",
      "text/plain": [
       "<Figure size 432x288 with 1 Axes>"
      ]
     },
     "metadata": {},
     "output_type": "display_data"
    }
   ],
   "source": [
    "data = pd.DataFrame(aff_values, columns=['type','unit','value'])\n",
    "data = data[data['unit']=='nM']\n",
    "data['value'] = np.minimum(np.maximum(np.log10(data['value']), 0), 6)\n",
    "sns.histplot(data=data, x='value', hue='type')"
   ]
  },
  {
   "cell_type": "code",
   "execution_count": 104,
   "metadata": {
    "scrolled": true
   },
   "outputs": [
    {
     "data": {
      "text/html": [
       "<div>\n",
       "<style scoped>\n",
       "    .dataframe tbody tr th:only-of-type {\n",
       "        vertical-align: middle;\n",
       "    }\n",
       "\n",
       "    .dataframe tbody tr th {\n",
       "        vertical-align: top;\n",
       "    }\n",
       "\n",
       "    .dataframe thead th {\n",
       "        text-align: right;\n",
       "    }\n",
       "</style>\n",
       "<table border=\"1\" class=\"dataframe\">\n",
       "  <thead>\n",
       "    <tr style=\"text-align: right;\">\n",
       "      <th></th>\n",
       "      <th>type</th>\n",
       "      <th>unit</th>\n",
       "      <th>value</th>\n",
       "    </tr>\n",
       "  </thead>\n",
       "  <tbody>\n",
       "    <tr>\n",
       "      <th>0</th>\n",
       "      <td>Ki</td>\n",
       "      <td>nM</td>\n",
       "      <td>2.602060</td>\n",
       "    </tr>\n",
       "    <tr>\n",
       "      <th>1</th>\n",
       "      <td>Ki</td>\n",
       "      <td>nM</td>\n",
       "      <td>4.380211</td>\n",
       "    </tr>\n",
       "    <tr>\n",
       "      <th>2</th>\n",
       "      <td>Ki</td>\n",
       "      <td>nM</td>\n",
       "      <td>0.707570</td>\n",
       "    </tr>\n",
       "    <tr>\n",
       "      <th>3</th>\n",
       "      <td>Ki</td>\n",
       "      <td>nM</td>\n",
       "      <td>0.000000</td>\n",
       "    </tr>\n",
       "    <tr>\n",
       "      <th>4</th>\n",
       "      <td>Ki</td>\n",
       "      <td>nM</td>\n",
       "      <td>0.000000</td>\n",
       "    </tr>\n",
       "    <tr>\n",
       "      <th>...</th>\n",
       "      <td>...</td>\n",
       "      <td>...</td>\n",
       "      <td>...</td>\n",
       "    </tr>\n",
       "    <tr>\n",
       "      <th>5242</th>\n",
       "      <td>IC50</td>\n",
       "      <td>nM</td>\n",
       "      <td>1.838849</td>\n",
       "    </tr>\n",
       "    <tr>\n",
       "      <th>5243</th>\n",
       "      <td>IC50</td>\n",
       "      <td>nM</td>\n",
       "      <td>1.672098</td>\n",
       "    </tr>\n",
       "    <tr>\n",
       "      <th>5244</th>\n",
       "      <td>IC50</td>\n",
       "      <td>nM</td>\n",
       "      <td>1.079181</td>\n",
       "    </tr>\n",
       "    <tr>\n",
       "      <th>5245</th>\n",
       "      <td>IC50</td>\n",
       "      <td>nM</td>\n",
       "      <td>2.755875</td>\n",
       "    </tr>\n",
       "    <tr>\n",
       "      <th>5246</th>\n",
       "      <td>Ki</td>\n",
       "      <td>nM</td>\n",
       "      <td>0.041393</td>\n",
       "    </tr>\n",
       "  </tbody>\n",
       "</table>\n",
       "<p>5226 rows × 3 columns</p>\n",
       "</div>"
      ],
      "text/plain": [
       "      type unit     value\n",
       "0       Ki   nM  2.602060\n",
       "1       Ki   nM  4.380211\n",
       "2       Ki   nM  0.707570\n",
       "3       Ki   nM  0.000000\n",
       "4       Ki   nM  0.000000\n",
       "...    ...  ...       ...\n",
       "5242  IC50   nM  1.838849\n",
       "5243  IC50   nM  1.672098\n",
       "5244  IC50   nM  1.079181\n",
       "5245  IC50   nM  2.755875\n",
       "5246    Ki   nM  0.041393\n",
       "\n",
       "[5226 rows x 3 columns]"
      ]
     },
     "execution_count": 104,
     "metadata": {},
     "output_type": "execute_result"
    }
   ],
   "source": [
    "data"
   ]
  },
  {
   "cell_type": "code",
   "execution_count": 167,
   "metadata": {},
   "outputs": [],
   "source": [
    "# how many cases have HH templates"
   ]
  },
  {
   "cell_type": "code",
   "execution_count": 146,
   "metadata": {},
   "outputs": [
    {
     "name": "stderr",
     "output_type": "stream",
     "text": [
      "100%|██████████| 23671/23671 [00:14<00:00, 1633.69it/s]\n"
     ]
    }
   ],
   "source": [
    "data = []\n",
    "for key, case_dict in tqdm(cases_filt.items()):\n",
    "    group_dict = {x['name']: x for x in case_dict['ligand_groups']}[key[1]]\n",
    "    hh_counts = {'name': '_'.join(key), 'high': 0, 'medium': 0, 'low': 0, 'all_ions': True}\n",
    "    for lig_dict in group_dict['ligands']:\n",
    "        hh_json = Path('data/cases') / key[0] / key[1] / lig_dict['sdf_id'] + '.templates.json'\n",
    "        hh_counts['all_ions'] *= lig_dict['num_heavy_atoms'] == 1\n",
    "        if hh_json.exists():\n",
    "            for hh_item in utils.read_json(hh_json):\n",
    "                if hh_item['hhpred']['hh_pdb'][:4].lower() == case_dict['pdb_id'].lower():\n",
    "                    continue\n",
    "                if hh_item['hhpred']['hh_prob'] > 95:\n",
    "                    if hh_item['lig_match']['mcs_tar_coverage'] > 0.7:\n",
    "                        hh_counts['high'] += 1\n",
    "                    else:\n",
    "                        hh_counts['medium'] += 1\n",
    "                elif hh_item['hhpred']['hh_prob'] > 80:\n",
    "                    if hh_item['lig_match']['mcs_tar_coverage'] > 0.7:\n",
    "                        hh_counts['medium'] += 1\n",
    "                    else:\n",
    "                        hh_counts['low'] += 1\n",
    "                else:\n",
    "                    hh_counts['low'] += 1\n",
    "    data.append(hh_counts)"
   ]
  },
  {
   "cell_type": "code",
   "execution_count": 147,
   "metadata": {},
   "outputs": [],
   "source": [
    "data = pd.DataFrame(data)"
   ]
  },
  {
   "cell_type": "code",
   "execution_count": 159,
   "metadata": {},
   "outputs": [
    {
     "data": {
      "text/plain": [
       "(17608, 6)"
      ]
     },
     "execution_count": 159,
     "metadata": {},
     "output_type": "execute_result"
    }
   ],
   "source": [
    "data = data[data['all_ions'] != 1]\n",
    "data['total'] = data['high'] + data['medium'] + data['low']\n",
    "data.shape"
   ]
  },
  {
   "cell_type": "code",
   "execution_count": 165,
   "metadata": {},
   "outputs": [
    {
     "name": "stdout",
     "output_type": "stream",
     "text": [
      "# cases with any template: 16493\n",
      "# cases with high-confidence templates: 14069\n"
     ]
    }
   ],
   "source": [
    "print('# cases with any template:', sum(data['total'] > 0))\n",
    "print('# cases with high-confidence templates:', sum(data['high'] > 0))"
   ]
  },
  {
   "cell_type": "code",
   "execution_count": 166,
   "metadata": {},
   "outputs": [
    {
     "data": {
      "text/plain": [
       "<AxesSubplot:ylabel='Count'>"
      ]
     },
     "execution_count": 166,
     "metadata": {},
     "output_type": "execute_result"
    },
    {
     "data": {
      "image/png": "[encoded data removed]",
      "text/plain": [
       "<Figure size 432x288 with 1 Axes>"
      ]
     },
     "metadata": {},
     "output_type": "display_data"
    }
   ],
   "source": [
    "sns.histplot(data[data['total'] > 0]['high'] / data[data['total'] > 0]['total'])"
   ]
  },
  {
   "cell_type": "code",
   "execution_count": null,
   "metadata": {},
   "outputs": [],
   "source": []
  },
  {
   "cell_type": "code",
   "execution_count": 20,
   "metadata": {},
   "outputs": [],
   "source": [
    "chemid_to_pdb_list = defaultdict(list)\n",
    "for k, case in cases_filt.items():\n",
    "    for group in case['ligand_groups']:\n",
    "        for ligand in group['ligands']:\n",
    "            chemid_to_pdb_list[ligand['chemid']].append(case['pdb_id'])\n",
    "chemid_to_pdb_list = {k: sorted(set(v)) for k, v in chemid_to_pdb_list.items()}"
   ]
  },
  {
   "cell_type": "code",
   "execution_count": 21,
   "metadata": {},
   "outputs": [
    {
     "data": {
      "text/plain": [
       "['11GS', '1GSF', '2GSS', '3HJO', '3KM6', '3KMO', '3N9J']"
      ]
     },
     "execution_count": 21,
     "metadata": {},
     "output_type": "execute_result"
    }
   ],
   "source": [
    "chemid_to_pdb_list['EAA']"
   ]
  },
  {
   "cell_type": "code",
   "execution_count": 22,
   "metadata": {},
   "outputs": [
    {
     "ename": "NameError",
     "evalue": "name '_run_mp' is not defined",
     "output_type": "error",
     "traceback": [
      "\u001b[0;31m---------------------------------------------------------------------------\u001b[0m",
      "\u001b[0;31mNameError\u001b[0m                                 Traceback (most recent call last)",
      "\u001b[0;32m<ipython-input-22-97e4caeeaa80>\u001b[0m in \u001b[0;36m<module>\u001b[0;34m\u001b[0m\n\u001b[1;32m     77\u001b[0m     \u001b[0;32mreturn\u001b[0m \u001b[0mfrag_templates\u001b[0m\u001b[0;34m\u001b[0m\u001b[0;34m\u001b[0m\u001b[0m\n\u001b[1;32m     78\u001b[0m \u001b[0;34m\u001b[0m\u001b[0m\n\u001b[0;32m---> 79\u001b[0;31m \u001b[0m_run_mp\u001b[0m\u001b[0;34m(\u001b[0m\u001b[0mcases_unfilt\u001b[0m\u001b[0;34m[\u001b[0m\u001b[0;34m'1AND_A'\u001b[0m\u001b[0;34m]\u001b[0m\u001b[0;34m)\u001b[0m\u001b[0;34m\u001b[0m\u001b[0;34m\u001b[0m\u001b[0m\n\u001b[0m",
      "\u001b[0;31mNameError\u001b[0m: name '_run_mp' is not defined"
     ]
    }
   ],
   "source": [
    "def get_frag_templates(case_name, group_dict, cases):\n",
    "    frag_templates = []\n",
    "    tar_mols = [Chem.MolFromSmiles(x['smiles']) for x in group_dict['ligands']]\n",
    "    assert all([x.GetNumHeavyAtoms() == x.GetNumAtoms() for x in tar_mols])\n",
    "    tar_size = sum([x.GetNumHeavyAtoms() for x in tar_mols])\n",
    "    tar_id_shift = 0\n",
    "    \n",
    "    for tar_lig_id, tar_lig in enumerate(group_dict['ligands']):\n",
    "        tpl_ligs = chemid_to_matches[tar_lig['chemid']]\n",
    "        \n",
    "        for tpl_chemid, match_dict in tpl_ligs.items():\n",
    "            tpl_pdbs = chemid_to_pdb_list.get(tpl_chemid, [])\n",
    "            \n",
    "            for tpl_pdb in tpl_pdbs:\n",
    "                tpl_case_keys = [x for x in cases.keys() if x[0][:4] == tpl_pdb and tpl_chemid in x[1]]\n",
    "                \n",
    "                for tpl_case_name, tpl_group_name in tpl_case_keys:\n",
    "                    if tpl_case_name == case_name:\n",
    "                        continue\n",
    "                    tpl_case_dict = cases[(tpl_case_name, tpl_group_name)]\n",
    "                    tpl_group = {x['name']: x for x in tpl_case_dict['ligand_groups']}[tpl_group_name]\n",
    "                    tpl_group_id = {x['name']: i for i, x in enumerate(tpl_case_dict['ligand_groups'])}[tpl_group_name]\n",
    "                    \n",
    "                    for tpl_lig_id, tpl_lig_dict in enumerate(tpl_group['ligands']):\n",
    "                        if tpl_chemid == tpl_lig_dict['chemid']:\n",
    "                            break\n",
    "                    assert tpl_chemid == tpl_lig_dict['chemid']\n",
    "                    \n",
    "                    # find matches\n",
    "                    tar_mol = tar_mols[tar_lig_id]\n",
    "                    tpl_mol = Chem.MolFromSmiles(tpl_lig_dict['smiles'])\n",
    "                    smarts_mol = Chem.MolFromSmarts(match_dict['mcs_smarts'])\n",
    "                    tar_matches = tar_mol.GetSubstructMatches(smarts_mol, uniquify=False)\n",
    "                    tpl_matches = tpl_mol.GetSubstructMatches(smarts_mol, uniquify=False)\n",
    "\n",
    "                    # EAA and EIM produce a match, but smarts doesnt match EIM - report a bug I guess\n",
    "                    # so sometimes even if there is a smarts it can still result in no matches\n",
    "                    #assert len(tar_matches) > 0\n",
    "                    #assert len(tpl_matches) > 0\n",
    "                    if len(tar_matches) * len(tpl_matches) == 0:\n",
    "                        continue\n",
    "\n",
    "                    tpl_id_shift = 0\n",
    "                    for tpl_lig in tpl_group['ligands'][:tpl_lig_id]:\n",
    "                        tpl_mol = Chem.MolFromSmiles(tpl_lig['smiles'])\n",
    "                        assert tpl_mol.GetNumHeavyAtoms() == tpl_mol.GetNumAtoms()\n",
    "                        tpl_id_shift += tpl_mol.GetNumHeavyAtoms()\n",
    "\n",
    "                    matches = []\n",
    "                    for tar_m in tar_matches:\n",
    "                        tar_m = np.array(tar_m, dtype=np.int32) + tar_id_shift\n",
    "                        for tpl_m in tpl_matches:\n",
    "                            tpl_m = np.array(tpl_m, dtype=np.int32) + tpl_id_shift\n",
    "                            match = np.full(tar_size, -1)\n",
    "                            match[tar_m] = tpl_m\n",
    "                            matches.append(match.tolist())\n",
    "\n",
    "                    frag_templates.append({\n",
    "                        'tar_chemid': tar_lig['chemid'],\n",
    "                        'tar_smiles': tar_lig['smiles'],\n",
    "                        'tar_lig_id': tar_lig_id,\n",
    "                        'tpl_chain': tpl_case_name,\n",
    "                        'tpl_seqclus30': tpl_case_dict['seqclus30'],\n",
    "                        'tpl_group': tpl_group_name,\n",
    "                        'tpl_group_id': tpl_group_id,\n",
    "                        'tpl_chemid': tpl_chemid,\n",
    "                        'tpl_lig_id': tpl_lig_id,\n",
    "                        'match': match_dict,\n",
    "                        'tar_matches': tar_matches,\n",
    "                        'tpl_matches': tpl_matches,\n",
    "                        'mapping_to_target': matches\n",
    "                    })\n",
    "                    \n",
    "        assert tar_mols[tar_lig_id].GetNumHeavyAtoms() == tar_mols[tar_lig_id].GetNumAtoms()\n",
    "        tar_id_shift += tar_mols[tar_lig_id].GetNumHeavyAtoms()\n",
    "        \n",
    "    return frag_templates\n",
    "\n",
    "_run_mp(cases_unfilt['1AND_A'])"
   ]
  },
  {
   "cell_type": "code",
   "execution_count": null,
   "metadata": {},
   "outputs": [],
   "source": [
    "'''for k, case_dict in tqdm(list(cases_filt.items())[:10]):\n",
    "    print(k)\n",
    "    for group_dict in case_dict['ligand_groups']:\n",
    "        frag_templates = get_frag_templates(case_dict['case_name'], group_dict, cases_filt)\n",
    "        if len(frag_templates) > 0:\n",
    "            with open(f\"data/featurized/{case_dict['case_name']}.{group_dict['name']}.fragment_matches.json\", 'w') as f:\n",
    "                json.dump(frag_templates, f)'''"
   ]
  },
  {
   "cell_type": "code",
   "execution_count": 45,
   "metadata": {},
   "outputs": [
    {
     "name": "stderr",
     "output_type": "stream",
     "text": [
      "\r",
      "  0%|          | 0/1 [00:00<?, ?it/s]"
     ]
    },
    {
     "name": "stdout",
     "output_type": "stream",
     "text": [
      "(Path('4RX7_A'), '3YV_GOL')\n"
     ]
    },
    {
     "name": "stderr",
     "output_type": "stream",
     "text": [
      "100%|██████████| 1/1 [00:58<00:00, 58.77s/it]\n"
     ]
    }
   ],
   "source": [
    "'''for k, case_dict in tqdm([x for x in cases_filt.items() if x[0][0] == '4RX7_A' and x[0][1] == '3YV_GOL']):\n",
    "    print(k)\n",
    "    for group_dict in case_dict['ligand_groups']:\n",
    "        frag_templates = get_frag_templates(case_dict['case_name'], group_dict, cases_filt)\n",
    "        if len(frag_templates) > 0:\n",
    "            with open(f\"data/featurized/{case_dict['case_name']}.{group_dict['name']}.fragment_matches.json\", 'w') as f:\n",
    "                json.dump(frag_templates, f)\n",
    "                \n",
    "        #frag_feats = features.fragment_template_featurize(case_dict, group_dict)\n",
    "        #np.save(f\"data/featurized/{case_dict['case_name']}.{group_dict['name']}.fragment_feats.npy\", frag_feats)'''"
   ]
  },
  {
   "cell_type": "code",
   "execution_count": 43,
   "metadata": {
    "scrolled": true
   },
   "outputs": [
    {
     "name": "stderr",
     "output_type": "stream",
     "text": [
      "100%|██████████| 23671/23671 [2:15:18<00:00,  2.92it/s]  \n"
     ]
    }
   ],
   "source": [
    "def _run_mp(key):\n",
    "    case_dict = cases_filt[key]\n",
    "    group_dict = {x['name']: x for x in case_dict['ligand_groups']}[key[1]]\n",
    "    try:\n",
    "        frag_templates = get_frag_templates(case_dict['case_name'], group_dict, cases_filt)\n",
    "        if len(frag_templates) > 0:\n",
    "            with open(f\"data/featurized/{case_dict['case_name']}.{group_dict['name']}.fragment_matches.json\", 'w') as f:\n",
    "                json.dump(frag_templates, f)\n",
    "    except:\n",
    "        return key, traceback.format_exc()\n",
    "                \n",
    "with Pool(32) as pool:\n",
    "    for case_name in pool.imap_unordered(_run_mp, tqdm(list(cases_filt.keys()))):\n",
    "        if case_name is not None:\n",
    "            print(case_name)"
   ]
  },
  {
   "cell_type": "code",
   "execution_count": null,
   "metadata": {},
   "outputs": [],
   "source": []
  },
  {
   "cell_type": "code",
   "execution_count": 177,
   "metadata": {
    "scrolled": true
   },
   "outputs": [
    {
     "name": "stderr",
     "output_type": "stream",
     "text": [
      "100%|██████████| 20562/20562 [11:57<00:00, 28.67it/s]\n"
     ]
    }
   ],
   "source": [
    "for case_json in tqdm(Path('data/cases/').glob('*/case.json')):\n",
    "    case_dir = case_json.dirname()\n",
    "    rec_ag = prody.parsePDB(case_dir / 'rec_orig.pdb')\n",
    "    rec_ca_coords = rec_ag.calpha.getCoords()\n",
    "    case_dict = utils.read_json(case_json)\n",
    "    for group_dict in case_dict['ligand_groups']:\n",
    "        coords = []\n",
    "        group_dir = case_dir / group_dict['name']\n",
    "        for lig_dict in group_dict['ligands']:\n",
    "            mol = Chem.MolFromMolFile(group_dir / lig_dict['sdf_id'] + '.mol', removeHs=True)\n",
    "            #print((group_dir / lig_dict['sdf_id'] + '.mol').abspath())\n",
    "            coords.append(mol.GetConformer(0).GetPositions())\n",
    "        coords = np.concatenate(coords, axis=0)\n",
    "        dmat = utils.calc_dmat(coords, rec_ca_coords)\n",
    "        close_mask = np.any(dmat < 13, axis=0)\n",
    "        prody.writePDB('data/featurized/' + case_dict['case_name'] + '.' + group_dict['name'] + '.pocket_ca.pdb', rec_ag.calpha[close_mask])\n",
    "        #print(Path('data/featurized/' + case_dict['case_name'] + '.' + group_dict['name'] + '.pdb').abspath())"
   ]
  },
  {
   "cell_type": "code",
   "execution_count": null,
   "metadata": {},
   "outputs": [],
   "source": []
  },
  {
   "cell_type": "code",
   "execution_count": 162,
   "metadata": {},
   "outputs": [
    {
     "data": {
      "text/plain": [
       "((0,),)"
      ]
     },
     "execution_count": 162,
     "metadata": {},
     "output_type": "execute_result"
    }
   ],
   "source": [
    "mol = Chem.MolFromSmiles('[Zn+2]')\n",
    "mol.GetSubstructMatches(mol)"
   ]
  },
  {
   "cell_type": "code",
   "execution_count": 105,
   "metadata": {},
   "outputs": [
    {
     "data": {
      "text/plain": [
       "{'VWW': {'ref_chemid': 'VWW',\n",
       "  'ref_smiles': 'c1ccc(cc1)CSC[C@@H](C(=O)N[C@H](c2ccccc2)C(=O)O)NC(=O)CC[C@@H](C(=O)O)N',\n",
       "  'mcs_flags': ['r'],\n",
       "  'fp_tanimoto': 1.0,\n",
       "  'mcs_tar_coverage': 1.0,\n",
       "  'mcs_ref_coverage': 1.0,\n",
       "  'mcs_tanimoto': 1.0,\n",
       "  'mcs_smarts': '[#6&R]1:&@[#6&R]:&@[#6&R]:&@[#6&R](:&@[#6&R]:&@[#6&R]:&@1)-&!@[#6&!R]-&!@[#16&!R]-&!@[#6&!R]-&!@[#6&!R](-&!@[#6&!R](=&!@[#8&!R])-&!@[#7&!R]-&!@[#6&!R](-&!@[#6&R]1:&@[#6&R]:&@[#6&R]:&@[#6&R]:&@[#6&R]:&@[#6&R]:&@1)-&!@[#6&!R](=&!@[#8&!R])-&!@[#8&!R])-&!@[#7&!R]-&!@[#6&!R](=&!@[#8&!R])-&!@[#6&!R]-&!@[#6&!R]-&!@[#6&!R](-&!@[#6&!R](=&!@[#8&!R])-&!@[#8&!R])-&!@[#7&!R]',\n",
       "  'mcs_num_atoms': 33,\n",
       "  'mcs_num_bonds': 34},\n",
       " 'XLI': {'ref_chemid': 'XLI',\n",
       "  'ref_smiles': 'CCCCNC(=O)[C@H](C)C[C@@H]([C@H](CC(C)C)NC(=O)[C@H](CCSC)NC(=O)[C@H](CC(C)C)NC(=O)C)O',\n",
       "  'mcs_flags': ['r'],\n",
       "  'fp_tanimoto': 0.4812332439678284,\n",
       "  'mcs_tar_coverage': 0.45454545454545453,\n",
       "  'mcs_ref_coverage': 0.40540540540540543,\n",
       "  'mcs_tanimoto': 0.2727272727272727,\n",
       "  'mcs_smarts': '[#6&!R]-&!@[#6&!R](-&!@[#6&!R](=&!@[#8&!R])-&!@[#7&!R]-&!@[#6&!R]-&!@[#6&!R]-&!@[#8&!R])-&!@[#7&!R]-&!@[#6&!R](=&!@[#8&!R])-&!@[#6&!R]-&!@[#6&!R]-&!@[#6&!R]-&!@[#6&!R]',\n",
       "  'mcs_num_atoms': 15,\n",
       "  'mcs_num_bonds': 14},\n",
       " 'Y83': {'ref_chemid': 'Y83',\n",
       "  'ref_smiles': 'CC(C)(C)OC(=O)N[C@@H](Cc1c[nH]c2c1cccc2)CSC[C@H](C(=O)NCc3cccnc3)Nc4ccccc4',\n",
       "  'mcs_flags': ['r'],\n",
       "  'fp_tanimoto': 0.35507246376811596,\n",
       "  'mcs_tar_coverage': 0.42424242424242425,\n",
       "  'mcs_ref_coverage': 0.35,\n",
       "  'mcs_tanimoto': 0.23728813559322035,\n",
       "  'mcs_smarts': '[#6&!R]-&!@[#16&!R]-&!@[#6&!R]-&!@[#6&!R](-&!@[#6&!R](=&!@[#8&!R])-&!@[#7&!R]-&!@[#6&!R]-&!@[#6&R](:&@[#6&R]:&@[#6&R]:&@[#6&R]):&@[#6&R])-&!@[#7&!R]',\n",
       "  'mcs_num_atoms': 14,\n",
       "  'mcs_num_bonds': 13},\n",
       " 'ZPQ': {'ref_chemid': 'ZPQ',\n",
       "  'ref_smiles': 'Cc1cc(n(n1)COC(=O)N[C@@H](CS(=O)(=O)C)C(=O)N[C@@H](CC(C)C)[C@H](C[C@@H](C)C(=O)N[C@@H](C(C)C)C(=O)NCC(C)C)O)C',\n",
       "  'mcs_flags': ['r'],\n",
       "  'fp_tanimoto': 0.4,\n",
       "  'mcs_tar_coverage': 0.42424242424242425,\n",
       "  'mcs_ref_coverage': 0.3111111111111111,\n",
       "  'mcs_tanimoto': 0.21875,\n",
       "  'mcs_smarts': '[#6&!R]-&!@[#6&!R](-&!@[#6&!R](=&!@[#8&!R])-&!@[#7&!R]-&!@[#6&!R]-&!@[#6&!R])-&!@[#7&!R]-&!@[#6&!R](=&!@[#8&!R])-&!@[#6&!R]-&!@[#6&!R]-&!@[#6&!R]-&!@[#6&!R]',\n",
       "  'mcs_num_atoms': 14,\n",
       "  'mcs_num_bonds': 13}}"
      ]
     },
     "execution_count": 105,
     "metadata": {},
     "output_type": "execute_result"
    }
   ],
   "source": [
    "chemid_to_matches['VWW']"
   ]
  },
  {
   "cell_type": "code",
   "execution_count": null,
   "metadata": {},
   "outputs": [],
   "source": []
  },
  {
   "cell_type": "code",
   "execution_count": 23,
   "metadata": {},
   "outputs": [
    {
     "data": {
      "image/png": "[encoded data removed]",
      "text/plain": [
       "<rdkit.Chem.rdchem.Mol at 0x7f8ee0f1d9e0>"
      ]
     },
     "execution_count": 23,
     "metadata": {},
     "output_type": "execute_result"
    }
   ],
   "source": [
    "Chem.MolFromSmiles('c1cc(cc(c1)n2nccn2)Nc3c(nnc(n3)N[C@@H]4CCCC[C@@H]4N)C(=O)N')"
   ]
  },
  {
   "cell_type": "code",
   "execution_count": 24,
   "metadata": {},
   "outputs": [
    {
     "data": {
      "image/png": "[encoded data removed]",
      "text/plain": [
       "<rdkit.Chem.rdchem.Mol at 0x7f8ee0ecb3a0>"
      ]
     },
     "execution_count": 24,
     "metadata": {},
     "output_type": "execute_result"
    }
   ],
   "source": [
    "Chem.MolFromSmiles('COc1cc(ccc1N2CCOCC2)Nc3nccc(n3)Nc4cc5ccccc5nc4')"
   ]
  },
  {
   "cell_type": "code",
   "execution_count": null,
   "metadata": {},
   "outputs": [],
   "source": [
    "np.load(DATA_DIR / 'featurized' / tpl_sdf_id + '.ligand_feats.npy', allow_pickle=True).item()"
   ]
  }
 ],
 "metadata": {
  "kernelspec": {
   "display_name": "alphadock",
   "language": "python",
   "name": "alphadock"
  },
  "language_info": {
   "codemirror_mode": {
    "name": "ipython",
    "version": 3
   },
   "file_extension": ".py",
   "mimetype": "text/x-python",
   "name": "python",
   "nbconvert_exporter": "python",
   "pygments_lexer": "ipython3",
   "version": "3.7.9"
  }
 },
 "nbformat": 4,
 "nbformat_minor": 4
}
