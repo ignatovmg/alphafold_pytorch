{
 "cells": [
  {
   "cell_type": "code",
   "execution_count": 121,
   "metadata": {},
   "outputs": [],
   "source": [
    "import pandas as pd\n",
    "import numpy as np\n",
    "from glob import glob\n",
    "from path import Path\n",
    "import json\n",
    "import seaborn as sns\n",
    "import prody\n",
    "from multiprocessing import Pool\n",
    "from tqdm import tqdm\n",
    "import itertools\n",
    "import json\n",
    "from rdkit import Chem\n",
    "from rdkit.Chem import AllChem\n",
    "from io import StringIO\n",
    "from collections import OrderedDict, Counter, defaultdict\n",
    "import traceback\n",
    "import urllib\n",
    "import pybel\n",
    "from copy import deepcopy\n",
    "from multiprocessing import Pool\n",
    "from pymol import cmd\n",
    "\n",
    "pd.set_option('display.max_columns', None)\n",
    "\n",
    "from alphadock import utils\n",
    "from alphadock import features"
   ]
  },
  {
   "cell_type": "code",
   "execution_count": 122,
   "metadata": {},
   "outputs": [
    {
     "data": {
      "text/plain": [
       "23671"
      ]
     },
     "execution_count": 122,
     "metadata": {},
     "output_type": "execute_result"
    }
   ],
   "source": [
    "case_keys = utils.read_json('data/cases_filt_keys.json')\n",
    "len(case_keys)"
   ]
  },
  {
   "cell_type": "code",
   "execution_count": 127,
   "metadata": {},
   "outputs": [
    {
     "name": "stdout",
     "output_type": "stream",
     "text": [
      "['1E59_A', 'VO3']\n"
     ]
    }
   ],
   "source": [
    "for x in case_keys:\n",
    "    if x[0] == '1E59_A':\n",
    "        print(x)"
   ]
  },
  {
   "cell_type": "code",
   "execution_count": 3,
   "metadata": {
    "scrolled": true
   },
   "outputs": [
    {
     "name": "stderr",
     "output_type": "stream",
     "text": [
      "100%|██████████| 20440/20440 [01:54<00:00, 179.18it/s]\n"
     ]
    }
   ],
   "source": [
    "case_dicts = {y: utils.read_json(Path('data/cases/') / y / 'case.json') for y in tqdm(sorted(set([x[0] for x in case_keys])))}"
   ]
  },
  {
   "cell_type": "code",
   "execution_count": 23,
   "metadata": {},
   "outputs": [
    {
     "data": {
      "text/plain": [
       "11796"
      ]
     },
     "execution_count": 23,
     "metadata": {},
     "output_type": "execute_result"
    }
   ],
   "source": [
    "target_list = []\n",
    "for case_name, group_name in case_keys:\n",
    "    case_dict = case_dicts[case_name]\n",
    "    if len(case_dict['entity_info']['pdbx_seq_one_letter_code_can']) > 400:\n",
    "        continue\n",
    "    group_dict = {x['name']: x for x in case_dict['ligand_groups']}[group_name]\n",
    "    if sum([x['num_heavy_atoms'] for x in group_dict['ligands']]) > 50:\n",
    "        continue\n",
    "    if all([x['num_heavy_atoms'] == 1 for x in group_dict['ligands']]):\n",
    "        continue\n",
    "    target_list.append((case_name, group_name))\n",
    "len(target_list)"
   ]
  },
  {
   "cell_type": "code",
   "execution_count": 25,
   "metadata": {},
   "outputs": [],
   "source": [
    "def parse_hhr_file(hhr_file, num_top=None):\n",
    "    with open(hhr_file, 'r') as f:\n",
    "        lines = f.readlines()\n",
    "        \n",
    "    assert int(lines[9].split()[0]) == 1\n",
    "    q_chain = Path(hhr_file).basename().stripext()\n",
    "    \n",
    "    break_line = None\n",
    "    for i, line in enumerate(lines[9:], 9):\n",
    "        if line.strip() == '':\n",
    "            break_line = i\n",
    "            break\n",
    "        int(line.split()[0])\n",
    "        \n",
    "    out = OrderedDict()\n",
    "    for line in lines[9:break_line][:num_top]:\n",
    "        pdb_chain = line.split()[1]\n",
    "        if pdb_chain in out:\n",
    "            continue\n",
    "        #split = line.split()\n",
    "        q_range = line[75:84].split('-')\n",
    "        t_range = line[85:94].split('-')\n",
    "        out[pdb_chain] = OrderedDict(\n",
    "            hh_pdb=pdb_chain.upper(),\n",
    "            hh_prob=float(line[35:40]),\n",
    "            hh_identity=None,\n",
    "            hh_evalue=None,\n",
    "            query_aln='',\n",
    "            target_aln='',\n",
    "            query_range=[int(q_range[0])-1, int(q_range[1])],\n",
    "            target_range=[int(t_range[0])-1, int(t_range[1])]\n",
    "        )\n",
    "        \n",
    "    counter = 0\n",
    "    t_chain = None\n",
    "    skip = False\n",
    "    \n",
    "    for idx in range(break_line + 1, len(lines)):\n",
    "        line = lines[idx]\n",
    "        if line.startswith('>'):\n",
    "            # sanity check for previous target's alignment\n",
    "            if t_chain is not None:\n",
    "                last_chain = out[t_chain]\n",
    "                #assert len(last_chain['query_aln']) == len(last_chain['target_aln'])\n",
    "                \n",
    "            t_chain = line.split()[0][1:]\n",
    "            \n",
    "            # hhr can have multiple alignments for the same chain\n",
    "            # we keep only the first one\n",
    "            skip = out[t_chain]['hh_identity'] is not None\n",
    "            if skip: \n",
    "                continue\n",
    "            \n",
    "            # extract alignment scores\n",
    "            scores = lines[idx+1].split()\n",
    "            identity = scores[4]\n",
    "            assert identity.startswith('Iden')\n",
    "            identity = float(identity.split('=')[1].strip('%'))\n",
    "            \n",
    "            evalue = scores[1]\n",
    "            assert evalue.startswith('E-value')\n",
    "            evalue = float(evalue.split('=')[1].strip('%'))\n",
    "            \n",
    "            out[t_chain]['hh_identity'] = identity\n",
    "            out[t_chain]['hh_evalue'] = evalue\n",
    "            counter += 1\n",
    "            \n",
    "        if skip:\n",
    "            continue\n",
    "            \n",
    "        # record Q alignment\n",
    "        if line.startswith(f'Q {q_chain}'):\n",
    "            s = line.split()\n",
    "            out[t_chain]['query_aln'] += s[3]\n",
    "            \n",
    "            #begin, end = int(s[2]), int(s[4])\n",
    "            #cur_range = out[t_chain]['query_range'] \n",
    "            # sanity check that alignment chunks in hhr file are contiguous\n",
    "            #if len(cur_range) > 0: \n",
    "            #    assert begin-1 == cur_range[-1]\n",
    "            #out[t_chain]['query_range'] += [begin-1, end]\n",
    "            \n",
    "        # record target alignment\n",
    "        if t_chain is not None and line.startswith(f'T {t_chain}'):\n",
    "            s = line.split()\n",
    "            out[t_chain]['target_aln'] += s[3]\n",
    "            \n",
    "            #begin, end = int(s[2]), int(s[4])\n",
    "            #cur_range = out[t_chain]['target_range'] \n",
    "            # sanity check that alignment chunks in hhr file are contiguous\n",
    "            #if len(cur_range) > 0: \n",
    "            #    assert begin-1 == cur_range[-1]\n",
    "            #out[t_chain]['target_range'] += [begin-1, end]\n",
    "            \n",
    "        if num_top is not None and counter >= num_top:\n",
    "            break\n",
    "           \n",
    "    #for item in out.values():\n",
    "    #    item['query_range'] = [min(item['query_range']), max(item['query_range'])]\n",
    "    #    item['target_range'] = [min(item['target_range']), max(item['target_range'])]\n",
    "    #    #print(item)\n",
    "    #    #assert (item['target_range'][1] - item['target_range'][0]) == (item['query_range'][1] - item['query_range'][0])\n",
    "            \n",
    "    return out"
   ]
  },
  {
   "cell_type": "code",
   "execution_count": 36,
   "metadata": {},
   "outputs": [],
   "source": [
    "cc_names = sorted(set([x for x, _ in target_list]))\n",
    "cc_names_to_node_id = {y: x for x, y in enumerate(cc_names)}\n",
    "#cc_array = np.arange(len(cc_names), dtype=int)\n",
    "#cc_array"
   ]
  },
  {
   "cell_type": "code",
   "execution_count": 42,
   "metadata": {},
   "outputs": [
    {
     "name": "stderr",
     "output_type": "stream",
     "text": [
      "100%|█████████▉| 10988/10989 [37:46<00:00,  4.85it/s] \n"
     ]
    },
    {
     "ename": "FileNotFoundError",
     "evalue": "[Errno 2] No such file or directory: Path('data/hhpred/9jdw_A.hhr')",
     "output_type": "error",
     "traceback": [
      "\u001b[0;31m---------------------------------------------------------------------------\u001b[0m",
      "\u001b[0;31mFileNotFoundError\u001b[0m                         Traceback (most recent call last)",
      "\u001b[0;32m<ipython-input-42-8da82ea21f75>\u001b[0m in \u001b[0;36m<module>\u001b[0;34m\u001b[0m\n\u001b[1;32m      3\u001b[0m \u001b[0;34m\u001b[0m\u001b[0m\n\u001b[1;32m      4\u001b[0m \u001b[0;32mfor\u001b[0m \u001b[0mcase_name\u001b[0m \u001b[0;32min\u001b[0m \u001b[0mtqdm\u001b[0m\u001b[0;34m(\u001b[0m\u001b[0mcc_names\u001b[0m\u001b[0;34m)\u001b[0m\u001b[0;34m:\u001b[0m\u001b[0;34m\u001b[0m\u001b[0;34m\u001b[0m\u001b[0m\n\u001b[0;32m----> 5\u001b[0;31m     \u001b[0mhhr\u001b[0m \u001b[0;34m=\u001b[0m \u001b[0mparse_hhr_file\u001b[0m\u001b[0;34m(\u001b[0m\u001b[0mPath\u001b[0m\u001b[0;34m(\u001b[0m\u001b[0;34m'data/hhpred/'\u001b[0m\u001b[0;34m)\u001b[0m \u001b[0;34m/\u001b[0m \u001b[0mcase_name\u001b[0m\u001b[0;34m[\u001b[0m\u001b[0;34m:\u001b[0m\u001b[0;36m5\u001b[0m\u001b[0;34m]\u001b[0m\u001b[0;34m.\u001b[0m\u001b[0mlower\u001b[0m\u001b[0;34m(\u001b[0m\u001b[0;34m)\u001b[0m \u001b[0;34m+\u001b[0m \u001b[0mcase_name\u001b[0m\u001b[0;34m[\u001b[0m\u001b[0;36m5\u001b[0m\u001b[0;34m:\u001b[0m\u001b[0;34m]\u001b[0m \u001b[0;34m+\u001b[0m \u001b[0;34m'.hhr'\u001b[0m\u001b[0;34m)\u001b[0m\u001b[0;34m\u001b[0m\u001b[0;34m\u001b[0m\u001b[0m\n\u001b[0m\u001b[1;32m      6\u001b[0m     \u001b[0msrc_node\u001b[0m \u001b[0;34m=\u001b[0m \u001b[0mcc_names_to_node_id\u001b[0m\u001b[0;34m[\u001b[0m\u001b[0mcase_name\u001b[0m\u001b[0;34m]\u001b[0m\u001b[0;34m\u001b[0m\u001b[0;34m\u001b[0m\u001b[0m\n\u001b[1;32m      7\u001b[0m     \u001b[0;32mfor\u001b[0m \u001b[0mtpl_chain\u001b[0m\u001b[0;34m,\u001b[0m \u001b[0mtpl_data\u001b[0m \u001b[0;32min\u001b[0m \u001b[0mhhr\u001b[0m\u001b[0;34m.\u001b[0m\u001b[0mitems\u001b[0m\u001b[0;34m(\u001b[0m\u001b[0;34m)\u001b[0m\u001b[0;34m:\u001b[0m\u001b[0;34m\u001b[0m\u001b[0;34m\u001b[0m\u001b[0m\n",
      "\u001b[0;32m<ipython-input-25-57cdc61e79f4>\u001b[0m in \u001b[0;36mparse_hhr_file\u001b[0;34m(hhr_file, num_top)\u001b[0m\n\u001b[1;32m      1\u001b[0m \u001b[0;32mdef\u001b[0m \u001b[0mparse_hhr_file\u001b[0m\u001b[0;34m(\u001b[0m\u001b[0mhhr_file\u001b[0m\u001b[0;34m,\u001b[0m \u001b[0mnum_top\u001b[0m\u001b[0;34m=\u001b[0m\u001b[0;32mNone\u001b[0m\u001b[0;34m)\u001b[0m\u001b[0;34m:\u001b[0m\u001b[0;34m\u001b[0m\u001b[0;34m\u001b[0m\u001b[0m\n\u001b[0;32m----> 2\u001b[0;31m     \u001b[0;32mwith\u001b[0m \u001b[0mopen\u001b[0m\u001b[0;34m(\u001b[0m\u001b[0mhhr_file\u001b[0m\u001b[0;34m,\u001b[0m \u001b[0;34m'r'\u001b[0m\u001b[0;34m)\u001b[0m \u001b[0;32mas\u001b[0m \u001b[0mf\u001b[0m\u001b[0;34m:\u001b[0m\u001b[0;34m\u001b[0m\u001b[0;34m\u001b[0m\u001b[0m\n\u001b[0m\u001b[1;32m      3\u001b[0m         \u001b[0mlines\u001b[0m \u001b[0;34m=\u001b[0m \u001b[0mf\u001b[0m\u001b[0;34m.\u001b[0m\u001b[0mreadlines\u001b[0m\u001b[0;34m(\u001b[0m\u001b[0;34m)\u001b[0m\u001b[0;34m\u001b[0m\u001b[0;34m\u001b[0m\u001b[0m\n\u001b[1;32m      4\u001b[0m \u001b[0;34m\u001b[0m\u001b[0m\n\u001b[1;32m      5\u001b[0m     \u001b[0;32massert\u001b[0m \u001b[0mint\u001b[0m\u001b[0;34m(\u001b[0m\u001b[0mlines\u001b[0m\u001b[0;34m[\u001b[0m\u001b[0;36m9\u001b[0m\u001b[0;34m]\u001b[0m\u001b[0;34m.\u001b[0m\u001b[0msplit\u001b[0m\u001b[0;34m(\u001b[0m\u001b[0;34m)\u001b[0m\u001b[0;34m[\u001b[0m\u001b[0;36m0\u001b[0m\u001b[0;34m]\u001b[0m\u001b[0;34m)\u001b[0m \u001b[0;34m==\u001b[0m \u001b[0;36m1\u001b[0m\u001b[0;34m\u001b[0m\u001b[0;34m\u001b[0m\u001b[0m\n",
      "\u001b[0;31mFileNotFoundError\u001b[0m: [Errno 2] No such file or directory: Path('data/hhpred/9jdw_A.hhr')"
     ]
    }
   ],
   "source": [
    "import networkx as nx\n",
    "G = nx.Graph()\n",
    "\n",
    "for case_name in tqdm(cc_names):\n",
    "    hhr = parse_hhr_file(Path('data/hhpred/') / case_name[:5].lower() + case_name[5:] + '.hhr')\n",
    "    src_node = cc_names_to_node_id[case_name]\n",
    "    for tpl_chain, tpl_data in hhr.items():\n",
    "        dst_node = cc_names_to_node_id.get(tpl_chain.upper())\n",
    "        if dst_node is not None:\n",
    "            G.add_edge(src_node, dst_node)"
   ]
  },
  {
   "cell_type": "code",
   "execution_count": 78,
   "metadata": {},
   "outputs": [],
   "source": [
    "ccs = sorted([list(x) for x in nx.connected_components(G)], key=lambda x: -len(x))"
   ]
  },
  {
   "cell_type": "code",
   "execution_count": 79,
   "metadata": {},
   "outputs": [
    {
     "data": {
      "text/plain": [
       "243"
      ]
     },
     "execution_count": 79,
     "metadata": {},
     "output_type": "execute_result"
    }
   ],
   "source": [
    "len(ccs)"
   ]
  },
  {
   "cell_type": "code",
   "execution_count": 80,
   "metadata": {},
   "outputs": [
    {
     "data": {
      "text/plain": [
       "100"
      ]
     },
     "execution_count": 80,
     "metadata": {},
     "output_type": "execute_result"
    }
   ],
   "source": [
    "sum([len(x) for x in ccs[-100:]])"
   ]
  },
  {
   "cell_type": "code",
   "execution_count": 99,
   "metadata": {},
   "outputs": [
    {
     "name": "stdout",
     "output_type": "stream",
     "text": [
      "Num valid chains: 291\n",
      "Num valid seqclus30: 223\n",
      "Num valid cases: 305\n"
     ]
    },
    {
     "data": {
      "text/plain": [
       "<AxesSubplot:ylabel='Count'>"
      ]
     },
     "execution_count": 99,
     "metadata": {},
     "output_type": "execute_result"
    },
    {
     "data": {
      "image/png": "[encoded data removed]",
      "text/plain": [
       "<Figure size 432x288 with 1 Axes>"
      ]
     },
     "metadata": {
      "needs_background": "light"
     },
     "output_type": "display_data"
    }
   ],
   "source": [
    "import functools\n",
    "valid_nodes = list(functools.reduce(lambda x,y: x+y, ccs[-180:]))\n",
    "valid_chains = [cc_names[x] for x in valid_nodes]\n",
    "print('Num valid chains:', len(valid_nodes))\n",
    "print('Num valid seqclus30:', len(Counter([case_dicts[cc_names[x]]['seqclus30'] for x in valid_nodes])))\n",
    "print('Num valid cases:', len([x for x in target_list if x[0] in valid_chains]))\n",
    "sns.histplot([len(case_dicts[cc_names[x]]['entity_info']['pdbx_seq_one_letter_code_can']) for x in valid_nodes])"
   ]
  },
  {
   "cell_type": "code",
   "execution_count": 100,
   "metadata": {},
   "outputs": [
    {
     "name": "stdout",
     "output_type": "stream",
     "text": [
      "Num train chains: 10698\n",
      "Num train seqclus30: 1497\n",
      "Num train cases: 11491\n"
     ]
    },
    {
     "data": {
      "text/plain": [
       "<AxesSubplot:ylabel='Count'>"
      ]
     },
     "execution_count": 100,
     "metadata": {},
     "output_type": "execute_result"
    },
    {
     "data": {
      "image/png": "[encoded data removed]",
      "text/plain": [
       "<Figure size 432x288 with 1 Axes>"
      ]
     },
     "metadata": {
      "needs_background": "light"
     },
     "output_type": "display_data"
    }
   ],
   "source": [
    "train_nodes = list(functools.reduce(lambda x,y: x+y, ccs[:-180]))\n",
    " = [cc_names[x] for x in train_nodes]\n",
    "print('Num train chains:', len(train_nodes))\n",
    "print('Num train seqclus30:', len(Counter([case_dicts[cc_names[x]]['seqclus30'] for x in train_nodes])))\n",
    "print('Num train cases:', len([x for x in target_list if x[0] in train_chains]))\n",
    "sns.histplot([len(case_dicts[cc_names[x]]['entity_info']['pdbx_seq_one_letter_code_can']) for x in train_nodes])"
   ]
  },
  {
   "cell_type": "code",
   "execution_count": 124,
   "metadata": {},
   "outputs": [
    {
     "name": "stdout",
     "output_type": "stream",
     "text": [
      "Train set size: 11491\n"
     ]
    }
   ],
   "source": [
    "train_set = []\n",
    "seqclus_sizes = Counter([case_dicts[cc_names[x]]['seqclus30'] for x in train_nodes])\n",
    "for x in target_list:\n",
    "    if x[0] in train_chains:\n",
    "        train_set.append({\n",
    "            'case_name': x[0],\n",
    "            'group_name': x[1],\n",
    "            'seqclus_size': seqclus_sizes[case_dicts[x[0]]['seqclus30']]\n",
    "        })\n",
    "print('Train set size:', len(train_set))\n",
    "utils.write_json({'cases': train_set, 'template_pool': case_keys}, 'data/train_split/train_12k.json')"
   ]
  },
  {
   "cell_type": "code",
   "execution_count": 125,
   "metadata": {},
   "outputs": [
    {
     "name": "stdout",
     "output_type": "stream",
     "text": [
      "Valid set size: 305\n"
     ]
    }
   ],
   "source": [
    "valid_set = []\n",
    "for x in target_list:\n",
    "    if x[0] in valid_chains:\n",
    "        valid_set.append({\n",
    "            'case_name': x[0],\n",
    "            'group_name': x[1]\n",
    "        })\n",
    "print('Valid set size:', len(valid_set))\n",
    "utils.write_json({'cases': valid_set, 'template_pool': case_keys}, 'data/train_split/valid_12k.json')"
   ]
  },
  {
   "cell_type": "code",
   "execution_count": 126,
   "metadata": {},
   "outputs": [],
   "source": [
    "utils.write_json({'cases': train_set[:1000:100], 'template_pool': case_keys}, 'data/train_split/debug.json')"
   ]
  },
  {
   "cell_type": "code",
   "execution_count": 118,
   "metadata": {},
   "outputs": [
    {
     "data": {
      "text/plain": [
       "{'case_name': '1CLL_A',\n",
       " 'pdb_id': '1CLL',\n",
       " 'pdb_chain': 'A',\n",
       " 'instance_id': 'A',\n",
       " 'entity_id': '1',\n",
       " 'experiment': 'X-RAY DIFFRACTION',\n",
       " 'resolution': 1.7,\n",
       " 'deposition_date': '1992-09-29T00:00:00+0000',\n",
       " 'seqclus100': 94,\n",
       " 'seqclus90': 75,\n",
       " 'seqclus40': 54,\n",
       " 'seqclus30': 56,\n",
       " 'missing_residue': '1110000000000000000000000000000000000000000000000000000000000000000000000000000000000000000000000000000000000000000000000000000000000000000000000001',\n",
       " 'missing_ca': '1110000000000000000000000000000000000000000000000000000000000000000000000000000000000000000000000000000000000000000000000000000000000000000000000001',\n",
       " 'missing_atoms': '1111000000000000000000000000000000000000000000000000000000000000000000000000000000000000000000000000000000000000000000000000000000000000000000000001',\n",
       " 'entity_info': {'nstd_linkage': 'no',\n",
       "  'nstd_monomer': 'no',\n",
       "  'pdbx_seq_one_letter_code': 'ADQLTEEQIAEFKEAFSLFDKDGDGTITTKELGTVMRSLGQNPTEAELQDMINEVDADGNGTIDFPEFLTMMARKMKDTDSEEEIREAFRVFDKDGNGYISAAELRHVMTNLGEKLTDEEVDEMIREADIDGDGQVNYEEFVQMMTAK',\n",
       "  'pdbx_seq_one_letter_code_can': 'ADQLTEEQIAEFKEAFSLFDKDGDGTITTKELGTVMRSLGQNPTEAELQDMINEVDADGNGTIDFPEFLTMMARKMKDTDSEEEIREAFRVFDKDGNGYISAAELRHVMTNLGEKLTDEEVDEMIREADIDGDGQVNYEEFVQMMTAK',\n",
       "  'pdbx_strand_id': 'A',\n",
       "  'rcsb_artifact_monomer_count': 0,\n",
       "  'rcsb_conflict_count': 0,\n",
       "  'rcsb_deletion_count': 0,\n",
       "  'rcsb_entity_polymer_type': 'Protein',\n",
       "  'rcsb_insertion_count': 0,\n",
       "  'rcsb_mutation_count': 0,\n",
       "  'rcsb_non_std_monomer_count': 0,\n",
       "  'rcsb_sample_sequence_length': 148,\n",
       "  'type': 'polypeptide(L)',\n",
       "  'entity_aln': 'ADQLTEEQIAEFKEAFSLFDKDGDGTITTKELGTVMRSLGQNPTEAELQDMINEVDADGNGTIDFPEFLTMMARKMKDTDSEEEIREAFRVFDKDGNGYISAAELRHVMTNLGEKLTDEEVDEMIREADIDGDGQVNYEEFVQMMTAK',\n",
       "  'pdb_aln': '---LTEEQIAEFKEAFSLFDKDGDGTITTKELGTVMRSLGQNPTEAELQDMINEVDADGNGTIDFPEFLTMMARKMKDTDSEEEIREAFRVFDKDGNGYISAAELRHVMTNLGEKLTDEEVDEMIREADIDGDGQVNYEEFVQMMTA-'},\n",
       " 'uniprot': {'uniprot_id': 'P0DP23',\n",
       "  'uniprot_seq': 'MADQLTEEQIAEFKEAFSLFDKDGDGTITTKELGTVMRSLGQNPTEAELQDMINEVDADGNGTIDFPEFLTMMARKMKDTDSEEEIREAFRVFDKDGNGYISAAELRHVMTNLGEKLTDEEVDEMIREADIDGDGQVNYEEFVQMMTAK',\n",
       "  'uniprot_name': 'Calmodulin-1'},\n",
       " 'domains': [{'domain_id': 0,\n",
       "   'manually_filled': False,\n",
       "   'domain_chunks': [{'chunk_ent_orig': [3, 77],\n",
       "     'chunk_ent_map': [3, 77],\n",
       "     'chunk_pdb_resid': [4, 78]}]},\n",
       "  {'domain_id': 1,\n",
       "   'manually_filled': False,\n",
       "   'domain_chunks': [{'chunk_ent_orig': [78, 146],\n",
       "     'chunk_ent_map': [78, 146],\n",
       "     'chunk_pdb_resid': [79, 147]}]}],\n",
       " 'alphafold': {'seq': 'MADQLTEEQIAEFKEAFSLFDKDGDGTITTKELGTVMRSLGQNPTEAELQDMINEVDADGNGTIDFPEFLTMMARKMKDTDSEEEIREAFRVFDKDGNGYISAAELRHVMTNLGEKLTDEEVDEMIREADIDGDGQVNYEEFVQMMTAK',\n",
       "  'PDB_CA_RMSD': 6.004107475280762,\n",
       "  'AF_seq_aln': 'MADQLTEEQIAEFKEAFSLFDKDGDGTITTKELGTVMRSLGQNPTEAELQDMINEVDADGNGTIDFPEFLTMMARKMKDTDSEEEIREAFRVFDKDGNGYISAAELRHVMTNLGEKLTDEEVDEMIREADIDGDGQVNYEEFVQMMTAK',\n",
       "  'PDB_seq_aln': 'L----TEEQIAEFKEAFSLFDKDGDGTITTKELGTVMRSLGQNPTEAELQDMINEVDADGNGTIDFPEFLTMMARKMKDTDSEEEIREAFRVFDKDGNGYISAAELRHVMTNLGEKLTDEEVDEMIREADIDGDGQVNYEEFVQMMTA-',\n",
       "  'PDB_AF_identity': 0.9930555555555556,\n",
       "  'AF_confidence': [48.49,\n",
       "   49.32,\n",
       "   51.7,\n",
       "   57.29,\n",
       "   67.73,\n",
       "   74.79,\n",
       "   78.57,\n",
       "   75.67,\n",
       "   71.79,\n",
       "   80.41,\n",
       "   82.97,\n",
       "   80.98,\n",
       "   83.72,\n",
       "   85.43,\n",
       "   86.07,\n",
       "   85.61,\n",
       "   88.31,\n",
       "   88.36,\n",
       "   87.19,\n",
       "   86.94,\n",
       "   91.27,\n",
       "   87.77,\n",
       "   90.31,\n",
       "   88.63,\n",
       "   92.87,\n",
       "   91.63,\n",
       "   93.69,\n",
       "   92.47,\n",
       "   93.27,\n",
       "   92.05,\n",
       "   92.22,\n",
       "   93.01,\n",
       "   89.68,\n",
       "   90.4,\n",
       "   90.34,\n",
       "   86.75,\n",
       "   85.12,\n",
       "   86.66,\n",
       "   82.03,\n",
       "   80.47,\n",
       "   81.73,\n",
       "   85.4,\n",
       "   90.12,\n",
       "   89.39,\n",
       "   92.28,\n",
       "   92.24,\n",
       "   92.02,\n",
       "   89.39,\n",
       "   89.85,\n",
       "   91.51,\n",
       "   89.27,\n",
       "   87.05,\n",
       "   89.82,\n",
       "   88.41,\n",
       "   85.71,\n",
       "   84.77,\n",
       "   89.47,\n",
       "   85.47,\n",
       "   89.45,\n",
       "   87.94,\n",
       "   91.23,\n",
       "   90.69,\n",
       "   92.59,\n",
       "   91.65,\n",
       "   92.63,\n",
       "   88.37,\n",
       "   87.7,\n",
       "   88.68,\n",
       "   86.29,\n",
       "   83.28,\n",
       "   80.04,\n",
       "   79.08,\n",
       "   74.34,\n",
       "   69.76,\n",
       "   66.74,\n",
       "   61.84,\n",
       "   55.39,\n",
       "   55.08,\n",
       "   52.68,\n",
       "   50.2,\n",
       "   54.06,\n",
       "   66.61,\n",
       "   74.7,\n",
       "   77.46,\n",
       "   78.48,\n",
       "   84.76,\n",
       "   87.23,\n",
       "   87.54,\n",
       "   88.01,\n",
       "   91.68,\n",
       "   91.2,\n",
       "   90.99,\n",
       "   91.38,\n",
       "   93.8,\n",
       "   90.45,\n",
       "   93.19,\n",
       "   92.07,\n",
       "   94.66,\n",
       "   94.45,\n",
       "   96.24,\n",
       "   95.08,\n",
       "   94.8,\n",
       "   93.24,\n",
       "   93.19,\n",
       "   94.05,\n",
       "   92.35,\n",
       "   91.33,\n",
       "   90.69,\n",
       "   89.81,\n",
       "   89.67,\n",
       "   89.32,\n",
       "   84.51,\n",
       "   85.65,\n",
       "   85.7,\n",
       "   88.15,\n",
       "   87.39,\n",
       "   88.91,\n",
       "   91.93,\n",
       "   91.15,\n",
       "   93.03,\n",
       "   92.29,\n",
       "   92.53,\n",
       "   92.26,\n",
       "   92.46,\n",
       "   90.63,\n",
       "   92.91,\n",
       "   92.09,\n",
       "   90.4,\n",
       "   90.28,\n",
       "   93.19,\n",
       "   91.66,\n",
       "   93.06,\n",
       "   91.73,\n",
       "   93.91,\n",
       "   93.2,\n",
       "   94.68,\n",
       "   95.23,\n",
       "   95.13,\n",
       "   91.94,\n",
       "   91.13,\n",
       "   92.43,\n",
       "   89.99,\n",
       "   86.7,\n",
       "   84.26,\n",
       "   82.58,\n",
       "   78.24,\n",
       "   71.16,\n",
       "   65.29,\n",
       "   40.87]},\n",
       " 'ligand_groups': [{'name': 'EOH',\n",
       "   'ligands': [{'sdf_id': '1cll_EOH_1_A_153__F___',\n",
       "     'chemid': 'EOH',\n",
       "     'smiles': 'CCO',\n",
       "     'pdb_id': '1CLL',\n",
       "     'pdb_chain': 'A',\n",
       "     'num_heavy_atoms': 2,\n",
       "     'frac_resolved': 1.5,\n",
       "     'affinity': None}],\n",
       "   'domain_aligment': {'interacting_domains': [0],\n",
       "    'pdb_resi_ranges': [[4, 78]],\n",
       "    'af_resi_ranges': [[5, 79]],\n",
       "    'af_aln': 'LTEEQIAEFKEAFSLFDKDGDGTITTKELGTVMRSLGQNPTEAELQDMINEVDADGNGTIDFPEFLTMMARKMKD',\n",
       "    'pdb_aln': 'LTEEQIAEFKEAFSLFDKDGDGTITTKELGTVMRSLGQNPTEAELQDMINEVDADGNGTIDFPEFLTMMARKMKD',\n",
       "    'pdb_af_identity': 1.0,\n",
       "    'rmsd_aln': 0.7541528344154358},\n",
       "   'bsite_analysis': {'nresidues': 8,\n",
       "    'rmsd_ca': 0.45587425000000015,\n",
       "    'identity': 1.0,\n",
       "    'resnums_pdb': [19, 27, 32, 55, 63, 68, 71, 72],\n",
       "    'resnums_af': [20, 28, 33, 56, 64, 69, 72, 73],\n",
       "    'seq_pdb': 'FILVIFMM',\n",
       "    'seq_af': 'FILVIFMM'}}]}"
      ]
     },
     "execution_count": 118,
     "metadata": {},
     "output_type": "execute_result"
    }
   ],
   "source": [
    "case_dicts['1CLL_A']"
   ]
  },
  {
   "cell_type": "code",
   "execution_count": null,
   "metadata": {},
   "outputs": [],
   "source": []
  }
 ],
 "metadata": {
  "kernelspec": {
   "display_name": "alphadock",
   "language": "python",
   "name": "alphadock"
  },
  "language_info": {
   "codemirror_mode": {
    "name": "ipython",
    "version": 3
   },
   "file_extension": ".py",
   "mimetype": "text/x-python",
   "name": "python",
   "nbconvert_exporter": "python",
   "pygments_lexer": "ipython3",
   "version": "3.7.9"
  }
 },
 "nbformat": 4,
 "nbformat_minor": 4
}
