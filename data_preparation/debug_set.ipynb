{
 "cells": [
  {
   "cell_type": "code",
   "execution_count": 1,
   "metadata": {},
   "outputs": [
    {
     "name": "stderr",
     "output_type": "stream",
     "text": [
      "RDKit WARNING: [11:15:07] Enabling RDKit 2019.09.3 jupyter extensions\n"
     ]
    }
   ],
   "source": [
    "import pandas as pd\n",
    "import numpy as np\n",
    "from glob import glob\n",
    "from path import Path\n",
    "import json\n",
    "import seaborn as sns\n",
    "import prody\n",
    "from multiprocessing import Pool\n",
    "from tqdm import tqdm\n",
    "import itertools\n",
    "import json\n",
    "from rdkit import Chem\n",
    "from rdkit.Chem import AllChem\n",
    "from io import StringIO\n",
    "from collections import OrderedDict, Counter\n",
    "import traceback\n",
    "import urllib\n",
    "import pybel\n",
    "from copy import deepcopy\n",
    "from multiprocessing import Pool\n",
    "from pymol import cmd\n",
    "\n",
    "pd.set_option('display.max_columns', None)\n",
    "\n",
    "from pocketdock.ligand.ligand_expo import LigandExpo\n",
    "from pocketdock import utils\n",
    "from pocketdock import pdb_tools"
   ]
  },
  {
   "cell_type": "code",
   "execution_count": 3,
   "metadata": {},
   "outputs": [],
   "source": [
    "case_dict = utils.read_json('data/cases/4RX7_A/case.json')"
   ]
  },
  {
   "cell_type": "code",
   "execution_count": 7,
   "metadata": {},
   "outputs": [],
   "source": [
    "group_dict = case_dict['ligand_groups'][0]"
   ]
  },
  {
   "cell_type": "code",
   "execution_count": 8,
   "metadata": {
    "scrolled": true
   },
   "outputs": [
    {
     "data": {
      "text/plain": [
       "{'name': '3YV_GOL',\n",
       " 'ligands': [{'sdf_id': '4rx7_3YV_1_A_703__D___',\n",
       "   'chemid': '3YV',\n",
       "   'smiles': 'c1cc(cc(c1)n2nccn2)Nc3c(nnc(n3)N[C@@H]4CCCC[C@@H]4N)C(=O)N',\n",
       "   'pdb_id': '4RX7',\n",
       "   'pdb_chain': 'A',\n",
       "   'num_heavy_atoms': 29,\n",
       "   'frac_resolved': 1.0,\n",
       "   'affinity': {'comp_id': '3YV',\n",
       "    'type': 'IC50',\n",
       "    'value': 5.0,\n",
       "    'unit': 'nM',\n",
       "    'provenance_code': 'Binding MOAD',\n",
       "    'link': 'http://www.bindingmoad.org/pdbrecords/index/4rx7'}},\n",
       "  {'sdf_id': '4rx7_GOL_1_A_702__C___',\n",
       "   'chemid': 'GOL',\n",
       "   'smiles': 'C(C(CO)O)O',\n",
       "   'pdb_id': '4RX7',\n",
       "   'pdb_chain': 'A',\n",
       "   'num_heavy_atoms': 6,\n",
       "   'frac_resolved': 1.0,\n",
       "   'affinity': None}],\n",
       " 'domain_aligment': {'interacting_domains': [0, 1],\n",
       "  'pdb_resi_ranges': [[363, 450], [451, 635]],\n",
       "  'af_resi_ranges': [[363, 450], [451, 635]],\n",
       "  'af_aln': 'VYLDRKLLTLEDKELGSGNFGTVKKGYYQMKKVVKTVAVKILKNEANDPALKDELLAEANVMQQLDNPYIVRMIGICEAESWMLVMEMAELGPLNKYLQQNRHVKDKNIIELVHQVSMGMKYLEESNFVHRDLAARNVLLVTQHYAKISDFGLSKALRADENYYKAQTHGKWPVKWYAPECINYYKFSSKSDVWSFGVLMWEAFSYGQKPYRGMKGSEVTAMLEKGERMGCPAGCPREMYDLMNLCWTYDVENRPGFAAVELRLRNYYYDVVN',\n",
       "  'pdb_aln': 'VYLDRKLLTLEDKELGSGNFGTVKKGYYQMKKVVKTVAVKILKNEPALKDELLAE---ANVMQQLDNPYIVRMIGICEAESWMLVMEMAELGPLNKYLQQNRHVTDKNIIELVHQVSMGMKYLEESNFVHRDLAARNVLLVTQHYAKISDFGLSKALRADENYYKAQTHGKWPVKWYAPECINYYKFSSKSDVWSFGVLMWEAFSYGQKPYRGMKGSEVTAMLEKGERMGCPAGCPREMYDLMNLCWTYDVENRPGFAAVELRLRNYYYDVVN',\n",
       "  'pdb_af_identity': 0.9592592592592593,\n",
       "  'rmsd_aln': 0.7653332948684692},\n",
       " 'bsite_analysis': {'nresidues': 28,\n",
       "  'rmsd_ca': 1.8780456071428575,\n",
       "  'identity': 0.9642857142857143,\n",
       "  'resnums_pdb': [377,\n",
       "   378,\n",
       "   379,\n",
       "   380,\n",
       "   381,\n",
       "   382,\n",
       "   385,\n",
       "   400,\n",
       "   402,\n",
       "   420,\n",
       "   433,\n",
       "   448,\n",
       "   449,\n",
       "   450,\n",
       "   451,\n",
       "   452,\n",
       "   453,\n",
       "   454,\n",
       "   455,\n",
       "   458,\n",
       "   494,\n",
       "   496,\n",
       "   498,\n",
       "   499,\n",
       "   500,\n",
       "   501,\n",
       "   511,\n",
       "   512],\n",
       "  'resnums_af': [377,\n",
       "   378,\n",
       "   379,\n",
       "   380,\n",
       "   381,\n",
       "   382,\n",
       "   385,\n",
       "   400,\n",
       "   402,\n",
       "   417,\n",
       "   433,\n",
       "   448,\n",
       "   449,\n",
       "   450,\n",
       "   451,\n",
       "   452,\n",
       "   453,\n",
       "   454,\n",
       "   455,\n",
       "   458,\n",
       "   494,\n",
       "   496,\n",
       "   498,\n",
       "   499,\n",
       "   500,\n",
       "   501,\n",
       "   511,\n",
       "   512],\n",
       "  'seq_pdb': 'LGSGNFVAKEVMEMAELGPKDARNVLSD',\n",
       "  'seq_af': 'LGSGNFVAKLVMEMAELGPKDARNVLSD'}}"
      ]
     },
     "execution_count": 8,
     "metadata": {},
     "output_type": "execute_result"
    }
   ],
   "source": [
    "group_dict"
   ]
  },
  {
   "cell_type": "code",
   "execution_count": 10,
   "metadata": {},
   "outputs": [],
   "source": [
    "chemid_to_matches = utils.read_json('data/chemid_to_matches.json')"
   ]
  },
  {
   "cell_type": "code",
   "execution_count": 11,
   "metadata": {
    "scrolled": true
   },
   "outputs": [
    {
     "data": {
      "text/plain": [
       "{'01P': {'ref_chemid': '01P',\n",
       "  'ref_smiles': 'COc1cc(ccc1N2CCOCC2)Nc3nccc(n3)Nc4cc5ccccc5nc4',\n",
       "  'mcs_flags': ['r'],\n",
       "  'fp_tanimoto': 0.3416974169741697,\n",
       "  'mcs_tar_coverage': 0.6551724137931034,\n",
       "  'mcs_ref_coverage': 0.59375,\n",
       "  'mcs_tanimoto': 0.4523809523809524,\n",
       "  'mcs_smarts': '[#6&R](:&@[#6&R]:&@[#6&R](:&@[#6&R])-&!@[#7&!R]-&!@[#6&R](:&@[#6&R]):&@[#7&R]:&@[#6&R](:&@[#7&R])-&!@[#7&!R]-&!@[#6&R]1-,:;@[#6&R]-,:;@[#6&R]-,:;@[#6&R]-,:;@[#6&R]-,:;@[#6&R]-,:;@1):&@[#6&R]:&@[#6&R]',\n",
       "  'mcs_num_atoms': 19,\n",
       "  'mcs_num_bonds': 19},\n",
       " '02Z': {'ref_chemid': '02Z',\n",
       "  'ref_smiles': 'c1ccc(cc1)Nc2nc(c(s2)C(=O)N)N',\n",
       "  'mcs_flags': ['r'],\n",
       "  'fp_tanimoto': 0.44653349001175086,\n",
       "  'mcs_tar_coverage': 0.5172413793103449,\n",
       "  'mcs_ref_coverage': 0.9375,\n",
       "  'mcs_tanimoto': 0.5,\n",
       "  'mcs_smarts': '[#6&R]1:,-;@[#6&R]:,-;@[#6&R]:,-;@[#6&R](:,-;@[#6&R]:,-;@[#6&R]:,-;@1)-&!@[#7&!R]-&!@[#6&R]:&@[#7&R]:&@[#6&R](:&@[#6&R]-&!@[#6&!R](=&!@[#8&!R])-&!@[#7&!R])-&!@[#7&!R]',\n",
       "  'mcs_num_atoms': 15,\n",
       "  'mcs_num_bonds': 15},\n",
       " '0F5': {'ref_chemid': '0F5',\n",
       "  'ref_smiles': 'c1cc(cc(c1)c2cncc(n2)NC3CCC(CC3)N)CC4=[S@@H]C(=O)NC4=O',\n",
       "  'mcs_flags': ['r'],\n",
       "  'fp_tanimoto': 0.3557483731019523,\n",
       "  'mcs_tar_coverage': 0.41379310344827586,\n",
       "  'mcs_ref_coverage': 0.42857142857142855,\n",
       "  'mcs_tanimoto': 0.26666666666666666,\n",
       "  'mcs_smarts': '[#6&R](:&@[#6&R]:&@[#7&R]):&@[#7&R]:&@[#6&R]-&!@[#7&!R]-&!@[#6&R]1-&@[#6&R]-&@[#6&R]-&@[#6&R]-&@[#6&R]-&@[#6&R]-&@1',\n",
       "  'mcs_num_atoms': 12,\n",
       "  'mcs_num_bonds': 12},\n",
       " '0XF': {'ref_chemid': '0XF',\n",
       "  'ref_smiles': 'Cc1ccc(nc1C)Nc2cc(nnc2C(=O)N)N[C@@H]3CCCC[C@@H]3N',\n",
       "  'mcs_flags': ['r'],\n",
       "  'fp_tanimoto': 0.4686588921282799,\n",
       "  'mcs_tar_coverage': 0.7586206896551724,\n",
       "  'mcs_ref_coverage': 0.8461538461538461,\n",
       "  'mcs_tanimoto': 0.6666666666666666,\n",
       "  'mcs_smarts': '[#6&R](:&@[#6&R]:&@[#6&R]:&@[#6&R]-&!@[#7&!R]-&!@[#6&R]:&@[#6&R](:&@[#7&R]:&@[#7&R]:&@[#6&R]-&!@[#7&!R]-&!@[#6&R]1-&@[#6&R]-&@[#6&R]-&@[#6&R]-&@[#6&R]-&@[#6&R]-&@1-&!@[#7&!R])-&!@[#6&!R](=&!@[#8&!R])-&!@[#7&!R]):&@[#6&R]',\n",
       "  'mcs_num_atoms': 22,\n",
       "  'mcs_num_bonds': 22}}"
      ]
     },
     "execution_count": 11,
     "metadata": {},
     "output_type": "execute_result"
    }
   ],
   "source": [
    "chemid_to_matches['3YV']"
   ]
  },
  {
   "cell_type": "code",
   "execution_count": 12,
   "metadata": {},
   "outputs": [
    {
     "name": "stderr",
     "output_type": "stream",
     "text": [
      "100%|██████████| 20562/20562 [01:22<00:00, 249.84it/s] \n"
     ]
    }
   ],
   "source": [
    "cases = OrderedDict((x.dirname().basename(), utils.read_json(x)) for x in tqdm(sorted(Path('data/cases').glob('*/case.json'))))\n"
   ]
  },
  {
   "cell_type": "code",
   "execution_count": 33,
   "metadata": {},
   "outputs": [
    {
     "data": {
      "text/plain": [
       "'4RX7_A'"
      ]
     },
     "execution_count": 33,
     "metadata": {},
     "output_type": "execute_result"
    }
   ],
   "source": [
    "case_dict['case_name']"
   ]
  },
  {
   "cell_type": "code",
   "execution_count": 36,
   "metadata": {},
   "outputs": [],
   "source": [
    "frag_templates = []\n",
    "for lig_id, lig in enumerate(group_dict['ligands']):\n",
    "    sim_ligs = chemid_to_matches[lig['chemid']]\n",
    "    for sim_chemid, sim_dict in sim_ligs.items():\n",
    "        pdbs = LigandExpo.get_pdb_list(sim_chemid)\n",
    "        #print(lig['chemid'], sim_chemid, pdbs)\n",
    "        for pdb in pdbs:\n",
    "            chains = [x for x in cases.keys() if x[:4] == pdb]\n",
    "            for chain in chains:\n",
    "                if chain == case_dict['case_name']:\n",
    "                    continue\n",
    "                chain_dict = cases[chain]\n",
    "                for sim_id, sim_group in enumerate(chain_dict['ligand_groups']):\n",
    "                    if sim_chemid in sim_group['name']:\n",
    "                        for sim_lig_id, sim_lig_dict in enumerate(sim_group['ligands']):\n",
    "                            if sim_chemid == sim_lig_dict['chemid']:\n",
    "                                break\n",
    "                        frag_templates.append({\n",
    "                            'tar_chemid': lig['chemid'],\n",
    "                            'tar_smiles': lig['smiles'],\n",
    "                            'tar_lig_id': lig_id,\n",
    "                            'tpl_chain': chain,\n",
    "                            'tpl_group': sim_group['name'],\n",
    "                            'tpl_group_id': sim_id,\n",
    "                            'tpl_chemid': sim_chemid,\n",
    "                            'tpl_lig_id': sim_lig_id,\n",
    "                            'match': sim_dict\n",
    "                        })"
   ]
  },
  {
   "cell_type": "code",
   "execution_count": 37,
   "metadata": {},
   "outputs": [
    {
     "data": {
      "text/plain": [
       "8"
      ]
     },
     "execution_count": 37,
     "metadata": {},
     "output_type": "execute_result"
    }
   ],
   "source": [
    "len(frag_templates)"
   ]
  },
  {
   "cell_type": "code",
   "execution_count": 41,
   "metadata": {},
   "outputs": [],
   "source": [
    "Path('data/train_split').mkdir_p()\n",
    "\n",
    "debug_case = {\n",
    "    'case_name': case_dict['case_name'],\n",
    "    'group_name': group_dict['name'],\n",
    "    'fragment_templates': frag_templates,\n",
    "    'hhpred_templates': []\n",
    "}\n",
    "\n",
    "utils.write_json([debug_case], 'data/train_split/debug.json')"
   ]
  },
  {
   "cell_type": "code",
   "execution_count": 23,
   "metadata": {},
   "outputs": [
    {
     "data": {
      "image/png": "[encoded data removed]",
      "text/plain": [
       "<rdkit.Chem.rdchem.Mol at 0x7f8ee0f1d9e0>"
      ]
     },
     "execution_count": 23,
     "metadata": {},
     "output_type": "execute_result"
    }
   ],
   "source": [
    "Chem.MolFromSmiles('c1cc(cc(c1)n2nccn2)Nc3c(nnc(n3)N[C@@H]4CCCC[C@@H]4N)C(=O)N')"
   ]
  },
  {
   "cell_type": "code",
   "execution_count": 24,
   "metadata": {},
   "outputs": [
    {
     "data": {
      "image/png": "[encoded data removed]",
      "text/plain": [
       "<rdkit.Chem.rdchem.Mol at 0x7f8ee0ecb3a0>"
      ]
     },
     "execution_count": 24,
     "metadata": {},
     "output_type": "execute_result"
    }
   ],
   "source": [
    "Chem.MolFromSmiles('COc1cc(ccc1N2CCOCC2)Nc3nccc(n3)Nc4cc5ccccc5nc4')"
   ]
  },
  {
   "cell_type": "code",
   "execution_count": null,
   "metadata": {},
   "outputs": [],
   "source": []
  }
 ],
 "metadata": {
  "kernelspec": {
   "display_name": "pocket_dock",
   "language": "python",
   "name": "pocket_dock"
  },
  "language_info": {
   "codemirror_mode": {
    "name": "ipython",
    "version": 3
   },
   "file_extension": ".py",
   "mimetype": "text/x-python",
   "name": "python",
   "nbconvert_exporter": "python",
   "pygments_lexer": "ipython3",
   "version": "3.7.9"
  }
 },
 "nbformat": 4,
 "nbformat_minor": 4
}
