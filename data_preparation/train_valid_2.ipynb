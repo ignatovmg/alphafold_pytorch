{
 "cells": [
  {
   "cell_type": "code",
   "execution_count": 15,
   "id": "b9b97ab1",
   "metadata": {},
   "outputs": [],
   "source": [
    "from alphadock import utils\n",
    "from alphadock import features\n",
    "from tqdm import tqdm\n",
    "from path import Path\n",
    "from collections import Counter"
   ]
  },
  {
   "cell_type": "code",
   "execution_count": 28,
   "id": "fae115c8",
   "metadata": {},
   "outputs": [],
   "source": [
    "train = utils.read_json('data/train_split/train_12k.json')\n",
    "valid = utils.read_json('data/train_split/valid_12k.json')"
   ]
  },
  {
   "cell_type": "code",
   "execution_count": 29,
   "id": "2d20e4d5",
   "metadata": {},
   "outputs": [
    {
     "data": {
      "text/plain": [
       "(11491, 305)"
      ]
     },
     "execution_count": 29,
     "metadata": {},
     "output_type": "execute_result"
    }
   ],
   "source": [
    "len(train['cases']), len(valid['cases'])"
   ]
  },
  {
   "cell_type": "code",
   "execution_count": 14,
   "id": "352910c6",
   "metadata": {},
   "outputs": [],
   "source": [
    "case_dicts = {x.dirname().basename(): utils.read_json(x) for x in Path('data/cases').glob('*/case.json')}"
   ]
  },
  {
   "cell_type": "code",
   "execution_count": 30,
   "id": "727e1b80",
   "metadata": {},
   "outputs": [
    {
     "name": "stderr",
     "output_type": "stream",
     "text": [
      "100%|██████████| 11491/11491 [00:00<00:00, 299328.93it/s]\n"
     ]
    }
   ],
   "source": [
    "junk_chemids = set(['SO4', 'GOL', 'EDO', 'PO4', 'ACT', 'HEM', 'PEG', 'DMS', 'MPD', 'ACE', 'NAG'])\n",
    "\n",
    "cases_filt = []\n",
    "for case in tqdm(train['cases']):\n",
    "    if set(case['group_name'].split('_')).issubset(junk_chemids):\n",
    "        continue\n",
    "    case_dict = case_dicts[case['case_name']]\n",
    "    group_dict = {x['name']: x for x in case_dict['ligand_groups']}[case['group_name']]\n",
    "    group_size = sum([x['num_heavy_atoms'] for x in group_dict['ligands']])\n",
    "    if group_size < 6:\n",
    "        continue\n",
    "    cases_filt.append(case)\n",
    "    \n",
    "train['cases'] = cases_filt\n",
    "seqclus_counts = Counter([case_dicts[x['case_name']]['seqclus30'] for x in cases_filt])\n",
    "for case in train['cases']:\n",
    "    case['seqclus_size'] = seqclus_counts[case_dicts[case['case_name']]['seqclus30']]"
   ]
  },
  {
   "cell_type": "code",
   "execution_count": 31,
   "id": "142c94bb",
   "metadata": {},
   "outputs": [
    {
     "name": "stderr",
     "output_type": "stream",
     "text": [
      "100%|██████████| 305/305 [00:00<00:00, 442804.68it/s]\n"
     ]
    }
   ],
   "source": [
    "cases_filt = []\n",
    "for case in tqdm(valid['cases']):\n",
    "    if set(case['group_name'].split('_')).issubset(junk_chemids):\n",
    "        continue\n",
    "    case_dict = case_dicts[case['case_name']]\n",
    "    group_dict = {x['name']: x for x in case_dict['ligand_groups']}[case['group_name']]\n",
    "    group_size = sum([x['num_heavy_atoms'] for x in group_dict['ligands']])\n",
    "    if group_size < 6:\n",
    "        continue\n",
    "    cases_filt.append(case)\n",
    "    \n",
    "valid['cases'] = cases_filt\n",
    "seqclus_counts = Counter([case_dicts[x['case_name']]['seqclus30'] for x in cases_filt])\n",
    "for case in valid['cases']:\n",
    "    case['seqclus_size'] = seqclus_counts[case_dicts[case['case_name']]['seqclus30']]"
   ]
  },
  {
   "cell_type": "code",
   "execution_count": 32,
   "id": "60f0777a",
   "metadata": {},
   "outputs": [],
   "source": [
    "utils.write_json(train, 'data/train_split/train_12k_cleaned.json')\n",
    "utils.write_json(valid, 'data/train_split/valid_12k_cleaned.json')"
   ]
  },
  {
   "cell_type": "code",
   "execution_count": 33,
   "id": "118e677b",
   "metadata": {},
   "outputs": [
    {
     "data": {
      "text/plain": [
       "8904"
      ]
     },
     "execution_count": 33,
     "metadata": {},
     "output_type": "execute_result"
    }
   ],
   "source": [
    "len(train['cases'])"
   ]
  },
  {
   "cell_type": "code",
   "execution_count": 34,
   "id": "e721b171",
   "metadata": {},
   "outputs": [
    {
     "data": {
      "text/plain": [
       "[{'case_name': '10GS_A', 'group_name': 'VWW', 'seqclus_size': 44},\n",
       " {'case_name': '11GS_A', 'group_name': 'EAA_GSH', 'seqclus_size': 44},\n",
       " {'case_name': '12AS_A', 'group_name': 'AMP', 'seqclus_size': 1},\n",
       " {'case_name': '12GS_B', 'group_name': '0HH', 'seqclus_size': 44},\n",
       " {'case_name': '13GS_B', 'group_name': 'GSH_SAS', 'seqclus_size': 44},\n",
       " {'case_name': '17GS_A', 'group_name': 'GTX', 'seqclus_size': 44},\n",
       " {'case_name': '18GS_A', 'group_name': 'GDN', 'seqclus_size': 44},\n",
       " {'case_name': '19GS_A', 'group_name': 'GSH', 'seqclus_size': 44},\n",
       " {'case_name': '1A28_A', 'group_name': 'STR', 'seqclus_size': 110},\n",
       " {'case_name': '1A2B_A', 'group_name': 'GSP_MG', 'seqclus_size': 60},\n",
       " {'case_name': '1A42_A', 'group_name': 'BZU_ZN', 'seqclus_size': 256},\n",
       " {'case_name': '1A4L_A', 'group_name': 'DCF_ZN', 'seqclus_size': 10},\n",
       " {'case_name': '1A4M_A', 'group_name': 'PRH_ZN', 'seqclus_size': 10},\n",
       " {'case_name': '1A52_A', 'group_name': 'EST', 'seqclus_size': 495},\n",
       " {'case_name': '1A69_A', 'group_name': 'FMB_SO4', 'seqclus_size': 5},\n",
       " {'case_name': '1A99_A', 'group_name': 'PUT', 'seqclus_size': 3},\n",
       " {'case_name': '1A9U_A', 'group_name': 'SB2', 'seqclus_size': 235},\n",
       " {'case_name': '1ABN_A', 'group_name': 'NDP', 'seqclus_size': 17},\n",
       " {'case_name': '1AC4_A', 'group_name': 'TMT', 'seqclus_size': 48},\n",
       " {'case_name': '1AC8_A', 'group_name': 'TMZ', 'seqclus_size': 48},\n",
       " {'case_name': '1ADD_A', 'group_name': '1DA_ZN', 'seqclus_size': 10},\n",
       " {'case_name': '1AEB_A', 'group_name': '3MT', 'seqclus_size': 48},\n",
       " {'case_name': '1AED_A', 'group_name': 'DTI', 'seqclus_size': 48},\n",
       " {'case_name': '1AEE_A', 'group_name': 'ANL', 'seqclus_size': 48},\n",
       " {'case_name': '1AEF_A', 'group_name': '3AP', 'seqclus_size': 48},\n",
       " {'case_name': '1AEG_A', 'group_name': '4AP', 'seqclus_size': 48},\n",
       " {'case_name': '1AEH_A', 'group_name': '24T', 'seqclus_size': 48},\n",
       " {'case_name': '1AEK_A', 'group_name': 'IDM', 'seqclus_size': 48},\n",
       " {'case_name': '1AEN_A', 'group_name': '25T', 'seqclus_size': 48},\n",
       " {'case_name': '1AEO_A', 'group_name': '2AP', 'seqclus_size': 48},\n",
       " {'case_name': '1AEQ_A', 'group_name': '2EZ', 'seqclus_size': 48},\n",
       " {'case_name': '1AET_A', 'group_name': '1MZ', 'seqclus_size': 48},\n",
       " {'case_name': '1AEU_A', 'group_name': '2MZ', 'seqclus_size': 48},\n",
       " {'case_name': '1AEV_A', 'group_name': 'AMT', 'seqclus_size': 48},\n",
       " {'case_name': '1AG9_A', 'group_name': 'FMN', 'seqclus_size': 1},\n",
       " {'case_name': '1AGR_A', 'group_name': 'ALF_GDP_MG', 'seqclus_size': 63},\n",
       " {'case_name': '1AGS_A', 'group_name': 'GTX', 'seqclus_size': 15},\n",
       " {'case_name': '1AGW_A', 'group_name': 'SU2', 'seqclus_size': 534},\n",
       " {'case_name': '1AHH_A', 'group_name': 'NAD', 'seqclus_size': 48},\n",
       " {'case_name': '1AIA_A', 'group_name': 'PMP', 'seqclus_size': 5},\n",
       " {'case_name': '1AM4_D', 'group_name': 'GNP_MG', 'seqclus_size': 60},\n",
       " {'case_name': '1AM6_A', 'group_name': 'HAE_ZN', 'seqclus_size': 256},\n",
       " {'case_name': '1AQ1_A', 'group_name': 'STU', 'seqclus_size': 412},\n",
       " {'case_name': '1AQY_A', 'group_name': 'A3P', 'seqclus_size': 25},\n",
       " {'case_name': '1ARG_A', 'group_name': 'PPD', 'seqclus_size': 5},\n",
       " {'case_name': '1ARH_A', 'group_name': 'PPD', 'seqclus_size': 5},\n",
       " {'case_name': '1AS0_A', 'group_name': 'GSP_MG', 'seqclus_size': 63},\n",
       " {'case_name': '1AS2_A', 'group_name': 'GDP_PO4', 'seqclus_size': 63},\n",
       " {'case_name': '1AS3_A', 'group_name': 'GDP', 'seqclus_size': 63},\n",
       " {'case_name': '1ASL_A', 'group_name': 'PLA', 'seqclus_size': 5},\n",
       " {'case_name': '1AZM_A', 'group_name': 'AZM_ZN', 'seqclus_size': 256},\n",
       " {'case_name': '1B48_A', 'group_name': 'HAG', 'seqclus_size': 15},\n",
       " {'case_name': '1B48_B', 'group_name': 'GSH', 'seqclus_size': 15},\n",
       " {'case_name': '1B4S_A', 'group_name': 'ADP_MG_PO4', 'seqclus_size': 14},\n",
       " {'case_name': '1B56_A', 'group_name': 'PLM', 'seqclus_size': 85},\n",
       " {'case_name': '1B6S_A', 'group_name': 'ADP_MG', 'seqclus_size': 1},\n",
       " {'case_name': '1B99_B', 'group_name': 'POP', 'seqclus_size': 14},\n",
       " {'case_name': '1BCD_A', 'group_name': 'FMS_ZN', 'seqclus_size': 256},\n",
       " {'case_name': '1BDH_A', 'group_name': 'HPA', 'seqclus_size': 15},\n",
       " {'case_name': '1BDI_A', 'group_name': 'HPA', 'seqclus_size': 15},\n",
       " {'case_name': '1BEM_A', 'group_name': 'MES', 'seqclus_size': 48},\n",
       " {'case_name': '1BEQ_A', 'group_name': 'MES', 'seqclus_size': 48},\n",
       " {'case_name': '1BES_A', 'group_name': 'MES', 'seqclus_size': 48},\n",
       " {'case_name': '1BH2_A', 'group_name': 'GSP_MG', 'seqclus_size': 1},\n",
       " {'case_name': '1BIB_A', 'group_name': 'BTN', 'seqclus_size': 3},\n",
       " {'case_name': '1BL6_A', 'group_name': 'SB6', 'seqclus_size': 235},\n",
       " {'case_name': '1BL7_A', 'group_name': 'SB4', 'seqclus_size': 235},\n",
       " {'case_name': '1BMK_A', 'group_name': 'SB5', 'seqclus_size': 235},\n",
       " {'case_name': '1BN1_A', 'group_name': 'AL5_ZN', 'seqclus_size': 256},\n",
       " {'case_name': '1BN4_A', 'group_name': 'AL9_ZN', 'seqclus_size': 256},\n",
       " {'case_name': '1BNM_A', 'group_name': 'AL8_ZN', 'seqclus_size': 256},\n",
       " {'case_name': '1BNN_A', 'group_name': 'AL1_ZN', 'seqclus_size': 256},\n",
       " {'case_name': '1BNQ_A', 'group_name': 'AL4_ZN', 'seqclus_size': 256},\n",
       " {'case_name': '1BNT_A', 'group_name': 'AL2_ZN', 'seqclus_size': 256},\n",
       " {'case_name': '1BNU_A', 'group_name': 'AL3_ZN', 'seqclus_size': 256},\n",
       " {'case_name': '1BNV_A', 'group_name': 'AL7_ZN', 'seqclus_size': 256},\n",
       " {'case_name': '1BNW_A', 'group_name': 'TPD_ZN', 'seqclus_size': 256},\n",
       " {'case_name': '1BO6_A', 'group_name': 'A3P_VO4', 'seqclus_size': 25},\n",
       " {'case_name': '1BQ3_A', 'group_name': 'IHP', 'seqclus_size': 11},\n",
       " {'case_name': '1BQ4_A', 'group_name': 'BHC', 'seqclus_size': 11},\n",
       " {'case_name': '1BS4_C', 'group_name': '2PE_ZN', 'seqclus_size': 7},\n",
       " {'case_name': '1BSV_A', 'group_name': 'NDP', 'seqclus_size': 9},\n",
       " {'case_name': '1BSX_A', 'group_name': 'T3', 'seqclus_size': 495},\n",
       " {'case_name': '1BUX_A', 'group_name': 'PPS', 'seqclus_size': 14},\n",
       " {'case_name': '1BVR_D', 'group_name': 'NAD', 'seqclus_size': 48},\n",
       " {'case_name': '1BWS_A', 'group_name': 'NDP', 'seqclus_size': 9},\n",
       " {'case_name': '1BXK_A', 'group_name': 'NAD', 'seqclus_size': 16},\n",
       " {'case_name': '1BYG_A', 'group_name': 'STU', 'seqclus_size': 534},\n",
       " {'case_name': '1BZM_A', 'group_name': 'MZM_ZN', 'seqclus_size': 256},\n",
       " {'case_name': '1C1Y_A', 'group_name': 'GTP_MG', 'seqclus_size': 129},\n",
       " {'case_name': '1C81_A', 'group_name': 'FDQ', 'seqclus_size': 1},\n",
       " {'case_name': '1C8U_A', 'group_name': 'LDA', 'seqclus_size': 1},\n",
       " {'case_name': '1CAI_A', 'group_name': 'SO4_ZN', 'seqclus_size': 256},\n",
       " {'case_name': '1CAJ_A', 'group_name': 'SO4_ZN', 'seqclus_size': 256},\n",
       " {'case_name': '1CB0_A', 'group_name': 'ADE', 'seqclus_size': 1},\n",
       " {'case_name': '1CBR_A', 'group_name': 'REA', 'seqclus_size': 85},\n",
       " {'case_name': '1CCI_A', 'group_name': 'DMI', 'seqclus_size': 48},\n",
       " {'case_name': '1CCU_A', 'group_name': 'SO4_ZN', 'seqclus_size': 256},\n",
       " {'case_name': '1CDE_A', 'group_name': 'DZF_GAR', 'seqclus_size': 14},\n",
       " {'case_name': '1CIL_A', 'group_name': 'ETS_ZN', 'seqclus_size': 256}]"
      ]
     },
     "execution_count": 34,
     "metadata": {},
     "output_type": "execute_result"
    }
   ],
   "source": [
    "train['cases'][:100]"
   ]
  },
  {
   "cell_type": "code",
   "execution_count": null,
   "id": "0ac9b977",
   "metadata": {},
   "outputs": [],
   "source": []
  }
 ],
 "metadata": {
  "kernelspec": {
   "display_name": "alphadock",
   "language": "python",
   "name": "alphadock"
  },
  "language_info": {
   "codemirror_mode": {
    "name": "ipython",
    "version": 3
   },
   "file_extension": ".py",
   "mimetype": "text/x-python",
   "name": "python",
   "nbconvert_exporter": "python",
   "pygments_lexer": "ipython3",
   "version": "3.7.9"
  }
 },
 "nbformat": 4,
 "nbformat_minor": 5
}
